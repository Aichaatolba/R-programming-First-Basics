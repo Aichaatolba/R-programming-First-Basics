{
 "cells": [
  {
   "cell_type": "code",
   "execution_count": 8,
   "metadata": {},
   "outputs": [
    {
     "data": {
      "text/html": [
       "TRUE"
      ],
      "text/latex": [
       "TRUE"
      ],
      "text/markdown": [
       "TRUE"
      ],
      "text/plain": [
       "[1] TRUE"
      ]
     },
     "metadata": {},
     "output_type": "display_data"
    },
    {
     "data": {
      "text/html": [
       "FALSE"
      ],
      "text/latex": [
       "FALSE"
      ],
      "text/markdown": [
       "FALSE"
      ],
      "text/plain": [
       "[1] FALSE"
      ]
     },
     "metadata": {},
     "output_type": "display_data"
    },
    {
     "data": {
      "text/html": [
       "'HELLO'"
      ],
      "text/latex": [
       "'HELLO'"
      ],
      "text/markdown": [
       "'HELLO'"
      ],
      "text/plain": [
       "[1] \"HELLO\""
      ]
     },
     "metadata": {},
     "output_type": "display_data"
    },
    {
     "data": {
      "text/html": [
       "'HELLO'"
      ],
      "text/latex": [
       "'HELLO'"
      ],
      "text/markdown": [
       "'HELLO'"
      ],
      "text/plain": [
       "[1] \"HELLO\""
      ]
     },
     "metadata": {},
     "output_type": "display_data"
    },
    {
     "data": {
      "text/html": [
       "'logical'"
      ],
      "text/latex": [
       "'logical'"
      ],
      "text/markdown": [
       "'logical'"
      ],
      "text/plain": [
       "[1] \"logical\""
      ]
     },
     "metadata": {},
     "output_type": "display_data"
    },
    {
     "data": {
      "text/html": [
       "'numeric'"
      ],
      "text/latex": [
       "'numeric'"
      ],
      "text/markdown": [
       "'numeric'"
      ],
      "text/plain": [
       "[1] \"numeric\""
      ]
     },
     "metadata": {},
     "output_type": "display_data"
    }
   ],
   "source": [
    "# R basic Data Types \n",
    "# numeric data type consists of decimal numbers , floating numbers , integers\n",
    "# logical data type consists of boolean values which are TRUE or FALSE\n",
    "TRUE \n",
    "FALSE\n",
    "a<-T\n",
    "b<-F\n",
    "# characters also known as strings , we can use either double or single quotes to make a character string \n",
    "'HELLO'\n",
    "\"HELLO\"\n",
    "# to find the class or data type of a variable , we use the CLASS function \n",
    "class(b)\n",
    "class(12)"
   ]
  },
  {
   "cell_type": "code",
   "execution_count": 34,
   "metadata": {},
   "outputs": [
    {
     "data": {
      "text/html": [
       "<style>\n",
       ".list-inline {list-style: none; margin:0; padding: 0}\n",
       ".list-inline>li {display: inline-block}\n",
       ".list-inline>li:not(:last-child)::after {content: \"\\00b7\"; padding: 0 .5ex}\n",
       "</style>\n",
       "<ol class=list-inline><li>12736</li><li>93212</li><li>8302</li><li>9327</li></ol>\n"
      ],
      "text/latex": [
       "\\begin{enumerate*}\n",
       "\\item 12736\n",
       "\\item 93212\n",
       "\\item 8302\n",
       "\\item 9327\n",
       "\\end{enumerate*}\n"
      ],
      "text/markdown": [
       "1. 12736\n",
       "2. 93212\n",
       "3. 8302\n",
       "4. 9327\n",
       "\n",
       "\n"
      ],
      "text/plain": [
       "[1] 12736 93212  8302  9327"
      ]
     },
     "metadata": {},
     "output_type": "display_data"
    },
    {
     "data": {
      "text/html": [
       "'numeric'"
      ],
      "text/latex": [
       "'numeric'"
      ],
      "text/markdown": [
       "'numeric'"
      ],
      "text/plain": [
       "[1] \"numeric\""
      ]
     },
     "metadata": {},
     "output_type": "display_data"
    },
    {
     "data": {
      "text/html": [
       "<style>\n",
       ".list-inline {list-style: none; margin:0; padding: 0}\n",
       ".list-inline>li {display: inline-block}\n",
       ".list-inline>li:not(:last-child)::after {content: \"\\00b7\"; padding: 0 .5ex}\n",
       "</style>\n",
       "<ol class=list-inline><li>'Aicha'</li><li>'Adriana'</li><li>'victor'</li><li>'carlos'</li></ol>\n"
      ],
      "text/latex": [
       "\\begin{enumerate*}\n",
       "\\item 'Aicha'\n",
       "\\item 'Adriana'\n",
       "\\item 'victor'\n",
       "\\item 'carlos'\n",
       "\\end{enumerate*}\n"
      ],
      "text/markdown": [
       "1. 'Aicha'\n",
       "2. 'Adriana'\n",
       "3. 'victor'\n",
       "4. 'carlos'\n",
       "\n",
       "\n"
      ],
      "text/plain": [
       "[1] \"Aicha\"   \"Adriana\" \"victor\"  \"carlos\" "
      ]
     },
     "metadata": {},
     "output_type": "display_data"
    },
    {
     "data": {
      "text/html": [
       "'character'"
      ],
      "text/latex": [
       "'character'"
      ],
      "text/markdown": [
       "'character'"
      ],
      "text/plain": [
       "[1] \"character\""
      ]
     },
     "metadata": {},
     "output_type": "display_data"
    },
    {
     "data": {
      "text/html": [
       "<style>\n",
       ".list-inline {list-style: none; margin:0; padding: 0}\n",
       ".list-inline>li {display: inline-block}\n",
       ".list-inline>li:not(:last-child)::after {content: \"\\00b7\"; padding: 0 .5ex}\n",
       "</style>\n",
       "<ol class=list-inline><li>'20209'</li><li>'Aicha'</li><li>'9372'</li></ol>\n"
      ],
      "text/latex": [
       "\\begin{enumerate*}\n",
       "\\item '20209'\n",
       "\\item 'Aicha'\n",
       "\\item '9372'\n",
       "\\end{enumerate*}\n"
      ],
      "text/markdown": [
       "1. '20209'\n",
       "2. 'Aicha'\n",
       "3. '9372'\n",
       "\n",
       "\n"
      ],
      "text/plain": [
       "[1] \"20209\" \"Aicha\" \"9372\" "
      ]
     },
     "metadata": {},
     "output_type": "display_data"
    },
    {
     "data": {
      "text/html": [
       "'character'"
      ],
      "text/latex": [
       "'character'"
      ],
      "text/markdown": [
       "'character'"
      ],
      "text/plain": [
       "[1] \"character\""
      ]
     },
     "metadata": {},
     "output_type": "display_data"
    },
    {
     "data": {
      "text/html": [
       "<style>\n",
       ".dl-inline {width: auto; margin:0; padding: 0}\n",
       ".dl-inline>dt, .dl-inline>dd {float: none; width: auto; display: inline-block}\n",
       ".dl-inline>dt::after {content: \":\\0020\"; padding-right: .5ex}\n",
       ".dl-inline>dt:not(:first-of-type) {padding-left: .5ex}\n",
       "</style><dl class=dl-inline><dt>Victor</dt><dd>2387</dd><dt>Maria</dt><dd>986</dd><dt>Karin</dt><dd>2638</dd><dt>Adriana</dt><dd>988</dd><dt>Carlos</dt><dd>3730</dd><dt>Mariam</dt><dd>6732</dd></dl>\n"
      ],
      "text/latex": [
       "\\begin{description*}\n",
       "\\item[Victor] 2387\n",
       "\\item[Maria] 986\n",
       "\\item[Karin] 2638\n",
       "\\item[Adriana] 988\n",
       "\\item[Carlos] 3730\n",
       "\\item[Mariam] 6732\n",
       "\\end{description*}\n"
      ],
      "text/markdown": [
       "Victor\n",
       ":   2387Maria\n",
       ":   986Karin\n",
       ":   2638Adriana\n",
       ":   988Carlos\n",
       ":   3730Mariam\n",
       ":   6732\n",
       "\n"
      ],
      "text/plain": [
       " Victor   Maria   Karin Adriana  Carlos  Mariam \n",
       "   2387     986    2638     988    3730    6732 "
      ]
     },
     "metadata": {},
     "output_type": "display_data"
    },
    {
     "data": {
      "text/html": [
       "<style>\n",
       ".list-inline {list-style: none; margin:0; padding: 0}\n",
       ".list-inline>li {display: inline-block}\n",
       ".list-inline>li:not(:last-child)::after {content: \"\\00b7\"; padding: 0 .5ex}\n",
       "</style>\n",
       "<ol class=list-inline><li>667</li><li>8598</li><li>2258</li></ol>\n"
      ],
      "text/latex": [
       "\\begin{enumerate*}\n",
       "\\item 667\n",
       "\\item 8598\n",
       "\\item 2258\n",
       "\\end{enumerate*}\n"
      ],
      "text/markdown": [
       "1. 667\n",
       "2. 8598\n",
       "3. 2258\n",
       "\n",
       "\n"
      ],
      "text/plain": [
       "[1]  667 8598 2258"
      ]
     },
     "metadata": {},
     "output_type": "display_data"
    },
    {
     "data": {
      "text/html": [
       "<style>\n",
       ".list-inline {list-style: none; margin:0; padding: 0}\n",
       ".list-inline>li {display: inline-block}\n",
       ".list-inline>li:not(:last-child)::after {content: \"\\00b7\"; padding: 0 .5ex}\n",
       "</style>\n",
       "<ol class=list-inline><li>16140</li><li>118512</li><li>38940</li></ol>\n"
      ],
      "text/latex": [
       "\\begin{enumerate*}\n",
       "\\item 16140\n",
       "\\item 118512\n",
       "\\item 38940\n",
       "\\end{enumerate*}\n"
      ],
      "text/markdown": [
       "1. 16140\n",
       "2. 118512\n",
       "3. 38940\n",
       "\n",
       "\n"
      ],
      "text/plain": [
       "[1]  16140 118512  38940"
      ]
     },
     "metadata": {},
     "output_type": "display_data"
    },
    {
     "data": {
      "text/html": [
       "<style>\n",
       ".list-inline {list-style: none; margin:0; padding: 0}\n",
       ".list-inline>li {display: inline-block}\n",
       ".list-inline>li:not(:last-child)::after {content: \"\\00b7\"; padding: 0 .5ex}\n",
       "</style>\n",
       "<ol class=list-inline><li>1.98377581120944</li><li>7.72769953051643</li><li>3.28774062816616</li></ol>\n"
      ],
      "text/latex": [
       "\\begin{enumerate*}\n",
       "\\item 1.98377581120944\n",
       "\\item 7.72769953051643\n",
       "\\item 3.28774062816616\n",
       "\\end{enumerate*}\n"
      ],
      "text/markdown": [
       "1. 1.98377581120944\n",
       "2. 7.72769953051643\n",
       "3. 3.28774062816616\n",
       "\n",
       "\n"
      ],
      "text/plain": [
       "[1] 1.983776 7.727700 3.287741"
      ]
     },
     "metadata": {},
     "output_type": "display_data"
    },
    {
     "data": {
      "text/html": [
       "<style>\n",
       ".list-inline {list-style: none; margin:0; padding: 0}\n",
       ".list-inline>li {display: inline-block}\n",
       ".list-inline>li:not(:last-child)::after {content: \"\\00b7\"; padding: 0 .5ex}\n",
       "</style>\n",
       "<ol class=list-inline><li>2023</li><li>11154</li><li>4232</li></ol>\n"
      ],
      "text/latex": [
       "\\begin{enumerate*}\n",
       "\\item 2023\n",
       "\\item 11154\n",
       "\\item 4232\n",
       "\\end{enumerate*}\n"
      ],
      "text/markdown": [
       "1. 2023\n",
       "2. 11154\n",
       "3. 4232\n",
       "\n",
       "\n"
      ],
      "text/plain": [
       "[1]  2023 11154  4232"
      ]
     },
     "metadata": {},
     "output_type": "display_data"
    },
    {
     "data": {
      "text/html": [
       "14466"
      ],
      "text/latex": [
       "14466"
      ],
      "text/markdown": [
       "14466"
      ],
      "text/plain": [
       "[1] 14466"
      ]
     },
     "metadata": {},
     "output_type": "display_data"
    },
    {
     "data": {
      "text/html": [
       "4822"
      ],
      "text/latex": [
       "4822"
      ],
      "text/markdown": [
       "4822"
      ],
      "text/plain": [
       "[1] 4822"
      ]
     },
     "metadata": {},
     "output_type": "display_data"
    },
    {
     "data": {
      "text/html": [
       "4478.80419308547"
      ],
      "text/latex": [
       "4478.80419308547"
      ],
      "text/markdown": [
       "4478.80419308547"
      ],
      "text/plain": [
       "[1] 4478.804"
      ]
     },
     "metadata": {},
     "output_type": "display_data"
    },
    {
     "data": {
      "text/html": [
       "9876"
      ],
      "text/latex": [
       "9876"
      ],
      "text/markdown": [
       "9876"
      ],
      "text/plain": [
       "[1] 9876"
      ]
     },
     "metadata": {},
     "output_type": "display_data"
    },
    {
     "data": {
      "text/html": [
       "1345"
      ],
      "text/latex": [
       "1345"
      ],
      "text/markdown": [
       "1345"
      ],
      "text/plain": [
       "[1] 1345"
      ]
     },
     "metadata": {},
     "output_type": "display_data"
    }
   ],
   "source": [
    "# R VECTOR BASICS\n",
    "#To create a vector called Customer ID \n",
    "Customer_ID <- c(12736 , 93212 , 08302, 09327)\n",
    "Customer_ID\n",
    "# to find out the class of the vector Customer ID \n",
    "class(Customer_ID)\n",
    "# To create a character vector of the customer Name \n",
    "Customer_Name <- c(\"Aicha\" , \"Adriana\" , \"victor\" , \"carlos\")\n",
    "Customer_Name \n",
    "class(Customer_Name)\n",
    "# mixing data types \n",
    "mix <- c(20209 , \"Aicha\" , 09372)\n",
    "mix\n",
    "class(mix)\n",
    "# creating a vector of numbers and then naming the content  of the vectors \n",
    "Student_ID_and_name <- c(2387 , 0986 , 2638 , 0988 , 3730, 6732)\n",
    "names(Student_ID_and_name) <- c(\"Victor\" , \"Maria\" , \"Karin\" , \"Adriana\" , \"Carlos\" , \"Mariam\")\n",
    "Student_ID_and_name\n",
    "\n",
    "# Vector operations\n",
    "Income <- c(1345 , 9876 , 3245)\n",
    "Expenses <- c(678 , 1278 , 987)\n",
    "Income - Expenses \n",
    "Income * 12 \n",
    "Income / Expenses \n",
    "Income + Expenses \n",
    "# statistical operations\n",
    "sum(Income)\n",
    "mean(Income)\n",
    "sd(Income)\n",
    "max(Income)\n",
    "min(Income)"
   ]
  },
  {
   "cell_type": "code",
   "execution_count": 67,
   "metadata": {},
   "outputs": [
    {
     "data": {
      "text/html": [
       "TRUE"
      ],
      "text/latex": [
       "TRUE"
      ],
      "text/markdown": [
       "TRUE"
      ],
      "text/plain": [
       "[1] TRUE"
      ]
     },
     "metadata": {},
     "output_type": "display_data"
    },
    {
     "data": {
      "text/html": [
       "TRUE"
      ],
      "text/latex": [
       "TRUE"
      ],
      "text/markdown": [
       "TRUE"
      ],
      "text/plain": [
       "[1] TRUE"
      ]
     },
     "metadata": {},
     "output_type": "display_data"
    },
    {
     "data": {
      "text/html": [
       "FALSE"
      ],
      "text/latex": [
       "FALSE"
      ],
      "text/markdown": [
       "FALSE"
      ],
      "text/plain": [
       "[1] FALSE"
      ]
     },
     "metadata": {},
     "output_type": "display_data"
    },
    {
     "data": {
      "text/html": [
       "TRUE"
      ],
      "text/latex": [
       "TRUE"
      ],
      "text/markdown": [
       "TRUE"
      ],
      "text/plain": [
       "[1] TRUE"
      ]
     },
     "metadata": {},
     "output_type": "display_data"
    },
    {
     "data": {
      "text/html": [
       "FALSE"
      ],
      "text/latex": [
       "FALSE"
      ],
      "text/markdown": [
       "FALSE"
      ],
      "text/plain": [
       "[1] FALSE"
      ]
     },
     "metadata": {},
     "output_type": "display_data"
    },
    {
     "data": {
      "text/html": [
       "TRUE"
      ],
      "text/latex": [
       "TRUE"
      ],
      "text/markdown": [
       "TRUE"
      ],
      "text/plain": [
       "[1] TRUE"
      ]
     },
     "metadata": {},
     "output_type": "display_data"
    },
    {
     "data": {
      "text/html": [
       "<style>\n",
       ".list-inline {list-style: none; margin:0; padding: 0}\n",
       ".list-inline>li {display: inline-block}\n",
       ".list-inline>li:not(:last-child)::after {content: \"\\00b7\"; padding: 0 .5ex}\n",
       "</style>\n",
       "<ol class=list-inline><li>1200</li><li>3500</li><li>900</li><li>3210</li></ol>\n"
      ],
      "text/latex": [
       "\\begin{enumerate*}\n",
       "\\item 1200\n",
       "\\item 3500\n",
       "\\item 900\n",
       "\\item 3210\n",
       "\\end{enumerate*}\n"
      ],
      "text/markdown": [
       "1. 1200\n",
       "2. 3500\n",
       "3. 900\n",
       "4. 3210\n",
       "\n",
       "\n"
      ],
      "text/plain": [
       "[1] 1200 3500  900 3210"
      ]
     },
     "metadata": {},
     "output_type": "display_data"
    },
    {
     "data": {
      "text/html": [
       "1200"
      ],
      "text/latex": [
       "1200"
      ],
      "text/markdown": [
       "1200"
      ],
      "text/plain": [
       "[1] 1200"
      ]
     },
     "metadata": {},
     "output_type": "display_data"
    },
    {
     "data": {
      "text/html": [
       "<style>\n",
       ".list-inline {list-style: none; margin:0; padding: 0}\n",
       ".list-inline>li {display: inline-block}\n",
       ".list-inline>li:not(:last-child)::after {content: \"\\00b7\"; padding: 0 .5ex}\n",
       "</style>\n",
       "<ol class=list-inline><li>3500</li><li>3210</li></ol>\n"
      ],
      "text/latex": [
       "\\begin{enumerate*}\n",
       "\\item 3500\n",
       "\\item 3210\n",
       "\\end{enumerate*}\n"
      ],
      "text/markdown": [
       "1. 3500\n",
       "2. 3210\n",
       "\n",
       "\n"
      ],
      "text/plain": [
       "[1] 3500 3210"
      ]
     },
     "metadata": {},
     "output_type": "display_data"
    },
    {
     "data": {
      "text/html": [
       "<style>\n",
       ".list-inline {list-style: none; margin:0; padding: 0}\n",
       ".list-inline>li {display: inline-block}\n",
       ".list-inline>li:not(:last-child)::after {content: \"\\00b7\"; padding: 0 .5ex}\n",
       "</style>\n",
       "<ol class=list-inline><li>1200</li><li>3500</li><li>900</li><li>3210</li></ol>\n"
      ],
      "text/latex": [
       "\\begin{enumerate*}\n",
       "\\item 1200\n",
       "\\item 3500\n",
       "\\item 900\n",
       "\\item 3210\n",
       "\\end{enumerate*}\n"
      ],
      "text/markdown": [
       "1. 1200\n",
       "2. 3500\n",
       "3. 900\n",
       "4. 3210\n",
       "\n",
       "\n"
      ],
      "text/plain": [
       "[1] 1200 3500  900 3210"
      ]
     },
     "metadata": {},
     "output_type": "display_data"
    },
    {
     "data": {
      "text/html": [
       "900"
      ],
      "text/latex": [
       "900"
      ],
      "text/markdown": [
       "900"
      ],
      "text/plain": [
       "[1] 900"
      ]
     },
     "metadata": {},
     "output_type": "display_data"
    }
   ],
   "source": [
    "# Comparison Operators \n",
    "# > higher than \n",
    "# < lower than \n",
    "# >= higher or equal to \n",
    "# =< lower or equal to \n",
    "# == equal to \n",
    "# != not equal to\n",
    "# Examples \n",
    "7 > 6 \n",
    "6 < 7 \n",
    "6 >= 7 \n",
    "6 <= 7 \n",
    "6 == 7 \n",
    "6 != 7\n",
    "\n",
    "# vector indexing and vector slicing\n",
    "salary <- c(1200 ,3500 , 900 , 3210)\n",
    "salary\n",
    "salary[1] # to select the first element\n",
    "salary [c(2,4)] # to select the 2nd and 4th elements together\n",
    "salary[1:4] # selecting from the first to the 4th element of the vector salary\n",
    "salary[salary < 1000] # selecting the vector element with salary < 1000"
   ]
  },
  {
   "cell_type": "code",
   "execution_count": 104,
   "metadata": {},
   "outputs": [
    {
     "data": {
      "text/html": [
       "<table>\n",
       "<caption>A matrix: 4 × 1 of type dbl</caption>\n",
       "<tbody>\n",
       "\t<tr><td>1200</td></tr>\n",
       "\t<tr><td>3500</td></tr>\n",
       "\t<tr><td> 900</td></tr>\n",
       "\t<tr><td>3210</td></tr>\n",
       "</tbody>\n",
       "</table>\n"
      ],
      "text/latex": [
       "A matrix: 4 × 1 of type dbl\n",
       "\\begin{tabular}{l}\n",
       "\t 1200\\\\\n",
       "\t 3500\\\\\n",
       "\t  900\\\\\n",
       "\t 3210\\\\\n",
       "\\end{tabular}\n"
      ],
      "text/markdown": [
       "\n",
       "A matrix: 4 × 1 of type dbl\n",
       "\n",
       "| 1200 |\n",
       "| 3500 |\n",
       "|  900 |\n",
       "| 3210 |\n",
       "\n"
      ],
      "text/plain": [
       "     [,1]\n",
       "[1,] 1200\n",
       "[2,] 3500\n",
       "[3,]  900\n",
       "[4,] 3210"
      ]
     },
     "metadata": {},
     "output_type": "display_data"
    },
    {
     "data": {
      "text/html": [
       "<style>\n",
       ".list-inline {list-style: none; margin:0; padding: 0}\n",
       ".list-inline>li {display: inline-block}\n",
       ".list-inline>li:not(:last-child)::after {content: \"\\00b7\"; padding: 0 .5ex}\n",
       "</style>\n",
       "<ol class=list-inline><li>1200</li><li>3500</li><li>900</li><li>3210</li></ol>\n"
      ],
      "text/latex": [
       "\\begin{enumerate*}\n",
       "\\item 1200\n",
       "\\item 3500\n",
       "\\item 900\n",
       "\\item 3210\n",
       "\\end{enumerate*}\n"
      ],
      "text/markdown": [
       "1. 1200\n",
       "2. 3500\n",
       "3. 900\n",
       "4. 3210\n",
       "\n",
       "\n"
      ],
      "text/plain": [
       "[1] 1200 3500  900 3210"
      ]
     },
     "metadata": {},
     "output_type": "display_data"
    },
    {
     "name": "stdout",
     "output_type": "stream",
     "text": [
      "        jan  feb  mar  apr  may  jun\n",
      "Victor 1200 1750 1820 2173 2309 9870\n",
      "Mariam 1200 9083 3290 3420 1289 6549\n"
     ]
    },
    {
     "data": {
      "text/html": [
       "<table>\n",
       "<caption>A matrix: 2 × 6 of type dbl</caption>\n",
       "<thead>\n",
       "\t<tr><th></th><th scope=col>jan</th><th scope=col>feb</th><th scope=col>mar</th><th scope=col>apr</th><th scope=col>may</th><th scope=col>jun</th></tr>\n",
       "</thead>\n",
       "<tbody>\n",
       "\t<tr><th scope=row>Victor</th><td>3600</td><td> 5250</td><td>5460</td><td> 6519</td><td>6927</td><td>29610</td></tr>\n",
       "\t<tr><th scope=row>Mariam</th><td>3600</td><td>27249</td><td>9870</td><td>10260</td><td>3867</td><td>19647</td></tr>\n",
       "</tbody>\n",
       "</table>\n"
      ],
      "text/latex": [
       "A matrix: 2 × 6 of type dbl\n",
       "\\begin{tabular}{r|llllll}\n",
       "  & jan & feb & mar & apr & may & jun\\\\\n",
       "\\hline\n",
       "\tVictor & 3600 &  5250 & 5460 &  6519 & 6927 & 29610\\\\\n",
       "\tMariam & 3600 & 27249 & 9870 & 10260 & 3867 & 19647\\\\\n",
       "\\end{tabular}\n"
      ],
      "text/markdown": [
       "\n",
       "A matrix: 2 × 6 of type dbl\n",
       "\n",
       "| <!--/--> | jan | feb | mar | apr | may | jun |\n",
       "|---|---|---|---|---|---|---|\n",
       "| Victor | 3600 |  5250 | 5460 |  6519 | 6927 | 29610 |\n",
       "| Mariam | 3600 | 27249 | 9870 | 10260 | 3867 | 19647 |\n",
       "\n"
      ],
      "text/plain": [
       "       jan  feb   mar  apr   may  jun  \n",
       "Victor 3600  5250 5460  6519 6927 29610\n",
       "Mariam 3600 27249 9870 10260 3867 19647"
      ]
     },
     "metadata": {},
     "output_type": "display_data"
    },
    {
     "data": {
      "text/html": [
       "<table>\n",
       "<caption>A matrix: 2 × 6 of type dbl</caption>\n",
       "<thead>\n",
       "\t<tr><th></th><th scope=col>jan</th><th scope=col>feb</th><th scope=col>mar</th><th scope=col>apr</th><th scope=col>may</th><th scope=col>jun</th></tr>\n",
       "</thead>\n",
       "<tbody>\n",
       "\t<tr><th scope=row>Victor</th><td>1.728e+09</td><td>  5359375000</td><td> 6028568000</td><td>10260751717</td><td>12310389629</td><td>961504803000</td></tr>\n",
       "\t<tr><th scope=row>Mariam</th><td>1.728e+09</td><td>749355574787</td><td>35611289000</td><td>40001688000</td><td> 2141700569</td><td>280882687149</td></tr>\n",
       "</tbody>\n",
       "</table>\n"
      ],
      "text/latex": [
       "A matrix: 2 × 6 of type dbl\n",
       "\\begin{tabular}{r|llllll}\n",
       "  & jan & feb & mar & apr & may & jun\\\\\n",
       "\\hline\n",
       "\tVictor & 1.728e+09 &   5359375000 &  6028568000 & 10260751717 & 12310389629 & 961504803000\\\\\n",
       "\tMariam & 1.728e+09 & 749355574787 & 35611289000 & 40001688000 &  2141700569 & 280882687149\\\\\n",
       "\\end{tabular}\n"
      ],
      "text/markdown": [
       "\n",
       "A matrix: 2 × 6 of type dbl\n",
       "\n",
       "| <!--/--> | jan | feb | mar | apr | may | jun |\n",
       "|---|---|---|---|---|---|---|\n",
       "| Victor | 1.728e+09 |   5359375000 |  6028568000 | 10260751717 | 12310389629 | 961504803000 |\n",
       "| Mariam | 1.728e+09 | 749355574787 | 35611289000 | 40001688000 |  2141700569 | 280882687149 |\n",
       "\n"
      ],
      "text/plain": [
       "       jan       feb          mar         apr         may         jun         \n",
       "Victor 1.728e+09   5359375000  6028568000 10260751717 12310389629 961504803000\n",
       "Mariam 1.728e+09 749355574787 35611289000 40001688000  2141700569 280882687149"
      ]
     },
     "metadata": {},
     "output_type": "display_data"
    },
    {
     "data": {
      "text/html": [
       "<table>\n",
       "<caption>A matrix: 2 × 6 of type dbl</caption>\n",
       "<thead>\n",
       "\t<tr><th></th><th scope=col>jan</th><th scope=col>feb</th><th scope=col>mar</th><th scope=col>apr</th><th scope=col>may</th><th scope=col>jun</th></tr>\n",
       "</thead>\n",
       "<tbody>\n",
       "\t<tr><th scope=row>Victor</th><td>1</td><td>1</td><td>1</td><td>1</td><td>1</td><td>1</td></tr>\n",
       "\t<tr><th scope=row>Mariam</th><td>1</td><td>1</td><td>1</td><td>1</td><td>1</td><td>1</td></tr>\n",
       "</tbody>\n",
       "</table>\n"
      ],
      "text/latex": [
       "A matrix: 2 × 6 of type dbl\n",
       "\\begin{tabular}{r|llllll}\n",
       "  & jan & feb & mar & apr & may & jun\\\\\n",
       "\\hline\n",
       "\tVictor & 1 & 1 & 1 & 1 & 1 & 1\\\\\n",
       "\tMariam & 1 & 1 & 1 & 1 & 1 & 1\\\\\n",
       "\\end{tabular}\n"
      ],
      "text/markdown": [
       "\n",
       "A matrix: 2 × 6 of type dbl\n",
       "\n",
       "| <!--/--> | jan | feb | mar | apr | may | jun |\n",
       "|---|---|---|---|---|---|---|\n",
       "| Victor | 1 | 1 | 1 | 1 | 1 | 1 |\n",
       "| Mariam | 1 | 1 | 1 | 1 | 1 | 1 |\n",
       "\n"
      ],
      "text/plain": [
       "       jan feb mar apr may jun\n",
       "Victor 1   1   1   1   1   1  \n",
       "Mariam 1   1   1   1   1   1  "
      ]
     },
     "metadata": {},
     "output_type": "display_data"
    },
    {
     "data": {
      "text/html": [
       "<style>\n",
       ".dl-inline {width: auto; margin:0; padding: 0}\n",
       ".dl-inline>dt, .dl-inline>dd {float: none; width: auto; display: inline-block}\n",
       ".dl-inline>dt::after {content: \":\\0020\"; padding-right: .5ex}\n",
       ".dl-inline>dt:not(:first-of-type) {padding-left: .5ex}\n",
       "</style><dl class=dl-inline><dt>jan</dt><dd>2400</dd><dt>feb</dt><dd>10833</dd><dt>mar</dt><dd>5110</dd><dt>apr</dt><dd>5593</dd><dt>may</dt><dd>3598</dd><dt>jun</dt><dd>16419</dd></dl>\n"
      ],
      "text/latex": [
       "\\begin{description*}\n",
       "\\item[jan] 2400\n",
       "\\item[feb] 10833\n",
       "\\item[mar] 5110\n",
       "\\item[apr] 5593\n",
       "\\item[may] 3598\n",
       "\\item[jun] 16419\n",
       "\\end{description*}\n"
      ],
      "text/markdown": [
       "jan\n",
       ":   2400feb\n",
       ":   10833mar\n",
       ":   5110apr\n",
       ":   5593may\n",
       ":   3598jun\n",
       ":   16419\n",
       "\n"
      ],
      "text/plain": [
       "  jan   feb   mar   apr   may   jun \n",
       " 2400 10833  5110  5593  3598 16419 "
      ]
     },
     "metadata": {},
     "output_type": "display_data"
    },
    {
     "data": {
      "text/html": [
       "<style>\n",
       ".dl-inline {width: auto; margin:0; padding: 0}\n",
       ".dl-inline>dt, .dl-inline>dd {float: none; width: auto; display: inline-block}\n",
       ".dl-inline>dt::after {content: \":\\0020\"; padding-right: .5ex}\n",
       ".dl-inline>dt:not(:first-of-type) {padding-left: .5ex}\n",
       "</style><dl class=dl-inline><dt>Victor</dt><dd>19122</dd><dt>Mariam</dt><dd>24831</dd></dl>\n"
      ],
      "text/latex": [
       "\\begin{description*}\n",
       "\\item[Victor] 19122\n",
       "\\item[Mariam] 24831\n",
       "\\end{description*}\n"
      ],
      "text/markdown": [
       "Victor\n",
       ":   19122Mariam\n",
       ":   24831\n",
       "\n"
      ],
      "text/plain": [
       "Victor Mariam \n",
       " 19122  24831 "
      ]
     },
     "metadata": {},
     "output_type": "display_data"
    },
    {
     "data": {
      "text/html": [
       "<style>\n",
       ".dl-inline {width: auto; margin:0; padding: 0}\n",
       ".dl-inline>dt, .dl-inline>dd {float: none; width: auto; display: inline-block}\n",
       ".dl-inline>dt::after {content: \":\\0020\"; padding-right: .5ex}\n",
       ".dl-inline>dt:not(:first-of-type) {padding-left: .5ex}\n",
       "</style><dl class=dl-inline><dt>Victor</dt><dd>3187</dd><dt>Mariam</dt><dd>4138.5</dd></dl>\n"
      ],
      "text/latex": [
       "\\begin{description*}\n",
       "\\item[Victor] 3187\n",
       "\\item[Mariam] 4138.5\n",
       "\\end{description*}\n"
      ],
      "text/markdown": [
       "Victor\n",
       ":   3187Mariam\n",
       ":   4138.5\n",
       "\n"
      ],
      "text/plain": [
       "Victor Mariam \n",
       "3187.0 4138.5 "
      ]
     },
     "metadata": {},
     "output_type": "display_data"
    },
    {
     "data": {
      "text/html": [
       "<table>\n",
       "<caption>A matrix: 3 × 6 of type dbl</caption>\n",
       "<thead>\n",
       "\t<tr><th></th><th scope=col>jan</th><th scope=col>feb</th><th scope=col>mar</th><th scope=col>apr</th><th scope=col>may</th><th scope=col>jun</th></tr>\n",
       "</thead>\n",
       "<tbody>\n",
       "\t<tr><th scope=row>Victor</th><td>1200</td><td>1750</td><td>1820</td><td>2173</td><td>2309</td><td>9870</td></tr>\n",
       "\t<tr><th scope=row>Mariam</th><td>1200</td><td>9083</td><td>3290</td><td>3420</td><td>1289</td><td>6549</td></tr>\n",
       "\t<tr><th scope=row>expenses</th><td>1200</td><td>9083</td><td>3290</td><td>3420</td><td>1289</td><td>6549</td></tr>\n",
       "</tbody>\n",
       "</table>\n"
      ],
      "text/latex": [
       "A matrix: 3 × 6 of type dbl\n",
       "\\begin{tabular}{r|llllll}\n",
       "  & jan & feb & mar & apr & may & jun\\\\\n",
       "\\hline\n",
       "\tVictor & 1200 & 1750 & 1820 & 2173 & 2309 & 9870\\\\\n",
       "\tMariam & 1200 & 9083 & 3290 & 3420 & 1289 & 6549\\\\\n",
       "\texpenses & 1200 & 9083 & 3290 & 3420 & 1289 & 6549\\\\\n",
       "\\end{tabular}\n"
      ],
      "text/markdown": [
       "\n",
       "A matrix: 3 × 6 of type dbl\n",
       "\n",
       "| <!--/--> | jan | feb | mar | apr | may | jun |\n",
       "|---|---|---|---|---|---|---|\n",
       "| Victor | 1200 | 1750 | 1820 | 2173 | 2309 | 9870 |\n",
       "| Mariam | 1200 | 9083 | 3290 | 3420 | 1289 | 6549 |\n",
       "| expenses | 1200 | 9083 | 3290 | 3420 | 1289 | 6549 |\n",
       "\n"
      ],
      "text/plain": [
       "         jan  feb  mar  apr  may  jun \n",
       "Victor   1200 1750 1820 2173 2309 9870\n",
       "Mariam   1200 9083 3290 3420 1289 6549\n",
       "expenses 1200 9083 3290 3420 1289 6549"
      ]
     },
     "metadata": {},
     "output_type": "display_data"
    },
    {
     "name": "stderr",
     "output_type": "stream",
     "text": [
      "Warning message in cbind(financial_information.matrix, avg):\n",
      "\"number of rows of result is not a multiple of vector length (arg 2)\"\n"
     ]
    },
    {
     "data": {
      "text/html": [
       "<table>\n",
       "<caption>A matrix: 2 × 7 of type dbl</caption>\n",
       "<thead>\n",
       "\t<tr><th></th><th scope=col>jan</th><th scope=col>feb</th><th scope=col>mar</th><th scope=col>apr</th><th scope=col>may</th><th scope=col>jun</th><th scope=col>avg</th></tr>\n",
       "</thead>\n",
       "<tbody>\n",
       "\t<tr><th scope=row>Victor</th><td>1200</td><td>1750</td><td>1820</td><td>2173</td><td>2309</td><td>9870</td><td>3187.0</td></tr>\n",
       "\t<tr><th scope=row>Mariam</th><td>1200</td><td>9083</td><td>3290</td><td>3420</td><td>1289</td><td>6549</td><td>4138.5</td></tr>\n",
       "</tbody>\n",
       "</table>\n"
      ],
      "text/latex": [
       "A matrix: 2 × 7 of type dbl\n",
       "\\begin{tabular}{r|lllllll}\n",
       "  & jan & feb & mar & apr & may & jun & avg\\\\\n",
       "\\hline\n",
       "\tVictor & 1200 & 1750 & 1820 & 2173 & 2309 & 9870 & 3187.0\\\\\n",
       "\tMariam & 1200 & 9083 & 3290 & 3420 & 1289 & 6549 & 4138.5\\\\\n",
       "\\end{tabular}\n"
      ],
      "text/markdown": [
       "\n",
       "A matrix: 2 × 7 of type dbl\n",
       "\n",
       "| <!--/--> | jan | feb | mar | apr | may | jun | avg |\n",
       "|---|---|---|---|---|---|---|---|\n",
       "| Victor | 1200 | 1750 | 1820 | 2173 | 2309 | 9870 | 3187.0 |\n",
       "| Mariam | 1200 | 9083 | 3290 | 3420 | 1289 | 6549 | 4138.5 |\n",
       "\n"
      ],
      "text/plain": [
       "       jan  feb  mar  apr  may  jun  avg   \n",
       "Victor 1200 1750 1820 2173 2309 9870 3187.0\n",
       "Mariam 1200 9083 3290 3420 1289 6549 4138.5"
      ]
     },
     "metadata": {},
     "output_type": "display_data"
    },
    {
     "data": {
      "text/html": [
       "1200"
      ],
      "text/latex": [
       "1200"
      ],
      "text/markdown": [
       "1200"
      ],
      "text/plain": [
       "[1] 1200"
      ]
     },
     "metadata": {},
     "output_type": "display_data"
    },
    {
     "data": {
      "text/html": [
       "<style>\n",
       ".dl-inline {width: auto; margin:0; padding: 0}\n",
       ".dl-inline>dt, .dl-inline>dd {float: none; width: auto; display: inline-block}\n",
       ".dl-inline>dt::after {content: \":\\0020\"; padding-right: .5ex}\n",
       ".dl-inline>dt:not(:first-of-type) {padding-left: .5ex}\n",
       "</style><dl class=dl-inline><dt>jan</dt><dd>1200</dd><dt>feb</dt><dd>1750</dd><dt>mar</dt><dd>1820</dd><dt>apr</dt><dd>2173</dd><dt>may</dt><dd>2309</dd><dt>jun</dt><dd>9870</dd><dt>avg</dt><dd>3187</dd></dl>\n"
      ],
      "text/latex": [
       "\\begin{description*}\n",
       "\\item[jan] 1200\n",
       "\\item[feb] 1750\n",
       "\\item[mar] 1820\n",
       "\\item[apr] 2173\n",
       "\\item[may] 2309\n",
       "\\item[jun] 9870\n",
       "\\item[avg] 3187\n",
       "\\end{description*}\n"
      ],
      "text/markdown": [
       "jan\n",
       ":   1200feb\n",
       ":   1750mar\n",
       ":   1820apr\n",
       ":   2173may\n",
       ":   2309jun\n",
       ":   9870avg\n",
       ":   3187\n",
       "\n"
      ],
      "text/plain": [
       " jan  feb  mar  apr  may  jun  avg \n",
       "1200 1750 1820 2173 2309 9870 3187 "
      ]
     },
     "metadata": {},
     "output_type": "display_data"
    },
    {
     "data": {
      "text/html": [
       "<style>\n",
       ".list-inline {list-style: none; margin:0; padding: 0}\n",
       ".list-inline>li {display: inline-block}\n",
       ".list-inline>li:not(:last-child)::after {content: \"\\00b7\"; padding: 0 .5ex}\n",
       "</style>\n",
       "<ol class=list-inline><li>Male</li><li>Female</li></ol>\n",
       "\n",
       "<details>\n",
       "\t<summary style=display:list-item;cursor:pointer>\n",
       "\t\t<strong>Levels</strong>:\n",
       "\t</summary>\n",
       "\t<style>\n",
       "\t.list-inline {list-style: none; margin:0; padding: 0}\n",
       "\t.list-inline>li {display: inline-block}\n",
       "\t.list-inline>li:not(:last-child)::after {content: \"\\00b7\"; padding: 0 .5ex}\n",
       "\t</style>\n",
       "\t<ol class=list-inline><li>'Female'</li><li>'Male'</li></ol>\n",
       "</details>"
      ],
      "text/latex": [
       "\\begin{enumerate*}\n",
       "\\item Male\n",
       "\\item Female\n",
       "\\end{enumerate*}\n",
       "\n",
       "\\emph{Levels}: \\begin{enumerate*}\n",
       "\\item 'Female'\n",
       "\\item 'Male'\n",
       "\\end{enumerate*}\n"
      ],
      "text/markdown": [
       "1. Male\n",
       "2. Female\n",
       "\n",
       "\n",
       "\n",
       "**Levels**: 1. 'Female'\n",
       "2. 'Male'\n",
       "\n",
       "\n"
      ],
      "text/plain": [
       "[1] Male   Female\n",
       "Levels: Female Male"
      ]
     },
     "metadata": {},
     "output_type": "display_data"
    }
   ],
   "source": [
    "# R matrices \n",
    "matrix(salary) # to transform a vector into a matrix \n",
    "salary\n",
    "income1 <- c(1200 , 1750 , 1820 , 2173 , 2309 , 9870 )\n",
    "income2 <- c(356 , 345 , 230 , 210 , 230 , 2700 )\n",
    "financial_information <- c(income , expenses)\n",
    "financial_information.matrix <- matrix(financial_information, byrow=T , nrow=2)\n",
    "months <- c('jan' , 'feb' , 'mar' , 'apr' , 'may' , 'jun')\n",
    "cons.names <- c('Victor' , 'Mariam')\n",
    "colnames(financial_information.matrix) <- months \n",
    "rownames(financial_information.matrix) <- cons.names\n",
    "print(financial_information.matrix)\n",
    "# matrix arithmetic \n",
    "financial_information.matrix * 3\n",
    "financial_information.matrix ^ 3\n",
    "financial_information.matrix / financial_information.matrix\n",
    "# matrix operations\n",
    "colSums(financial_information.matrix) # to sum the columns \n",
    "rowSums(financial_information.matrix) # to sum the rows \n",
    "rowMeans(financial_information.matrix) # to find the mean of the rows\n",
    "# combining  \n",
    "expenses <- c(1200 , 9083 , 3290 , 3420 , 1289 , 6549) \n",
    "finances <- rbind(financial_information.matrix , expenses) # combining per rows # adding a new row\n",
    "finances \n",
    "avg <- rowMeans(finances)\n",
    "finances_1 <- cbind(financial_information.matrix , avg) # adding a new column\n",
    "finances_1\n",
    "# selecting and indexing matrices \n",
    "finances_1[2] # selecting the 2nd element of the matrix finances _ 1\n",
    "finances_1[1,] # selecting from the 1st element onwards \n",
    "\n",
    "# categorical matrices \n",
    "# sometimes when working with data we are faced with some categorical variables with different levels. \n",
    "gender <- c('Male' , 'Female')\n",
    "factor(gender)\n",
    "# nominal categorical variables : are variables that don't have any order \n",
    "# ordinal categorical variables : are the variables that have order -- can be ranked \n",
    "weather <- c('cold' , 'medium' , 'hot')"
   ]
  },
  {
   "cell_type": "code",
   "execution_count": 124,
   "metadata": {},
   "outputs": [
    {
     "name": "stdout",
     "output_type": "stream",
     "text": [
      "'data.frame':\t50 obs. of  4 variables:\n",
      " $ Murder  : num  13.2 10 8.1 8.8 9 7.9 3.3 5.9 15.4 17.4 ...\n",
      " $ Assault : int  236 263 294 190 276 204 110 238 335 211 ...\n",
      " $ UrbanPop: int  58 48 80 50 91 78 77 72 80 60 ...\n",
      " $ Rape    : num  21.2 44.5 31 19.5 40.6 38.7 11.1 15.8 31.9 25.8 ...\n"
     ]
    },
    {
     "data": {
      "text/plain": [
       "     Murder          Assault         UrbanPop          Rape      \n",
       " Min.   : 0.800   Min.   : 45.0   Min.   :32.00   Min.   : 7.30  \n",
       " 1st Qu.: 4.075   1st Qu.:109.0   1st Qu.:54.50   1st Qu.:15.07  \n",
       " Median : 7.250   Median :159.0   Median :66.00   Median :20.10  \n",
       " Mean   : 7.788   Mean   :170.8   Mean   :65.54   Mean   :21.23  \n",
       " 3rd Qu.:11.250   3rd Qu.:249.0   3rd Qu.:77.75   3rd Qu.:26.18  \n",
       " Max.   :17.400   Max.   :337.0   Max.   :91.00   Max.   :46.00  "
      ]
     },
     "metadata": {},
     "output_type": "display_data"
    },
    {
     "data": {
      "text/html": [
       "<table>\n",
       "<caption>A data.frame: 5 × 2</caption>\n",
       "<thead>\n",
       "\t<tr><th scope=col>student</th><th scope=col>grade</th></tr>\n",
       "\t<tr><th scope=col>&lt;fct&gt;</th><th scope=col>&lt;dbl&gt;</th></tr>\n",
       "</thead>\n",
       "<tbody>\n",
       "\t<tr><td>karin </td><td> 9</td></tr>\n",
       "\t<tr><td>ahmed </td><td>10</td></tr>\n",
       "\t<tr><td>maria </td><td> 8</td></tr>\n",
       "\t<tr><td>victor</td><td> 4</td></tr>\n",
       "\t<tr><td>noura </td><td> 9</td></tr>\n",
       "</tbody>\n",
       "</table>\n"
      ],
      "text/latex": [
       "A data.frame: 5 × 2\n",
       "\\begin{tabular}{ll}\n",
       " student & grade\\\\\n",
       " <fct> & <dbl>\\\\\n",
       "\\hline\n",
       "\t karin  &  9\\\\\n",
       "\t ahmed  & 10\\\\\n",
       "\t maria  &  8\\\\\n",
       "\t victor &  4\\\\\n",
       "\t noura  &  9\\\\\n",
       "\\end{tabular}\n"
      ],
      "text/markdown": [
       "\n",
       "A data.frame: 5 × 2\n",
       "\n",
       "| student &lt;fct&gt; | grade &lt;dbl&gt; |\n",
       "|---|---|\n",
       "| karin  |  9 |\n",
       "| ahmed  | 10 |\n",
       "| maria  |  8 |\n",
       "| victor |  4 |\n",
       "| noura  |  9 |\n",
       "\n"
      ],
      "text/plain": [
       "  student grade\n",
       "1 karin    9   \n",
       "2 ahmed   10   \n",
       "3 maria    8   \n",
       "4 victor   4   \n",
       "5 noura    9   "
      ]
     },
     "metadata": {},
     "output_type": "display_data"
    },
    {
     "data": {
      "text/html": [
       "<table>\n",
       "<caption>A data.frame: 1 × 2</caption>\n",
       "<thead>\n",
       "\t<tr><th></th><th scope=col>student</th><th scope=col>grade</th></tr>\n",
       "\t<tr><th></th><th scope=col>&lt;fct&gt;</th><th scope=col>&lt;dbl&gt;</th></tr>\n",
       "</thead>\n",
       "<tbody>\n",
       "\t<tr><th scope=row>1</th><td>karin</td><td>9</td></tr>\n",
       "</tbody>\n",
       "</table>\n"
      ],
      "text/latex": [
       "A data.frame: 1 × 2\n",
       "\\begin{tabular}{r|ll}\n",
       "  & student & grade\\\\\n",
       "  & <fct> & <dbl>\\\\\n",
       "\\hline\n",
       "\t1 & karin & 9\\\\\n",
       "\\end{tabular}\n"
      ],
      "text/markdown": [
       "\n",
       "A data.frame: 1 × 2\n",
       "\n",
       "| <!--/--> | student &lt;fct&gt; | grade &lt;dbl&gt; |\n",
       "|---|---|---|\n",
       "| 1 | karin | 9 |\n",
       "\n"
      ],
      "text/plain": [
       "  student grade\n",
       "1 karin   9    "
      ]
     },
     "metadata": {},
     "output_type": "display_data"
    },
    {
     "data": {
      "text/html": [
       "<style>\n",
       ".list-inline {list-style: none; margin:0; padding: 0}\n",
       ".list-inline>li {display: inline-block}\n",
       ".list-inline>li:not(:last-child)::after {content: \"\\00b7\"; padding: 0 .5ex}\n",
       "</style>\n",
       "<ol class=list-inline><li>karin</li><li>ahmed</li><li>maria</li><li>victor</li><li>noura</li></ol>\n",
       "\n",
       "<details>\n",
       "\t<summary style=display:list-item;cursor:pointer>\n",
       "\t\t<strong>Levels</strong>:\n",
       "\t</summary>\n",
       "\t<style>\n",
       "\t.list-inline {list-style: none; margin:0; padding: 0}\n",
       "\t.list-inline>li {display: inline-block}\n",
       "\t.list-inline>li:not(:last-child)::after {content: \"\\00b7\"; padding: 0 .5ex}\n",
       "\t</style>\n",
       "\t<ol class=list-inline><li>'ahmed'</li><li>'karin'</li><li>'maria'</li><li>'noura'</li><li>'victor'</li></ol>\n",
       "</details>"
      ],
      "text/latex": [
       "\\begin{enumerate*}\n",
       "\\item karin\n",
       "\\item ahmed\n",
       "\\item maria\n",
       "\\item victor\n",
       "\\item noura\n",
       "\\end{enumerate*}\n",
       "\n",
       "\\emph{Levels}: \\begin{enumerate*}\n",
       "\\item 'ahmed'\n",
       "\\item 'karin'\n",
       "\\item 'maria'\n",
       "\\item 'noura'\n",
       "\\item 'victor'\n",
       "\\end{enumerate*}\n"
      ],
      "text/markdown": [
       "1. karin\n",
       "2. ahmed\n",
       "3. maria\n",
       "4. victor\n",
       "5. noura\n",
       "\n",
       "\n",
       "\n",
       "**Levels**: 1. 'ahmed'\n",
       "2. 'karin'\n",
       "3. 'maria'\n",
       "4. 'noura'\n",
       "5. 'victor'\n",
       "\n",
       "\n"
      ],
      "text/plain": [
       "[1] karin  ahmed  maria  victor noura \n",
       "Levels: ahmed karin maria noura victor"
      ]
     },
     "metadata": {},
     "output_type": "display_data"
    },
    {
     "data": {
      "text/html": [
       "<style>\n",
       ".list-inline {list-style: none; margin:0; padding: 0}\n",
       ".list-inline>li {display: inline-block}\n",
       ".list-inline>li:not(:last-child)::after {content: \"\\00b7\"; padding: 0 .5ex}\n",
       "</style>\n",
       "<ol class=list-inline><li>karin</li><li>ahmed</li><li>maria</li><li>victor</li><li>noura</li></ol>\n",
       "\n",
       "<details>\n",
       "\t<summary style=display:list-item;cursor:pointer>\n",
       "\t\t<strong>Levels</strong>:\n",
       "\t</summary>\n",
       "\t<style>\n",
       "\t.list-inline {list-style: none; margin:0; padding: 0}\n",
       "\t.list-inline>li {display: inline-block}\n",
       "\t.list-inline>li:not(:last-child)::after {content: \"\\00b7\"; padding: 0 .5ex}\n",
       "\t</style>\n",
       "\t<ol class=list-inline><li>'ahmed'</li><li>'karin'</li><li>'maria'</li><li>'noura'</li><li>'victor'</li></ol>\n",
       "</details>"
      ],
      "text/latex": [
       "\\begin{enumerate*}\n",
       "\\item karin\n",
       "\\item ahmed\n",
       "\\item maria\n",
       "\\item victor\n",
       "\\item noura\n",
       "\\end{enumerate*}\n",
       "\n",
       "\\emph{Levels}: \\begin{enumerate*}\n",
       "\\item 'ahmed'\n",
       "\\item 'karin'\n",
       "\\item 'maria'\n",
       "\\item 'noura'\n",
       "\\item 'victor'\n",
       "\\end{enumerate*}\n"
      ],
      "text/markdown": [
       "1. karin\n",
       "2. ahmed\n",
       "3. maria\n",
       "4. victor\n",
       "5. noura\n",
       "\n",
       "\n",
       "\n",
       "**Levels**: 1. 'ahmed'\n",
       "2. 'karin'\n",
       "3. 'maria'\n",
       "4. 'noura'\n",
       "5. 'victor'\n",
       "\n",
       "\n"
      ],
      "text/plain": [
       "[1] karin  ahmed  maria  victor noura \n",
       "Levels: ahmed karin maria noura victor"
      ]
     },
     "metadata": {},
     "output_type": "display_data"
    },
    {
     "data": {
      "text/html": [
       "<table>\n",
       "<caption>A data.frame: 1 × 2</caption>\n",
       "<thead>\n",
       "\t<tr><th></th><th scope=col>student</th><th scope=col>grade</th></tr>\n",
       "\t<tr><th></th><th scope=col>&lt;fct&gt;</th><th scope=col>&lt;dbl&gt;</th></tr>\n",
       "</thead>\n",
       "<tbody>\n",
       "\t<tr><th scope=row>4</th><td>victor</td><td>4</td></tr>\n",
       "</tbody>\n",
       "</table>\n"
      ],
      "text/latex": [
       "A data.frame: 1 × 2\n",
       "\\begin{tabular}{r|ll}\n",
       "  & student & grade\\\\\n",
       "  & <fct> & <dbl>\\\\\n",
       "\\hline\n",
       "\t4 & victor & 4\\\\\n",
       "\\end{tabular}\n"
      ],
      "text/markdown": [
       "\n",
       "A data.frame: 1 × 2\n",
       "\n",
       "| <!--/--> | student &lt;fct&gt; | grade &lt;dbl&gt; |\n",
       "|---|---|---|\n",
       "| 4 | victor | 4 |\n",
       "\n"
      ],
      "text/plain": [
       "  student grade\n",
       "4 victor  4    "
      ]
     },
     "metadata": {},
     "output_type": "display_data"
    },
    {
     "data": {
      "text/html": [
       "<style>\n",
       ".list-inline {list-style: none; margin:0; padding: 0}\n",
       ".list-inline>li {display: inline-block}\n",
       ".list-inline>li:not(:last-child)::after {content: \"\\00b7\"; padding: 0 .5ex}\n",
       "</style>\n",
       "<ol class=list-inline><li>4</li><li>3</li><li>1</li><li>5</li><li>2</li></ol>\n"
      ],
      "text/latex": [
       "\\begin{enumerate*}\n",
       "\\item 4\n",
       "\\item 3\n",
       "\\item 1\n",
       "\\item 5\n",
       "\\item 2\n",
       "\\end{enumerate*}\n"
      ],
      "text/markdown": [
       "1. 4\n",
       "2. 3\n",
       "3. 1\n",
       "4. 5\n",
       "5. 2\n",
       "\n",
       "\n"
      ],
      "text/plain": [
       "[1] 4 3 1 5 2"
      ]
     },
     "metadata": {},
     "output_type": "display_data"
    },
    {
     "data": {
      "text/html": [
       "5"
      ],
      "text/latex": [
       "5"
      ],
      "text/markdown": [
       "5"
      ],
      "text/plain": [
       "[1] 5"
      ]
     },
     "metadata": {},
     "output_type": "display_data"
    },
    {
     "data": {
      "text/html": [
       "2"
      ],
      "text/latex": [
       "2"
      ],
      "text/markdown": [
       "2"
      ],
      "text/plain": [
       "[1] 2"
      ]
     },
     "metadata": {},
     "output_type": "display_data"
    },
    {
     "data": {
      "text/html": [
       "<style>\n",
       ".list-inline {list-style: none; margin:0; padding: 0}\n",
       ".list-inline>li {display: inline-block}\n",
       ".list-inline>li:not(:last-child)::after {content: \"\\00b7\"; padding: 0 .5ex}\n",
       "</style>\n",
       "<ol class=list-inline><li>'1'</li><li>'2'</li><li>'3'</li><li>'4'</li><li>'5'</li></ol>\n"
      ],
      "text/latex": [
       "\\begin{enumerate*}\n",
       "\\item '1'\n",
       "\\item '2'\n",
       "\\item '3'\n",
       "\\item '4'\n",
       "\\item '5'\n",
       "\\end{enumerate*}\n"
      ],
      "text/markdown": [
       "1. '1'\n",
       "2. '2'\n",
       "3. '3'\n",
       "4. '4'\n",
       "5. '5'\n",
       "\n",
       "\n"
      ],
      "text/plain": [
       "[1] \"1\" \"2\" \"3\" \"4\" \"5\""
      ]
     },
     "metadata": {},
     "output_type": "display_data"
    },
    {
     "data": {
      "text/html": [
       "<style>\n",
       ".list-inline {list-style: none; margin:0; padding: 0}\n",
       ".list-inline>li {display: inline-block}\n",
       ".list-inline>li:not(:last-child)::after {content: \"\\00b7\"; padding: 0 .5ex}\n",
       "</style>\n",
       "<ol class=list-inline><li>'student'</li><li>'grade'</li></ol>\n"
      ],
      "text/latex": [
       "\\begin{enumerate*}\n",
       "\\item 'student'\n",
       "\\item 'grade'\n",
       "\\end{enumerate*}\n"
      ],
      "text/markdown": [
       "1. 'student'\n",
       "2. 'grade'\n",
       "\n",
       "\n"
      ],
      "text/plain": [
       "[1] \"student\" \"grade\"  "
      ]
     },
     "metadata": {},
     "output_type": "display_data"
    },
    {
     "name": "stdout",
     "output_type": "stream",
     "text": [
      "'data.frame':\t5 obs. of  2 variables:\n",
      " $ student: Factor w/ 5 levels \"ahmed\",\"karin\",..: 2 1 3 5 4\n",
      " $ grade  : num  9 10 8 4 9\n"
     ]
    },
    {
     "data": {
      "text/html": [
       "8"
      ],
      "text/latex": [
       "8"
      ],
      "text/markdown": [
       "8"
      ],
      "text/plain": [
       "[1] 8"
      ]
     },
     "metadata": {},
     "output_type": "display_data"
    },
    {
     "data": {
      "text/html": [
       "<table>\n",
       "<caption>A data.frame: 6 × 4</caption>\n",
       "<thead>\n",
       "\t<tr><th></th><th scope=col>Murder</th><th scope=col>Assault</th><th scope=col>UrbanPop</th><th scope=col>Rape</th></tr>\n",
       "\t<tr><th></th><th scope=col>&lt;dbl&gt;</th><th scope=col>&lt;int&gt;</th><th scope=col>&lt;int&gt;</th><th scope=col>&lt;dbl&gt;</th></tr>\n",
       "</thead>\n",
       "<tbody>\n",
       "\t<tr><th scope=row>Alabama</th><td>13.2</td><td>236</td><td>58</td><td>21.2</td></tr>\n",
       "\t<tr><th scope=row>Alaska</th><td>10.0</td><td>263</td><td>48</td><td>44.5</td></tr>\n",
       "\t<tr><th scope=row>Arizona</th><td> 8.1</td><td>294</td><td>80</td><td>31.0</td></tr>\n",
       "\t<tr><th scope=row>Arkansas</th><td> 8.8</td><td>190</td><td>50</td><td>19.5</td></tr>\n",
       "\t<tr><th scope=row>California</th><td> 9.0</td><td>276</td><td>91</td><td>40.6</td></tr>\n",
       "\t<tr><th scope=row>Colorado</th><td> 7.9</td><td>204</td><td>78</td><td>38.7</td></tr>\n",
       "</tbody>\n",
       "</table>\n"
      ],
      "text/latex": [
       "A data.frame: 6 × 4\n",
       "\\begin{tabular}{r|llll}\n",
       "  & Murder & Assault & UrbanPop & Rape\\\\\n",
       "  & <dbl> & <int> & <int> & <dbl>\\\\\n",
       "\\hline\n",
       "\tAlabama & 13.2 & 236 & 58 & 21.2\\\\\n",
       "\tAlaska & 10.0 & 263 & 48 & 44.5\\\\\n",
       "\tArizona &  8.1 & 294 & 80 & 31.0\\\\\n",
       "\tArkansas &  8.8 & 190 & 50 & 19.5\\\\\n",
       "\tCalifornia &  9.0 & 276 & 91 & 40.6\\\\\n",
       "\tColorado &  7.9 & 204 & 78 & 38.7\\\\\n",
       "\\end{tabular}\n"
      ],
      "text/markdown": [
       "\n",
       "A data.frame: 6 × 4\n",
       "\n",
       "| <!--/--> | Murder &lt;dbl&gt; | Assault &lt;int&gt; | UrbanPop &lt;int&gt; | Rape &lt;dbl&gt; |\n",
       "|---|---|---|---|---|\n",
       "| Alabama | 13.2 | 236 | 58 | 21.2 |\n",
       "| Alaska | 10.0 | 263 | 48 | 44.5 |\n",
       "| Arizona |  8.1 | 294 | 80 | 31.0 |\n",
       "| Arkansas |  8.8 | 190 | 50 | 19.5 |\n",
       "| California |  9.0 | 276 | 91 | 40.6 |\n",
       "| Colorado |  7.9 | 204 | 78 | 38.7 |\n",
       "\n"
      ],
      "text/plain": [
       "           Murder Assault UrbanPop Rape\n",
       "Alabama    13.2   236     58       21.2\n",
       "Alaska     10.0   263     48       44.5\n",
       "Arizona     8.1   294     80       31.0\n",
       "Arkansas    8.8   190     50       19.5\n",
       "California  9.0   276     91       40.6\n",
       "Colorado    7.9   204     78       38.7"
      ]
     },
     "metadata": {},
     "output_type": "display_data"
    },
    {
     "data": {
      "text/html": [
       "<style>\n",
       ".list-inline {list-style: none; margin:0; padding: 0}\n",
       ".list-inline>li {display: inline-block}\n",
       ".list-inline>li:not(:last-child)::after {content: \"\\00b7\"; padding: 0 .5ex}\n",
       "</style>\n",
       "<ol class=list-inline><li>13.2</li><li>10</li><li>8.1</li><li>8.8</li><li>9</li><li>7.9</li><li>3.3</li><li>5.9</li><li>15.4</li><li>17.4</li><li>5.3</li><li>2.6</li><li>10.4</li><li>7.2</li><li>2.2</li><li>6</li><li>9.7</li><li>15.4</li><li>2.1</li><li>11.3</li><li>4.4</li><li>12.1</li><li>2.7</li><li>16.1</li><li>9</li><li>6</li><li>4.3</li><li>12.2</li><li>2.1</li><li>7.4</li><li>11.4</li><li>11.1</li><li>13</li><li>0.8</li><li>7.3</li><li>6.6</li><li>4.9</li><li>6.3</li><li>3.4</li><li>14.4</li><li>3.8</li><li>13.2</li><li>12.7</li><li>3.2</li><li>2.2</li><li>8.5</li><li>4</li><li>5.7</li><li>2.6</li><li>6.8</li></ol>\n"
      ],
      "text/latex": [
       "\\begin{enumerate*}\n",
       "\\item 13.2\n",
       "\\item 10\n",
       "\\item 8.1\n",
       "\\item 8.8\n",
       "\\item 9\n",
       "\\item 7.9\n",
       "\\item 3.3\n",
       "\\item 5.9\n",
       "\\item 15.4\n",
       "\\item 17.4\n",
       "\\item 5.3\n",
       "\\item 2.6\n",
       "\\item 10.4\n",
       "\\item 7.2\n",
       "\\item 2.2\n",
       "\\item 6\n",
       "\\item 9.7\n",
       "\\item 15.4\n",
       "\\item 2.1\n",
       "\\item 11.3\n",
       "\\item 4.4\n",
       "\\item 12.1\n",
       "\\item 2.7\n",
       "\\item 16.1\n",
       "\\item 9\n",
       "\\item 6\n",
       "\\item 4.3\n",
       "\\item 12.2\n",
       "\\item 2.1\n",
       "\\item 7.4\n",
       "\\item 11.4\n",
       "\\item 11.1\n",
       "\\item 13\n",
       "\\item 0.8\n",
       "\\item 7.3\n",
       "\\item 6.6\n",
       "\\item 4.9\n",
       "\\item 6.3\n",
       "\\item 3.4\n",
       "\\item 14.4\n",
       "\\item 3.8\n",
       "\\item 13.2\n",
       "\\item 12.7\n",
       "\\item 3.2\n",
       "\\item 2.2\n",
       "\\item 8.5\n",
       "\\item 4\n",
       "\\item 5.7\n",
       "\\item 2.6\n",
       "\\item 6.8\n",
       "\\end{enumerate*}\n"
      ],
      "text/markdown": [
       "1. 13.2\n",
       "2. 10\n",
       "3. 8.1\n",
       "4. 8.8\n",
       "5. 9\n",
       "6. 7.9\n",
       "7. 3.3\n",
       "8. 5.9\n",
       "9. 15.4\n",
       "10. 17.4\n",
       "11. 5.3\n",
       "12. 2.6\n",
       "13. 10.4\n",
       "14. 7.2\n",
       "15. 2.2\n",
       "16. 6\n",
       "17. 9.7\n",
       "18. 15.4\n",
       "19. 2.1\n",
       "20. 11.3\n",
       "21. 4.4\n",
       "22. 12.1\n",
       "23. 2.7\n",
       "24. 16.1\n",
       "25. 9\n",
       "26. 6\n",
       "27. 4.3\n",
       "28. 12.2\n",
       "29. 2.1\n",
       "30. 7.4\n",
       "31. 11.4\n",
       "32. 11.1\n",
       "33. 13\n",
       "34. 0.8\n",
       "35. 7.3\n",
       "36. 6.6\n",
       "37. 4.9\n",
       "38. 6.3\n",
       "39. 3.4\n",
       "40. 14.4\n",
       "41. 3.8\n",
       "42. 13.2\n",
       "43. 12.7\n",
       "44. 3.2\n",
       "45. 2.2\n",
       "46. 8.5\n",
       "47. 4\n",
       "48. 5.7\n",
       "49. 2.6\n",
       "50. 6.8\n",
       "\n",
       "\n"
      ],
      "text/plain": [
       " [1] 13.2 10.0  8.1  8.8  9.0  7.9  3.3  5.9 15.4 17.4  5.3  2.6 10.4  7.2  2.2\n",
       "[16]  6.0  9.7 15.4  2.1 11.3  4.4 12.1  2.7 16.1  9.0  6.0  4.3 12.2  2.1  7.4\n",
       "[31] 11.4 11.1 13.0  0.8  7.3  6.6  4.9  6.3  3.4 14.4  3.8 13.2 12.7  3.2  2.2\n",
       "[46]  8.5  4.0  5.7  2.6  6.8"
      ]
     },
     "metadata": {},
     "output_type": "display_data"
    },
    {
     "data": {
      "text/html": [
       "<table>\n",
       "<caption>A data.frame: 50 × 4</caption>\n",
       "<thead>\n",
       "\t<tr><th></th><th scope=col>Murder</th><th scope=col>UrbanPop</th><th scope=col>Rape</th><th scope=col>doubleofmurder</th></tr>\n",
       "\t<tr><th></th><th scope=col>&lt;dbl&gt;</th><th scope=col>&lt;int&gt;</th><th scope=col>&lt;dbl&gt;</th><th scope=col>&lt;dbl&gt;</th></tr>\n",
       "</thead>\n",
       "<tbody>\n",
       "\t<tr><th scope=row>Alabama</th><td>13.2</td><td>58</td><td>21.2</td><td>26.4</td></tr>\n",
       "\t<tr><th scope=row>Alaska</th><td>10.0</td><td>48</td><td>44.5</td><td>20.0</td></tr>\n",
       "\t<tr><th scope=row>Arizona</th><td> 8.1</td><td>80</td><td>31.0</td><td>16.2</td></tr>\n",
       "\t<tr><th scope=row>Arkansas</th><td> 8.8</td><td>50</td><td>19.5</td><td>17.6</td></tr>\n",
       "\t<tr><th scope=row>California</th><td> 9.0</td><td>91</td><td>40.6</td><td>18.0</td></tr>\n",
       "\t<tr><th scope=row>Colorado</th><td> 7.9</td><td>78</td><td>38.7</td><td>15.8</td></tr>\n",
       "\t<tr><th scope=row>Connecticut</th><td> 3.3</td><td>77</td><td>11.1</td><td> 6.6</td></tr>\n",
       "\t<tr><th scope=row>Delaware</th><td> 5.9</td><td>72</td><td>15.8</td><td>11.8</td></tr>\n",
       "\t<tr><th scope=row>Florida</th><td>15.4</td><td>80</td><td>31.9</td><td>30.8</td></tr>\n",
       "\t<tr><th scope=row>Georgia</th><td>17.4</td><td>60</td><td>25.8</td><td>34.8</td></tr>\n",
       "\t<tr><th scope=row>Hawaii</th><td> 5.3</td><td>83</td><td>20.2</td><td>10.6</td></tr>\n",
       "\t<tr><th scope=row>Idaho</th><td> 2.6</td><td>54</td><td>14.2</td><td> 5.2</td></tr>\n",
       "\t<tr><th scope=row>Illinois</th><td>10.4</td><td>83</td><td>24.0</td><td>20.8</td></tr>\n",
       "\t<tr><th scope=row>Indiana</th><td> 7.2</td><td>65</td><td>21.0</td><td>14.4</td></tr>\n",
       "\t<tr><th scope=row>Iowa</th><td> 2.2</td><td>57</td><td>11.3</td><td> 4.4</td></tr>\n",
       "\t<tr><th scope=row>Kansas</th><td> 6.0</td><td>66</td><td>18.0</td><td>12.0</td></tr>\n",
       "\t<tr><th scope=row>Kentucky</th><td> 9.7</td><td>52</td><td>16.3</td><td>19.4</td></tr>\n",
       "\t<tr><th scope=row>Louisiana</th><td>15.4</td><td>66</td><td>22.2</td><td>30.8</td></tr>\n",
       "\t<tr><th scope=row>Maine</th><td> 2.1</td><td>51</td><td> 7.8</td><td> 4.2</td></tr>\n",
       "\t<tr><th scope=row>Maryland</th><td>11.3</td><td>67</td><td>27.8</td><td>22.6</td></tr>\n",
       "\t<tr><th scope=row>Massachusetts</th><td> 4.4</td><td>85</td><td>16.3</td><td> 8.8</td></tr>\n",
       "\t<tr><th scope=row>Michigan</th><td>12.1</td><td>74</td><td>35.1</td><td>24.2</td></tr>\n",
       "\t<tr><th scope=row>Minnesota</th><td> 2.7</td><td>66</td><td>14.9</td><td> 5.4</td></tr>\n",
       "\t<tr><th scope=row>Mississippi</th><td>16.1</td><td>44</td><td>17.1</td><td>32.2</td></tr>\n",
       "\t<tr><th scope=row>Missouri</th><td> 9.0</td><td>70</td><td>28.2</td><td>18.0</td></tr>\n",
       "\t<tr><th scope=row>Montana</th><td> 6.0</td><td>53</td><td>16.4</td><td>12.0</td></tr>\n",
       "\t<tr><th scope=row>Nebraska</th><td> 4.3</td><td>62</td><td>16.5</td><td> 8.6</td></tr>\n",
       "\t<tr><th scope=row>Nevada</th><td>12.2</td><td>81</td><td>46.0</td><td>24.4</td></tr>\n",
       "\t<tr><th scope=row>New Hampshire</th><td> 2.1</td><td>56</td><td> 9.5</td><td> 4.2</td></tr>\n",
       "\t<tr><th scope=row>New Jersey</th><td> 7.4</td><td>89</td><td>18.8</td><td>14.8</td></tr>\n",
       "\t<tr><th scope=row>New Mexico</th><td>11.4</td><td>70</td><td>32.1</td><td>22.8</td></tr>\n",
       "\t<tr><th scope=row>New York</th><td>11.1</td><td>86</td><td>26.1</td><td>22.2</td></tr>\n",
       "\t<tr><th scope=row>North Carolina</th><td>13.0</td><td>45</td><td>16.1</td><td>26.0</td></tr>\n",
       "\t<tr><th scope=row>North Dakota</th><td> 0.8</td><td>44</td><td> 7.3</td><td> 1.6</td></tr>\n",
       "\t<tr><th scope=row>Ohio</th><td> 7.3</td><td>75</td><td>21.4</td><td>14.6</td></tr>\n",
       "\t<tr><th scope=row>Oklahoma</th><td> 6.6</td><td>68</td><td>20.0</td><td>13.2</td></tr>\n",
       "\t<tr><th scope=row>Oregon</th><td> 4.9</td><td>67</td><td>29.3</td><td> 9.8</td></tr>\n",
       "\t<tr><th scope=row>Pennsylvania</th><td> 6.3</td><td>72</td><td>14.9</td><td>12.6</td></tr>\n",
       "\t<tr><th scope=row>Rhode Island</th><td> 3.4</td><td>87</td><td> 8.3</td><td> 6.8</td></tr>\n",
       "\t<tr><th scope=row>South Carolina</th><td>14.4</td><td>48</td><td>22.5</td><td>28.8</td></tr>\n",
       "\t<tr><th scope=row>South Dakota</th><td> 3.8</td><td>45</td><td>12.8</td><td> 7.6</td></tr>\n",
       "\t<tr><th scope=row>Tennessee</th><td>13.2</td><td>59</td><td>26.9</td><td>26.4</td></tr>\n",
       "\t<tr><th scope=row>Texas</th><td>12.7</td><td>80</td><td>25.5</td><td>25.4</td></tr>\n",
       "\t<tr><th scope=row>Utah</th><td> 3.2</td><td>80</td><td>22.9</td><td> 6.4</td></tr>\n",
       "\t<tr><th scope=row>Vermont</th><td> 2.2</td><td>32</td><td>11.2</td><td> 4.4</td></tr>\n",
       "\t<tr><th scope=row>Virginia</th><td> 8.5</td><td>63</td><td>20.7</td><td>17.0</td></tr>\n",
       "\t<tr><th scope=row>Washington</th><td> 4.0</td><td>73</td><td>26.2</td><td> 8.0</td></tr>\n",
       "\t<tr><th scope=row>West Virginia</th><td> 5.7</td><td>39</td><td> 9.3</td><td>11.4</td></tr>\n",
       "\t<tr><th scope=row>Wisconsin</th><td> 2.6</td><td>66</td><td>10.8</td><td> 5.2</td></tr>\n",
       "\t<tr><th scope=row>Wyoming</th><td> 6.8</td><td>60</td><td>15.6</td><td>13.6</td></tr>\n",
       "</tbody>\n",
       "</table>\n"
      ],
      "text/latex": [
       "A data.frame: 50 × 4\n",
       "\\begin{tabular}{r|llll}\n",
       "  & Murder & UrbanPop & Rape & doubleofmurder\\\\\n",
       "  & <dbl> & <int> & <dbl> & <dbl>\\\\\n",
       "\\hline\n",
       "\tAlabama & 13.2 & 58 & 21.2 & 26.4\\\\\n",
       "\tAlaska & 10.0 & 48 & 44.5 & 20.0\\\\\n",
       "\tArizona &  8.1 & 80 & 31.0 & 16.2\\\\\n",
       "\tArkansas &  8.8 & 50 & 19.5 & 17.6\\\\\n",
       "\tCalifornia &  9.0 & 91 & 40.6 & 18.0\\\\\n",
       "\tColorado &  7.9 & 78 & 38.7 & 15.8\\\\\n",
       "\tConnecticut &  3.3 & 77 & 11.1 &  6.6\\\\\n",
       "\tDelaware &  5.9 & 72 & 15.8 & 11.8\\\\\n",
       "\tFlorida & 15.4 & 80 & 31.9 & 30.8\\\\\n",
       "\tGeorgia & 17.4 & 60 & 25.8 & 34.8\\\\\n",
       "\tHawaii &  5.3 & 83 & 20.2 & 10.6\\\\\n",
       "\tIdaho &  2.6 & 54 & 14.2 &  5.2\\\\\n",
       "\tIllinois & 10.4 & 83 & 24.0 & 20.8\\\\\n",
       "\tIndiana &  7.2 & 65 & 21.0 & 14.4\\\\\n",
       "\tIowa &  2.2 & 57 & 11.3 &  4.4\\\\\n",
       "\tKansas &  6.0 & 66 & 18.0 & 12.0\\\\\n",
       "\tKentucky &  9.7 & 52 & 16.3 & 19.4\\\\\n",
       "\tLouisiana & 15.4 & 66 & 22.2 & 30.8\\\\\n",
       "\tMaine &  2.1 & 51 &  7.8 &  4.2\\\\\n",
       "\tMaryland & 11.3 & 67 & 27.8 & 22.6\\\\\n",
       "\tMassachusetts &  4.4 & 85 & 16.3 &  8.8\\\\\n",
       "\tMichigan & 12.1 & 74 & 35.1 & 24.2\\\\\n",
       "\tMinnesota &  2.7 & 66 & 14.9 &  5.4\\\\\n",
       "\tMississippi & 16.1 & 44 & 17.1 & 32.2\\\\\n",
       "\tMissouri &  9.0 & 70 & 28.2 & 18.0\\\\\n",
       "\tMontana &  6.0 & 53 & 16.4 & 12.0\\\\\n",
       "\tNebraska &  4.3 & 62 & 16.5 &  8.6\\\\\n",
       "\tNevada & 12.2 & 81 & 46.0 & 24.4\\\\\n",
       "\tNew Hampshire &  2.1 & 56 &  9.5 &  4.2\\\\\n",
       "\tNew Jersey &  7.4 & 89 & 18.8 & 14.8\\\\\n",
       "\tNew Mexico & 11.4 & 70 & 32.1 & 22.8\\\\\n",
       "\tNew York & 11.1 & 86 & 26.1 & 22.2\\\\\n",
       "\tNorth Carolina & 13.0 & 45 & 16.1 & 26.0\\\\\n",
       "\tNorth Dakota &  0.8 & 44 &  7.3 &  1.6\\\\\n",
       "\tOhio &  7.3 & 75 & 21.4 & 14.6\\\\\n",
       "\tOklahoma &  6.6 & 68 & 20.0 & 13.2\\\\\n",
       "\tOregon &  4.9 & 67 & 29.3 &  9.8\\\\\n",
       "\tPennsylvania &  6.3 & 72 & 14.9 & 12.6\\\\\n",
       "\tRhode Island &  3.4 & 87 &  8.3 &  6.8\\\\\n",
       "\tSouth Carolina & 14.4 & 48 & 22.5 & 28.8\\\\\n",
       "\tSouth Dakota &  3.8 & 45 & 12.8 &  7.6\\\\\n",
       "\tTennessee & 13.2 & 59 & 26.9 & 26.4\\\\\n",
       "\tTexas & 12.7 & 80 & 25.5 & 25.4\\\\\n",
       "\tUtah &  3.2 & 80 & 22.9 &  6.4\\\\\n",
       "\tVermont &  2.2 & 32 & 11.2 &  4.4\\\\\n",
       "\tVirginia &  8.5 & 63 & 20.7 & 17.0\\\\\n",
       "\tWashington &  4.0 & 73 & 26.2 &  8.0\\\\\n",
       "\tWest Virginia &  5.7 & 39 &  9.3 & 11.4\\\\\n",
       "\tWisconsin &  2.6 & 66 & 10.8 &  5.2\\\\\n",
       "\tWyoming &  6.8 & 60 & 15.6 & 13.6\\\\\n",
       "\\end{tabular}\n"
      ],
      "text/markdown": [
       "\n",
       "A data.frame: 50 × 4\n",
       "\n",
       "| <!--/--> | Murder &lt;dbl&gt; | UrbanPop &lt;int&gt; | Rape &lt;dbl&gt; | doubleofmurder &lt;dbl&gt; |\n",
       "|---|---|---|---|---|\n",
       "| Alabama | 13.2 | 58 | 21.2 | 26.4 |\n",
       "| Alaska | 10.0 | 48 | 44.5 | 20.0 |\n",
       "| Arizona |  8.1 | 80 | 31.0 | 16.2 |\n",
       "| Arkansas |  8.8 | 50 | 19.5 | 17.6 |\n",
       "| California |  9.0 | 91 | 40.6 | 18.0 |\n",
       "| Colorado |  7.9 | 78 | 38.7 | 15.8 |\n",
       "| Connecticut |  3.3 | 77 | 11.1 |  6.6 |\n",
       "| Delaware |  5.9 | 72 | 15.8 | 11.8 |\n",
       "| Florida | 15.4 | 80 | 31.9 | 30.8 |\n",
       "| Georgia | 17.4 | 60 | 25.8 | 34.8 |\n",
       "| Hawaii |  5.3 | 83 | 20.2 | 10.6 |\n",
       "| Idaho |  2.6 | 54 | 14.2 |  5.2 |\n",
       "| Illinois | 10.4 | 83 | 24.0 | 20.8 |\n",
       "| Indiana |  7.2 | 65 | 21.0 | 14.4 |\n",
       "| Iowa |  2.2 | 57 | 11.3 |  4.4 |\n",
       "| Kansas |  6.0 | 66 | 18.0 | 12.0 |\n",
       "| Kentucky |  9.7 | 52 | 16.3 | 19.4 |\n",
       "| Louisiana | 15.4 | 66 | 22.2 | 30.8 |\n",
       "| Maine |  2.1 | 51 |  7.8 |  4.2 |\n",
       "| Maryland | 11.3 | 67 | 27.8 | 22.6 |\n",
       "| Massachusetts |  4.4 | 85 | 16.3 |  8.8 |\n",
       "| Michigan | 12.1 | 74 | 35.1 | 24.2 |\n",
       "| Minnesota |  2.7 | 66 | 14.9 |  5.4 |\n",
       "| Mississippi | 16.1 | 44 | 17.1 | 32.2 |\n",
       "| Missouri |  9.0 | 70 | 28.2 | 18.0 |\n",
       "| Montana |  6.0 | 53 | 16.4 | 12.0 |\n",
       "| Nebraska |  4.3 | 62 | 16.5 |  8.6 |\n",
       "| Nevada | 12.2 | 81 | 46.0 | 24.4 |\n",
       "| New Hampshire |  2.1 | 56 |  9.5 |  4.2 |\n",
       "| New Jersey |  7.4 | 89 | 18.8 | 14.8 |\n",
       "| New Mexico | 11.4 | 70 | 32.1 | 22.8 |\n",
       "| New York | 11.1 | 86 | 26.1 | 22.2 |\n",
       "| North Carolina | 13.0 | 45 | 16.1 | 26.0 |\n",
       "| North Dakota |  0.8 | 44 |  7.3 |  1.6 |\n",
       "| Ohio |  7.3 | 75 | 21.4 | 14.6 |\n",
       "| Oklahoma |  6.6 | 68 | 20.0 | 13.2 |\n",
       "| Oregon |  4.9 | 67 | 29.3 |  9.8 |\n",
       "| Pennsylvania |  6.3 | 72 | 14.9 | 12.6 |\n",
       "| Rhode Island |  3.4 | 87 |  8.3 |  6.8 |\n",
       "| South Carolina | 14.4 | 48 | 22.5 | 28.8 |\n",
       "| South Dakota |  3.8 | 45 | 12.8 |  7.6 |\n",
       "| Tennessee | 13.2 | 59 | 26.9 | 26.4 |\n",
       "| Texas | 12.7 | 80 | 25.5 | 25.4 |\n",
       "| Utah |  3.2 | 80 | 22.9 |  6.4 |\n",
       "| Vermont |  2.2 | 32 | 11.2 |  4.4 |\n",
       "| Virginia |  8.5 | 63 | 20.7 | 17.0 |\n",
       "| Washington |  4.0 | 73 | 26.2 |  8.0 |\n",
       "| West Virginia |  5.7 | 39 |  9.3 | 11.4 |\n",
       "| Wisconsin |  2.6 | 66 | 10.8 |  5.2 |\n",
       "| Wyoming |  6.8 | 60 | 15.6 | 13.6 |\n",
       "\n"
      ],
      "text/plain": [
       "               Murder UrbanPop Rape doubleofmurder\n",
       "Alabama        13.2   58       21.2 26.4          \n",
       "Alaska         10.0   48       44.5 20.0          \n",
       "Arizona         8.1   80       31.0 16.2          \n",
       "Arkansas        8.8   50       19.5 17.6          \n",
       "California      9.0   91       40.6 18.0          \n",
       "Colorado        7.9   78       38.7 15.8          \n",
       "Connecticut     3.3   77       11.1  6.6          \n",
       "Delaware        5.9   72       15.8 11.8          \n",
       "Florida        15.4   80       31.9 30.8          \n",
       "Georgia        17.4   60       25.8 34.8          \n",
       "Hawaii          5.3   83       20.2 10.6          \n",
       "Idaho           2.6   54       14.2  5.2          \n",
       "Illinois       10.4   83       24.0 20.8          \n",
       "Indiana         7.2   65       21.0 14.4          \n",
       "Iowa            2.2   57       11.3  4.4          \n",
       "Kansas          6.0   66       18.0 12.0          \n",
       "Kentucky        9.7   52       16.3 19.4          \n",
       "Louisiana      15.4   66       22.2 30.8          \n",
       "Maine           2.1   51        7.8  4.2          \n",
       "Maryland       11.3   67       27.8 22.6          \n",
       "Massachusetts   4.4   85       16.3  8.8          \n",
       "Michigan       12.1   74       35.1 24.2          \n",
       "Minnesota       2.7   66       14.9  5.4          \n",
       "Mississippi    16.1   44       17.1 32.2          \n",
       "Missouri        9.0   70       28.2 18.0          \n",
       "Montana         6.0   53       16.4 12.0          \n",
       "Nebraska        4.3   62       16.5  8.6          \n",
       "Nevada         12.2   81       46.0 24.4          \n",
       "New Hampshire   2.1   56        9.5  4.2          \n",
       "New Jersey      7.4   89       18.8 14.8          \n",
       "New Mexico     11.4   70       32.1 22.8          \n",
       "New York       11.1   86       26.1 22.2          \n",
       "North Carolina 13.0   45       16.1 26.0          \n",
       "North Dakota    0.8   44        7.3  1.6          \n",
       "Ohio            7.3   75       21.4 14.6          \n",
       "Oklahoma        6.6   68       20.0 13.2          \n",
       "Oregon          4.9   67       29.3  9.8          \n",
       "Pennsylvania    6.3   72       14.9 12.6          \n",
       "Rhode Island    3.4   87        8.3  6.8          \n",
       "South Carolina 14.4   48       22.5 28.8          \n",
       "South Dakota    3.8   45       12.8  7.6          \n",
       "Tennessee      13.2   59       26.9 26.4          \n",
       "Texas          12.7   80       25.5 25.4          \n",
       "Utah            3.2   80       22.9  6.4          \n",
       "Vermont         2.2   32       11.2  4.4          \n",
       "Virginia        8.5   63       20.7 17.0          \n",
       "Washington      4.0   73       26.2  8.0          \n",
       "West Virginia   5.7   39        9.3 11.4          \n",
       "Wisconsin       2.6   66       10.8  5.2          \n",
       "Wyoming         6.8   60       15.6 13.6          "
      ]
     },
     "metadata": {},
     "output_type": "display_data"
    },
    {
     "data": {
      "text/html": [
       "<table>\n",
       "<caption>A data.frame: 31 × 5</caption>\n",
       "<thead>\n",
       "\t<tr><th></th><th scope=col>Murder</th><th scope=col>Assault</th><th scope=col>UrbanPop</th><th scope=col>Rape</th><th scope=col>doubleofmurder</th></tr>\n",
       "\t<tr><th></th><th scope=col>&lt;dbl&gt;</th><th scope=col>&lt;int&gt;</th><th scope=col>&lt;int&gt;</th><th scope=col>&lt;dbl&gt;</th><th scope=col>&lt;dbl&gt;</th></tr>\n",
       "</thead>\n",
       "<tbody>\n",
       "\t<tr><th scope=row>Arkansas</th><td> 8.8</td><td>190</td><td>50</td><td>19.5</td><td>17.6</td></tr>\n",
       "\t<tr><th scope=row>Connecticut</th><td> 3.3</td><td>110</td><td>77</td><td>11.1</td><td> 6.6</td></tr>\n",
       "\t<tr><th scope=row>Hawaii</th><td> 5.3</td><td> 46</td><td>83</td><td>20.2</td><td>10.6</td></tr>\n",
       "\t<tr><th scope=row>Idaho</th><td> 2.6</td><td>120</td><td>54</td><td>14.2</td><td> 5.2</td></tr>\n",
       "\t<tr><th scope=row>Indiana</th><td> 7.2</td><td>113</td><td>65</td><td>21.0</td><td>14.4</td></tr>\n",
       "\t<tr><th scope=row>Iowa</th><td> 2.2</td><td> 56</td><td>57</td><td>11.3</td><td> 4.4</td></tr>\n",
       "\t<tr><th scope=row>Kansas</th><td> 6.0</td><td>115</td><td>66</td><td>18.0</td><td>12.0</td></tr>\n",
       "\t<tr><th scope=row>Kentucky</th><td> 9.7</td><td>109</td><td>52</td><td>16.3</td><td>19.4</td></tr>\n",
       "\t<tr><th scope=row>Maine</th><td> 2.1</td><td> 83</td><td>51</td><td> 7.8</td><td> 4.2</td></tr>\n",
       "\t<tr><th scope=row>Massachusetts</th><td> 4.4</td><td>149</td><td>85</td><td>16.3</td><td> 8.8</td></tr>\n",
       "\t<tr><th scope=row>Minnesota</th><td> 2.7</td><td> 72</td><td>66</td><td>14.9</td><td> 5.4</td></tr>\n",
       "\t<tr><th scope=row>Missouri</th><td> 9.0</td><td>178</td><td>70</td><td>28.2</td><td>18.0</td></tr>\n",
       "\t<tr><th scope=row>Montana</th><td> 6.0</td><td>109</td><td>53</td><td>16.4</td><td>12.0</td></tr>\n",
       "\t<tr><th scope=row>Nebraska</th><td> 4.3</td><td>102</td><td>62</td><td>16.5</td><td> 8.6</td></tr>\n",
       "\t<tr><th scope=row>New Hampshire</th><td> 2.1</td><td> 57</td><td>56</td><td> 9.5</td><td> 4.2</td></tr>\n",
       "\t<tr><th scope=row>New Jersey</th><td> 7.4</td><td>159</td><td>89</td><td>18.8</td><td>14.8</td></tr>\n",
       "\t<tr><th scope=row>North Dakota</th><td> 0.8</td><td> 45</td><td>44</td><td> 7.3</td><td> 1.6</td></tr>\n",
       "\t<tr><th scope=row>Ohio</th><td> 7.3</td><td>120</td><td>75</td><td>21.4</td><td>14.6</td></tr>\n",
       "\t<tr><th scope=row>Oklahoma</th><td> 6.6</td><td>151</td><td>68</td><td>20.0</td><td>13.2</td></tr>\n",
       "\t<tr><th scope=row>Oregon</th><td> 4.9</td><td>159</td><td>67</td><td>29.3</td><td> 9.8</td></tr>\n",
       "\t<tr><th scope=row>Pennsylvania</th><td> 6.3</td><td>106</td><td>72</td><td>14.9</td><td>12.6</td></tr>\n",
       "\t<tr><th scope=row>Rhode Island</th><td> 3.4</td><td>174</td><td>87</td><td> 8.3</td><td> 6.8</td></tr>\n",
       "\t<tr><th scope=row>South Dakota</th><td> 3.8</td><td> 86</td><td>45</td><td>12.8</td><td> 7.6</td></tr>\n",
       "\t<tr><th scope=row>Tennessee</th><td>13.2</td><td>188</td><td>59</td><td>26.9</td><td>26.4</td></tr>\n",
       "\t<tr><th scope=row>Utah</th><td> 3.2</td><td>120</td><td>80</td><td>22.9</td><td> 6.4</td></tr>\n",
       "\t<tr><th scope=row>Vermont</th><td> 2.2</td><td> 48</td><td>32</td><td>11.2</td><td> 4.4</td></tr>\n",
       "\t<tr><th scope=row>Virginia</th><td> 8.5</td><td>156</td><td>63</td><td>20.7</td><td>17.0</td></tr>\n",
       "\t<tr><th scope=row>Washington</th><td> 4.0</td><td>145</td><td>73</td><td>26.2</td><td> 8.0</td></tr>\n",
       "\t<tr><th scope=row>West Virginia</th><td> 5.7</td><td> 81</td><td>39</td><td> 9.3</td><td>11.4</td></tr>\n",
       "\t<tr><th scope=row>Wisconsin</th><td> 2.6</td><td> 53</td><td>66</td><td>10.8</td><td> 5.2</td></tr>\n",
       "\t<tr><th scope=row>Wyoming</th><td> 6.8</td><td>161</td><td>60</td><td>15.6</td><td>13.6</td></tr>\n",
       "</tbody>\n",
       "</table>\n"
      ],
      "text/latex": [
       "A data.frame: 31 × 5\n",
       "\\begin{tabular}{r|lllll}\n",
       "  & Murder & Assault & UrbanPop & Rape & doubleofmurder\\\\\n",
       "  & <dbl> & <int> & <int> & <dbl> & <dbl>\\\\\n",
       "\\hline\n",
       "\tArkansas &  8.8 & 190 & 50 & 19.5 & 17.6\\\\\n",
       "\tConnecticut &  3.3 & 110 & 77 & 11.1 &  6.6\\\\\n",
       "\tHawaii &  5.3 &  46 & 83 & 20.2 & 10.6\\\\\n",
       "\tIdaho &  2.6 & 120 & 54 & 14.2 &  5.2\\\\\n",
       "\tIndiana &  7.2 & 113 & 65 & 21.0 & 14.4\\\\\n",
       "\tIowa &  2.2 &  56 & 57 & 11.3 &  4.4\\\\\n",
       "\tKansas &  6.0 & 115 & 66 & 18.0 & 12.0\\\\\n",
       "\tKentucky &  9.7 & 109 & 52 & 16.3 & 19.4\\\\\n",
       "\tMaine &  2.1 &  83 & 51 &  7.8 &  4.2\\\\\n",
       "\tMassachusetts &  4.4 & 149 & 85 & 16.3 &  8.8\\\\\n",
       "\tMinnesota &  2.7 &  72 & 66 & 14.9 &  5.4\\\\\n",
       "\tMissouri &  9.0 & 178 & 70 & 28.2 & 18.0\\\\\n",
       "\tMontana &  6.0 & 109 & 53 & 16.4 & 12.0\\\\\n",
       "\tNebraska &  4.3 & 102 & 62 & 16.5 &  8.6\\\\\n",
       "\tNew Hampshire &  2.1 &  57 & 56 &  9.5 &  4.2\\\\\n",
       "\tNew Jersey &  7.4 & 159 & 89 & 18.8 & 14.8\\\\\n",
       "\tNorth Dakota &  0.8 &  45 & 44 &  7.3 &  1.6\\\\\n",
       "\tOhio &  7.3 & 120 & 75 & 21.4 & 14.6\\\\\n",
       "\tOklahoma &  6.6 & 151 & 68 & 20.0 & 13.2\\\\\n",
       "\tOregon &  4.9 & 159 & 67 & 29.3 &  9.8\\\\\n",
       "\tPennsylvania &  6.3 & 106 & 72 & 14.9 & 12.6\\\\\n",
       "\tRhode Island &  3.4 & 174 & 87 &  8.3 &  6.8\\\\\n",
       "\tSouth Dakota &  3.8 &  86 & 45 & 12.8 &  7.6\\\\\n",
       "\tTennessee & 13.2 & 188 & 59 & 26.9 & 26.4\\\\\n",
       "\tUtah &  3.2 & 120 & 80 & 22.9 &  6.4\\\\\n",
       "\tVermont &  2.2 &  48 & 32 & 11.2 &  4.4\\\\\n",
       "\tVirginia &  8.5 & 156 & 63 & 20.7 & 17.0\\\\\n",
       "\tWashington &  4.0 & 145 & 73 & 26.2 &  8.0\\\\\n",
       "\tWest Virginia &  5.7 &  81 & 39 &  9.3 & 11.4\\\\\n",
       "\tWisconsin &  2.6 &  53 & 66 & 10.8 &  5.2\\\\\n",
       "\tWyoming &  6.8 & 161 & 60 & 15.6 & 13.6\\\\\n",
       "\\end{tabular}\n"
      ],
      "text/markdown": [
       "\n",
       "A data.frame: 31 × 5\n",
       "\n",
       "| <!--/--> | Murder &lt;dbl&gt; | Assault &lt;int&gt; | UrbanPop &lt;int&gt; | Rape &lt;dbl&gt; | doubleofmurder &lt;dbl&gt; |\n",
       "|---|---|---|---|---|---|\n",
       "| Arkansas |  8.8 | 190 | 50 | 19.5 | 17.6 |\n",
       "| Connecticut |  3.3 | 110 | 77 | 11.1 |  6.6 |\n",
       "| Hawaii |  5.3 |  46 | 83 | 20.2 | 10.6 |\n",
       "| Idaho |  2.6 | 120 | 54 | 14.2 |  5.2 |\n",
       "| Indiana |  7.2 | 113 | 65 | 21.0 | 14.4 |\n",
       "| Iowa |  2.2 |  56 | 57 | 11.3 |  4.4 |\n",
       "| Kansas |  6.0 | 115 | 66 | 18.0 | 12.0 |\n",
       "| Kentucky |  9.7 | 109 | 52 | 16.3 | 19.4 |\n",
       "| Maine |  2.1 |  83 | 51 |  7.8 |  4.2 |\n",
       "| Massachusetts |  4.4 | 149 | 85 | 16.3 |  8.8 |\n",
       "| Minnesota |  2.7 |  72 | 66 | 14.9 |  5.4 |\n",
       "| Missouri |  9.0 | 178 | 70 | 28.2 | 18.0 |\n",
       "| Montana |  6.0 | 109 | 53 | 16.4 | 12.0 |\n",
       "| Nebraska |  4.3 | 102 | 62 | 16.5 |  8.6 |\n",
       "| New Hampshire |  2.1 |  57 | 56 |  9.5 |  4.2 |\n",
       "| New Jersey |  7.4 | 159 | 89 | 18.8 | 14.8 |\n",
       "| North Dakota |  0.8 |  45 | 44 |  7.3 |  1.6 |\n",
       "| Ohio |  7.3 | 120 | 75 | 21.4 | 14.6 |\n",
       "| Oklahoma |  6.6 | 151 | 68 | 20.0 | 13.2 |\n",
       "| Oregon |  4.9 | 159 | 67 | 29.3 |  9.8 |\n",
       "| Pennsylvania |  6.3 | 106 | 72 | 14.9 | 12.6 |\n",
       "| Rhode Island |  3.4 | 174 | 87 |  8.3 |  6.8 |\n",
       "| South Dakota |  3.8 |  86 | 45 | 12.8 |  7.6 |\n",
       "| Tennessee | 13.2 | 188 | 59 | 26.9 | 26.4 |\n",
       "| Utah |  3.2 | 120 | 80 | 22.9 |  6.4 |\n",
       "| Vermont |  2.2 |  48 | 32 | 11.2 |  4.4 |\n",
       "| Virginia |  8.5 | 156 | 63 | 20.7 | 17.0 |\n",
       "| Washington |  4.0 | 145 | 73 | 26.2 |  8.0 |\n",
       "| West Virginia |  5.7 |  81 | 39 |  9.3 | 11.4 |\n",
       "| Wisconsin |  2.6 |  53 | 66 | 10.8 |  5.2 |\n",
       "| Wyoming |  6.8 | 161 | 60 | 15.6 | 13.6 |\n",
       "\n"
      ],
      "text/plain": [
       "              Murder Assault UrbanPop Rape doubleofmurder\n",
       "Arkansas       8.8   190     50       19.5 17.6          \n",
       "Connecticut    3.3   110     77       11.1  6.6          \n",
       "Hawaii         5.3    46     83       20.2 10.6          \n",
       "Idaho          2.6   120     54       14.2  5.2          \n",
       "Indiana        7.2   113     65       21.0 14.4          \n",
       "Iowa           2.2    56     57       11.3  4.4          \n",
       "Kansas         6.0   115     66       18.0 12.0          \n",
       "Kentucky       9.7   109     52       16.3 19.4          \n",
       "Maine          2.1    83     51        7.8  4.2          \n",
       "Massachusetts  4.4   149     85       16.3  8.8          \n",
       "Minnesota      2.7    72     66       14.9  5.4          \n",
       "Missouri       9.0   178     70       28.2 18.0          \n",
       "Montana        6.0   109     53       16.4 12.0          \n",
       "Nebraska       4.3   102     62       16.5  8.6          \n",
       "New Hampshire  2.1    57     56        9.5  4.2          \n",
       "New Jersey     7.4   159     89       18.8 14.8          \n",
       "North Dakota   0.8    45     44        7.3  1.6          \n",
       "Ohio           7.3   120     75       21.4 14.6          \n",
       "Oklahoma       6.6   151     68       20.0 13.2          \n",
       "Oregon         4.9   159     67       29.3  9.8          \n",
       "Pennsylvania   6.3   106     72       14.9 12.6          \n",
       "Rhode Island   3.4   174     87        8.3  6.8          \n",
       "South Dakota   3.8    86     45       12.8  7.6          \n",
       "Tennessee     13.2   188     59       26.9 26.4          \n",
       "Utah           3.2   120     80       22.9  6.4          \n",
       "Vermont        2.2    48     32       11.2  4.4          \n",
       "Virginia       8.5   156     63       20.7 17.0          \n",
       "Washington     4.0   145     73       26.2  8.0          \n",
       "West Virginia  5.7    81     39        9.3 11.4          \n",
       "Wisconsin      2.6    53     66       10.8  5.2          \n",
       "Wyoming        6.8   161     60       15.6 13.6          "
      ]
     },
     "metadata": {},
     "output_type": "display_data"
    }
   ],
   "source": [
    "# Data Frames \n",
    "\n",
    "data(\"USArrests\") # loading the dataset from R \n",
    "str(USArrests) # to find the structure of the dataframe \n",
    "   # we have 50 observations and 4 variables and the structure of each variable of the 4 \n",
    "summary(USArrests) # to find the numerical summary of the dataframe -- statistical summary : mean , sd , minimum , maximum among others.\n",
    "\n",
    "################## CREATING A DATA FRAME MANUALLAY #######################\n",
    "\n",
    "student <- c('karin' , 'ahmed' , 'maria' , 'victor' , 'noura')\n",
    "grade <- c(9 , 10 , 8 , 4 , 9)\n",
    "student_grades <- data.frame(student , grade)\n",
    "student_grades\n",
    "\n",
    "################## DATA FRAME INDEXING AND SELECTION ######################\n",
    "\n",
    "student_grades[1,] # to select the first row \n",
    "student_grades[,1] # to select the first column \n",
    "student_grades$student # selecting the column student \n",
    "\n",
    "################## SELECTING A PART OF THE DATA THAT MEETS CERTAIN CRITERIA ##################\n",
    "\n",
    "subset(student_grades , subset = grade < 5)\n",
    "###################### order the dataframe by certain column ###################################\n",
    "sorted.grade <- order(student_grades['grade']) # grades are sorted by index \n",
    "sorted.grade\n",
    "\n",
    "################### DATA FRAME OPERATIONS ##############################\n",
    "\n",
    "# data__ <- read.csv(\"# just put a csv  file name that is in your working directory\") #\n",
    "nrow(student_grades) # to find the number of rows in a data frame \n",
    "ncol(student_grades) # to find the number of columns in a data frame \n",
    "rownames(student_grades) # to view the names of the rows \n",
    "colnames(student_grades) # to view the names of the columns \n",
    "str(student_grades) # to view the structure of the data frame \n",
    "student_grades[[3,2]] # ---indexing, to find the element that is at the 3rd row and the 2nd column \n",
    "head(USArrests) # to view the first 6 elements of the dataset\n",
    "USArrests[['Murder']] # to view the values of the column : MURDER \n",
    "USArrests$doubleofmurder <- 2 * USArrests$Murder  # creating a new column in the dataset\n",
    "USArrests[-2] # view the rows of the dataframe except  the second row\n",
    "USArrests[USArrests$Assault < 200 ,] # selecting the rows that meet certain criteria \n",
    "subset(USArrests , Assault < 200  & Murder >= 5) # select a part of the dataframe that meets certain criteria \n",
    "is.na(USArrests) # to check for the missing values \n",
    "USArrests[is.na(USArrests)] <- 0 # setting the missing values  if any in the dataframe to zero\n",
    "USArrests$Assault[is.na(USArrests$Assault)] <- mean(USArrests$Assault) # setting the missing values of the column Assault to the average of the column \n"
   ]
  },
  {
   "cell_type": "code",
   "execution_count": 17,
   "metadata": {},
   "outputs": [
    {
     "data": {
      "text/html": [
       "<ol>\n",
       "\t<li><style>\n",
       ".list-inline {list-style: none; margin:0; padding: 0}\n",
       ".list-inline>li {display: inline-block}\n",
       ".list-inline>li:not(:last-child)::after {content: \"\\00b7\"; padding: 0 .5ex}\n",
       "</style>\n",
       "<ol class=list-inline><li>653267890</li><li>890765321</li><li>87832987</li></ol>\n",
       "</li>\n",
       "\t<li><table>\n",
       "<caption>A matrix: 2 × 5 of type int</caption>\n",
       "<tbody>\n",
       "\t<tr><td>1</td><td>3</td><td>5</td><td>7</td><td> 9</td></tr>\n",
       "\t<tr><td>2</td><td>4</td><td>6</td><td>8</td><td>10</td></tr>\n",
       "</tbody>\n",
       "</table>\n",
       "</li>\n",
       "\t<li><table>\n",
       "<caption>A data.frame: 50 × 4</caption>\n",
       "<thead>\n",
       "\t<tr><th></th><th scope=col>Murder</th><th scope=col>Assault</th><th scope=col>UrbanPop</th><th scope=col>Rape</th></tr>\n",
       "\t<tr><th></th><th scope=col>&lt;dbl&gt;</th><th scope=col>&lt;int&gt;</th><th scope=col>&lt;int&gt;</th><th scope=col>&lt;dbl&gt;</th></tr>\n",
       "</thead>\n",
       "<tbody>\n",
       "\t<tr><th scope=row>Alabama</th><td>13.2</td><td>236</td><td>58</td><td>21.2</td></tr>\n",
       "\t<tr><th scope=row>Alaska</th><td>10.0</td><td>263</td><td>48</td><td>44.5</td></tr>\n",
       "\t<tr><th scope=row>Arizona</th><td> 8.1</td><td>294</td><td>80</td><td>31.0</td></tr>\n",
       "\t<tr><th scope=row>Arkansas</th><td> 8.8</td><td>190</td><td>50</td><td>19.5</td></tr>\n",
       "\t<tr><th scope=row>California</th><td> 9.0</td><td>276</td><td>91</td><td>40.6</td></tr>\n",
       "\t<tr><th scope=row>Colorado</th><td> 7.9</td><td>204</td><td>78</td><td>38.7</td></tr>\n",
       "\t<tr><th scope=row>Connecticut</th><td> 3.3</td><td>110</td><td>77</td><td>11.1</td></tr>\n",
       "\t<tr><th scope=row>Delaware</th><td> 5.9</td><td>238</td><td>72</td><td>15.8</td></tr>\n",
       "\t<tr><th scope=row>Florida</th><td>15.4</td><td>335</td><td>80</td><td>31.9</td></tr>\n",
       "\t<tr><th scope=row>Georgia</th><td>17.4</td><td>211</td><td>60</td><td>25.8</td></tr>\n",
       "\t<tr><th scope=row>Hawaii</th><td> 5.3</td><td> 46</td><td>83</td><td>20.2</td></tr>\n",
       "\t<tr><th scope=row>Idaho</th><td> 2.6</td><td>120</td><td>54</td><td>14.2</td></tr>\n",
       "\t<tr><th scope=row>Illinois</th><td>10.4</td><td>249</td><td>83</td><td>24.0</td></tr>\n",
       "\t<tr><th scope=row>Indiana</th><td> 7.2</td><td>113</td><td>65</td><td>21.0</td></tr>\n",
       "\t<tr><th scope=row>Iowa</th><td> 2.2</td><td> 56</td><td>57</td><td>11.3</td></tr>\n",
       "\t<tr><th scope=row>Kansas</th><td> 6.0</td><td>115</td><td>66</td><td>18.0</td></tr>\n",
       "\t<tr><th scope=row>Kentucky</th><td> 9.7</td><td>109</td><td>52</td><td>16.3</td></tr>\n",
       "\t<tr><th scope=row>Louisiana</th><td>15.4</td><td>249</td><td>66</td><td>22.2</td></tr>\n",
       "\t<tr><th scope=row>Maine</th><td> 2.1</td><td> 83</td><td>51</td><td> 7.8</td></tr>\n",
       "\t<tr><th scope=row>Maryland</th><td>11.3</td><td>300</td><td>67</td><td>27.8</td></tr>\n",
       "\t<tr><th scope=row>Massachusetts</th><td> 4.4</td><td>149</td><td>85</td><td>16.3</td></tr>\n",
       "\t<tr><th scope=row>Michigan</th><td>12.1</td><td>255</td><td>74</td><td>35.1</td></tr>\n",
       "\t<tr><th scope=row>Minnesota</th><td> 2.7</td><td> 72</td><td>66</td><td>14.9</td></tr>\n",
       "\t<tr><th scope=row>Mississippi</th><td>16.1</td><td>259</td><td>44</td><td>17.1</td></tr>\n",
       "\t<tr><th scope=row>Missouri</th><td> 9.0</td><td>178</td><td>70</td><td>28.2</td></tr>\n",
       "\t<tr><th scope=row>Montana</th><td> 6.0</td><td>109</td><td>53</td><td>16.4</td></tr>\n",
       "\t<tr><th scope=row>Nebraska</th><td> 4.3</td><td>102</td><td>62</td><td>16.5</td></tr>\n",
       "\t<tr><th scope=row>Nevada</th><td>12.2</td><td>252</td><td>81</td><td>46.0</td></tr>\n",
       "\t<tr><th scope=row>New Hampshire</th><td> 2.1</td><td> 57</td><td>56</td><td> 9.5</td></tr>\n",
       "\t<tr><th scope=row>New Jersey</th><td> 7.4</td><td>159</td><td>89</td><td>18.8</td></tr>\n",
       "\t<tr><th scope=row>New Mexico</th><td>11.4</td><td>285</td><td>70</td><td>32.1</td></tr>\n",
       "\t<tr><th scope=row>New York</th><td>11.1</td><td>254</td><td>86</td><td>26.1</td></tr>\n",
       "\t<tr><th scope=row>North Carolina</th><td>13.0</td><td>337</td><td>45</td><td>16.1</td></tr>\n",
       "\t<tr><th scope=row>North Dakota</th><td> 0.8</td><td> 45</td><td>44</td><td> 7.3</td></tr>\n",
       "\t<tr><th scope=row>Ohio</th><td> 7.3</td><td>120</td><td>75</td><td>21.4</td></tr>\n",
       "\t<tr><th scope=row>Oklahoma</th><td> 6.6</td><td>151</td><td>68</td><td>20.0</td></tr>\n",
       "\t<tr><th scope=row>Oregon</th><td> 4.9</td><td>159</td><td>67</td><td>29.3</td></tr>\n",
       "\t<tr><th scope=row>Pennsylvania</th><td> 6.3</td><td>106</td><td>72</td><td>14.9</td></tr>\n",
       "\t<tr><th scope=row>Rhode Island</th><td> 3.4</td><td>174</td><td>87</td><td> 8.3</td></tr>\n",
       "\t<tr><th scope=row>South Carolina</th><td>14.4</td><td>279</td><td>48</td><td>22.5</td></tr>\n",
       "\t<tr><th scope=row>South Dakota</th><td> 3.8</td><td> 86</td><td>45</td><td>12.8</td></tr>\n",
       "\t<tr><th scope=row>Tennessee</th><td>13.2</td><td>188</td><td>59</td><td>26.9</td></tr>\n",
       "\t<tr><th scope=row>Texas</th><td>12.7</td><td>201</td><td>80</td><td>25.5</td></tr>\n",
       "\t<tr><th scope=row>Utah</th><td> 3.2</td><td>120</td><td>80</td><td>22.9</td></tr>\n",
       "\t<tr><th scope=row>Vermont</th><td> 2.2</td><td> 48</td><td>32</td><td>11.2</td></tr>\n",
       "\t<tr><th scope=row>Virginia</th><td> 8.5</td><td>156</td><td>63</td><td>20.7</td></tr>\n",
       "\t<tr><th scope=row>Washington</th><td> 4.0</td><td>145</td><td>73</td><td>26.2</td></tr>\n",
       "\t<tr><th scope=row>West Virginia</th><td> 5.7</td><td> 81</td><td>39</td><td> 9.3</td></tr>\n",
       "\t<tr><th scope=row>Wisconsin</th><td> 2.6</td><td> 53</td><td>66</td><td>10.8</td></tr>\n",
       "\t<tr><th scope=row>Wyoming</th><td> 6.8</td><td>161</td><td>60</td><td>15.6</td></tr>\n",
       "</tbody>\n",
       "</table>\n",
       "</li>\n",
       "</ol>\n"
      ],
      "text/latex": [
       "\\begin{enumerate}\n",
       "\\item \\begin{enumerate*}\n",
       "\\item 653267890\n",
       "\\item 890765321\n",
       "\\item 87832987\n",
       "\\end{enumerate*}\n",
       "\n",
       "\\item A matrix: 2 × 5 of type int\n",
       "\\begin{tabular}{lllll}\n",
       "\t 1 & 3 & 5 & 7 &  9\\\\\n",
       "\t 2 & 4 & 6 & 8 & 10\\\\\n",
       "\\end{tabular}\n",
       "\n",
       "\\item A data.frame: 50 × 4\n",
       "\\begin{tabular}{r|llll}\n",
       "  & Murder & Assault & UrbanPop & Rape\\\\\n",
       "  & <dbl> & <int> & <int> & <dbl>\\\\\n",
       "\\hline\n",
       "\tAlabama & 13.2 & 236 & 58 & 21.2\\\\\n",
       "\tAlaska & 10.0 & 263 & 48 & 44.5\\\\\n",
       "\tArizona &  8.1 & 294 & 80 & 31.0\\\\\n",
       "\tArkansas &  8.8 & 190 & 50 & 19.5\\\\\n",
       "\tCalifornia &  9.0 & 276 & 91 & 40.6\\\\\n",
       "\tColorado &  7.9 & 204 & 78 & 38.7\\\\\n",
       "\tConnecticut &  3.3 & 110 & 77 & 11.1\\\\\n",
       "\tDelaware &  5.9 & 238 & 72 & 15.8\\\\\n",
       "\tFlorida & 15.4 & 335 & 80 & 31.9\\\\\n",
       "\tGeorgia & 17.4 & 211 & 60 & 25.8\\\\\n",
       "\tHawaii &  5.3 &  46 & 83 & 20.2\\\\\n",
       "\tIdaho &  2.6 & 120 & 54 & 14.2\\\\\n",
       "\tIllinois & 10.4 & 249 & 83 & 24.0\\\\\n",
       "\tIndiana &  7.2 & 113 & 65 & 21.0\\\\\n",
       "\tIowa &  2.2 &  56 & 57 & 11.3\\\\\n",
       "\tKansas &  6.0 & 115 & 66 & 18.0\\\\\n",
       "\tKentucky &  9.7 & 109 & 52 & 16.3\\\\\n",
       "\tLouisiana & 15.4 & 249 & 66 & 22.2\\\\\n",
       "\tMaine &  2.1 &  83 & 51 &  7.8\\\\\n",
       "\tMaryland & 11.3 & 300 & 67 & 27.8\\\\\n",
       "\tMassachusetts &  4.4 & 149 & 85 & 16.3\\\\\n",
       "\tMichigan & 12.1 & 255 & 74 & 35.1\\\\\n",
       "\tMinnesota &  2.7 &  72 & 66 & 14.9\\\\\n",
       "\tMississippi & 16.1 & 259 & 44 & 17.1\\\\\n",
       "\tMissouri &  9.0 & 178 & 70 & 28.2\\\\\n",
       "\tMontana &  6.0 & 109 & 53 & 16.4\\\\\n",
       "\tNebraska &  4.3 & 102 & 62 & 16.5\\\\\n",
       "\tNevada & 12.2 & 252 & 81 & 46.0\\\\\n",
       "\tNew Hampshire &  2.1 &  57 & 56 &  9.5\\\\\n",
       "\tNew Jersey &  7.4 & 159 & 89 & 18.8\\\\\n",
       "\tNew Mexico & 11.4 & 285 & 70 & 32.1\\\\\n",
       "\tNew York & 11.1 & 254 & 86 & 26.1\\\\\n",
       "\tNorth Carolina & 13.0 & 337 & 45 & 16.1\\\\\n",
       "\tNorth Dakota &  0.8 &  45 & 44 &  7.3\\\\\n",
       "\tOhio &  7.3 & 120 & 75 & 21.4\\\\\n",
       "\tOklahoma &  6.6 & 151 & 68 & 20.0\\\\\n",
       "\tOregon &  4.9 & 159 & 67 & 29.3\\\\\n",
       "\tPennsylvania &  6.3 & 106 & 72 & 14.9\\\\\n",
       "\tRhode Island &  3.4 & 174 & 87 &  8.3\\\\\n",
       "\tSouth Carolina & 14.4 & 279 & 48 & 22.5\\\\\n",
       "\tSouth Dakota &  3.8 &  86 & 45 & 12.8\\\\\n",
       "\tTennessee & 13.2 & 188 & 59 & 26.9\\\\\n",
       "\tTexas & 12.7 & 201 & 80 & 25.5\\\\\n",
       "\tUtah &  3.2 & 120 & 80 & 22.9\\\\\n",
       "\tVermont &  2.2 &  48 & 32 & 11.2\\\\\n",
       "\tVirginia &  8.5 & 156 & 63 & 20.7\\\\\n",
       "\tWashington &  4.0 & 145 & 73 & 26.2\\\\\n",
       "\tWest Virginia &  5.7 &  81 & 39 &  9.3\\\\\n",
       "\tWisconsin &  2.6 &  53 & 66 & 10.8\\\\\n",
       "\tWyoming &  6.8 & 161 & 60 & 15.6\\\\\n",
       "\\end{tabular}\n",
       "\n",
       "\\end{enumerate}\n"
      ],
      "text/markdown": [
       "1. 1. 653267890\n",
       "2. 890765321\n",
       "3. 87832987\n",
       "\n",
       "\n",
       "\n",
       "2. \n",
       "A matrix: 2 × 5 of type int\n",
       "\n",
       "| 1 | 3 | 5 | 7 |  9 |\n",
       "| 2 | 4 | 6 | 8 | 10 |\n",
       "\n",
       "\n",
       "3. \n",
       "A data.frame: 50 × 4\n",
       "\n",
       "| <!--/--> | Murder &lt;dbl&gt; | Assault &lt;int&gt; | UrbanPop &lt;int&gt; | Rape &lt;dbl&gt; |\n",
       "|---|---|---|---|---|\n",
       "| Alabama | 13.2 | 236 | 58 | 21.2 |\n",
       "| Alaska | 10.0 | 263 | 48 | 44.5 |\n",
       "| Arizona |  8.1 | 294 | 80 | 31.0 |\n",
       "| Arkansas |  8.8 | 190 | 50 | 19.5 |\n",
       "| California |  9.0 | 276 | 91 | 40.6 |\n",
       "| Colorado |  7.9 | 204 | 78 | 38.7 |\n",
       "| Connecticut |  3.3 | 110 | 77 | 11.1 |\n",
       "| Delaware |  5.9 | 238 | 72 | 15.8 |\n",
       "| Florida | 15.4 | 335 | 80 | 31.9 |\n",
       "| Georgia | 17.4 | 211 | 60 | 25.8 |\n",
       "| Hawaii |  5.3 |  46 | 83 | 20.2 |\n",
       "| Idaho |  2.6 | 120 | 54 | 14.2 |\n",
       "| Illinois | 10.4 | 249 | 83 | 24.0 |\n",
       "| Indiana |  7.2 | 113 | 65 | 21.0 |\n",
       "| Iowa |  2.2 |  56 | 57 | 11.3 |\n",
       "| Kansas |  6.0 | 115 | 66 | 18.0 |\n",
       "| Kentucky |  9.7 | 109 | 52 | 16.3 |\n",
       "| Louisiana | 15.4 | 249 | 66 | 22.2 |\n",
       "| Maine |  2.1 |  83 | 51 |  7.8 |\n",
       "| Maryland | 11.3 | 300 | 67 | 27.8 |\n",
       "| Massachusetts |  4.4 | 149 | 85 | 16.3 |\n",
       "| Michigan | 12.1 | 255 | 74 | 35.1 |\n",
       "| Minnesota |  2.7 |  72 | 66 | 14.9 |\n",
       "| Mississippi | 16.1 | 259 | 44 | 17.1 |\n",
       "| Missouri |  9.0 | 178 | 70 | 28.2 |\n",
       "| Montana |  6.0 | 109 | 53 | 16.4 |\n",
       "| Nebraska |  4.3 | 102 | 62 | 16.5 |\n",
       "| Nevada | 12.2 | 252 | 81 | 46.0 |\n",
       "| New Hampshire |  2.1 |  57 | 56 |  9.5 |\n",
       "| New Jersey |  7.4 | 159 | 89 | 18.8 |\n",
       "| New Mexico | 11.4 | 285 | 70 | 32.1 |\n",
       "| New York | 11.1 | 254 | 86 | 26.1 |\n",
       "| North Carolina | 13.0 | 337 | 45 | 16.1 |\n",
       "| North Dakota |  0.8 |  45 | 44 |  7.3 |\n",
       "| Ohio |  7.3 | 120 | 75 | 21.4 |\n",
       "| Oklahoma |  6.6 | 151 | 68 | 20.0 |\n",
       "| Oregon |  4.9 | 159 | 67 | 29.3 |\n",
       "| Pennsylvania |  6.3 | 106 | 72 | 14.9 |\n",
       "| Rhode Island |  3.4 | 174 | 87 |  8.3 |\n",
       "| South Carolina | 14.4 | 279 | 48 | 22.5 |\n",
       "| South Dakota |  3.8 |  86 | 45 | 12.8 |\n",
       "| Tennessee | 13.2 | 188 | 59 | 26.9 |\n",
       "| Texas | 12.7 | 201 | 80 | 25.5 |\n",
       "| Utah |  3.2 | 120 | 80 | 22.9 |\n",
       "| Vermont |  2.2 |  48 | 32 | 11.2 |\n",
       "| Virginia |  8.5 | 156 | 63 | 20.7 |\n",
       "| Washington |  4.0 | 145 | 73 | 26.2 |\n",
       "| West Virginia |  5.7 |  81 | 39 |  9.3 |\n",
       "| Wisconsin |  2.6 |  53 | 66 | 10.8 |\n",
       "| Wyoming |  6.8 | 161 | 60 | 15.6 |\n",
       "\n",
       "\n",
       "\n",
       "\n"
      ],
      "text/plain": [
       "[[1]]\n",
       "[1] 653267890 890765321  87832987\n",
       "\n",
       "[[2]]\n",
       "     [,1] [,2] [,3] [,4] [,5]\n",
       "[1,]    1    3    5    7    9\n",
       "[2,]    2    4    6    8   10\n",
       "\n",
       "[[3]]\n",
       "               Murder Assault UrbanPop Rape\n",
       "Alabama          13.2     236       58 21.2\n",
       "Alaska           10.0     263       48 44.5\n",
       "Arizona           8.1     294       80 31.0\n",
       "Arkansas          8.8     190       50 19.5\n",
       "California        9.0     276       91 40.6\n",
       "Colorado          7.9     204       78 38.7\n",
       "Connecticut       3.3     110       77 11.1\n",
       "Delaware          5.9     238       72 15.8\n",
       "Florida          15.4     335       80 31.9\n",
       "Georgia          17.4     211       60 25.8\n",
       "Hawaii            5.3      46       83 20.2\n",
       "Idaho             2.6     120       54 14.2\n",
       "Illinois         10.4     249       83 24.0\n",
       "Indiana           7.2     113       65 21.0\n",
       "Iowa              2.2      56       57 11.3\n",
       "Kansas            6.0     115       66 18.0\n",
       "Kentucky          9.7     109       52 16.3\n",
       "Louisiana        15.4     249       66 22.2\n",
       "Maine             2.1      83       51  7.8\n",
       "Maryland         11.3     300       67 27.8\n",
       "Massachusetts     4.4     149       85 16.3\n",
       "Michigan         12.1     255       74 35.1\n",
       "Minnesota         2.7      72       66 14.9\n",
       "Mississippi      16.1     259       44 17.1\n",
       "Missouri          9.0     178       70 28.2\n",
       "Montana           6.0     109       53 16.4\n",
       "Nebraska          4.3     102       62 16.5\n",
       "Nevada           12.2     252       81 46.0\n",
       "New Hampshire     2.1      57       56  9.5\n",
       "New Jersey        7.4     159       89 18.8\n",
       "New Mexico       11.4     285       70 32.1\n",
       "New York         11.1     254       86 26.1\n",
       "North Carolina   13.0     337       45 16.1\n",
       "North Dakota      0.8      45       44  7.3\n",
       "Ohio              7.3     120       75 21.4\n",
       "Oklahoma          6.6     151       68 20.0\n",
       "Oregon            4.9     159       67 29.3\n",
       "Pennsylvania      6.3     106       72 14.9\n",
       "Rhode Island      3.4     174       87  8.3\n",
       "South Carolina   14.4     279       48 22.5\n",
       "South Dakota      3.8      86       45 12.8\n",
       "Tennessee        13.2     188       59 26.9\n",
       "Texas            12.7     201       80 25.5\n",
       "Utah              3.2     120       80 22.9\n",
       "Vermont           2.2      48       32 11.2\n",
       "Virginia          8.5     156       63 20.7\n",
       "Washington        4.0     145       73 26.2\n",
       "West Virginia     5.7      81       39  9.3\n",
       "Wisconsin         2.6      53       66 10.8\n",
       "Wyoming           6.8     161       60 15.6\n"
      ]
     },
     "metadata": {},
     "output_type": "display_data"
    },
    {
     "data": {
      "text/html": [
       "<dl>\n",
       "\t<dt>$contact</dt>\n",
       "\t\t<dd><style>\n",
       ".list-inline {list-style: none; margin:0; padding: 0}\n",
       ".list-inline>li {display: inline-block}\n",
       ".list-inline>li:not(:last-child)::after {content: \"\\00b7\"; padding: 0 .5ex}\n",
       "</style>\n",
       "<ol class=list-inline><li>653267890</li><li>890765321</li><li>87832987</li></ol>\n",
       "</dd>\n",
       "\t<dt>$matrix1</dt>\n",
       "\t\t<dd><table>\n",
       "<caption>A matrix: 2 × 5 of type int</caption>\n",
       "<tbody>\n",
       "\t<tr><td>1</td><td>3</td><td>5</td><td>7</td><td> 9</td></tr>\n",
       "\t<tr><td>2</td><td>4</td><td>6</td><td>8</td><td>10</td></tr>\n",
       "</tbody>\n",
       "</table>\n",
       "</dd>\n",
       "\t<dt>$usarrests</dt>\n",
       "\t\t<dd><table>\n",
       "<caption>A data.frame: 50 × 4</caption>\n",
       "<thead>\n",
       "\t<tr><th></th><th scope=col>Murder</th><th scope=col>Assault</th><th scope=col>UrbanPop</th><th scope=col>Rape</th></tr>\n",
       "\t<tr><th></th><th scope=col>&lt;dbl&gt;</th><th scope=col>&lt;int&gt;</th><th scope=col>&lt;int&gt;</th><th scope=col>&lt;dbl&gt;</th></tr>\n",
       "</thead>\n",
       "<tbody>\n",
       "\t<tr><th scope=row>Alabama</th><td>13.2</td><td>236</td><td>58</td><td>21.2</td></tr>\n",
       "\t<tr><th scope=row>Alaska</th><td>10.0</td><td>263</td><td>48</td><td>44.5</td></tr>\n",
       "\t<tr><th scope=row>Arizona</th><td> 8.1</td><td>294</td><td>80</td><td>31.0</td></tr>\n",
       "\t<tr><th scope=row>Arkansas</th><td> 8.8</td><td>190</td><td>50</td><td>19.5</td></tr>\n",
       "\t<tr><th scope=row>California</th><td> 9.0</td><td>276</td><td>91</td><td>40.6</td></tr>\n",
       "\t<tr><th scope=row>Colorado</th><td> 7.9</td><td>204</td><td>78</td><td>38.7</td></tr>\n",
       "\t<tr><th scope=row>Connecticut</th><td> 3.3</td><td>110</td><td>77</td><td>11.1</td></tr>\n",
       "\t<tr><th scope=row>Delaware</th><td> 5.9</td><td>238</td><td>72</td><td>15.8</td></tr>\n",
       "\t<tr><th scope=row>Florida</th><td>15.4</td><td>335</td><td>80</td><td>31.9</td></tr>\n",
       "\t<tr><th scope=row>Georgia</th><td>17.4</td><td>211</td><td>60</td><td>25.8</td></tr>\n",
       "\t<tr><th scope=row>Hawaii</th><td> 5.3</td><td> 46</td><td>83</td><td>20.2</td></tr>\n",
       "\t<tr><th scope=row>Idaho</th><td> 2.6</td><td>120</td><td>54</td><td>14.2</td></tr>\n",
       "\t<tr><th scope=row>Illinois</th><td>10.4</td><td>249</td><td>83</td><td>24.0</td></tr>\n",
       "\t<tr><th scope=row>Indiana</th><td> 7.2</td><td>113</td><td>65</td><td>21.0</td></tr>\n",
       "\t<tr><th scope=row>Iowa</th><td> 2.2</td><td> 56</td><td>57</td><td>11.3</td></tr>\n",
       "\t<tr><th scope=row>Kansas</th><td> 6.0</td><td>115</td><td>66</td><td>18.0</td></tr>\n",
       "\t<tr><th scope=row>Kentucky</th><td> 9.7</td><td>109</td><td>52</td><td>16.3</td></tr>\n",
       "\t<tr><th scope=row>Louisiana</th><td>15.4</td><td>249</td><td>66</td><td>22.2</td></tr>\n",
       "\t<tr><th scope=row>Maine</th><td> 2.1</td><td> 83</td><td>51</td><td> 7.8</td></tr>\n",
       "\t<tr><th scope=row>Maryland</th><td>11.3</td><td>300</td><td>67</td><td>27.8</td></tr>\n",
       "\t<tr><th scope=row>Massachusetts</th><td> 4.4</td><td>149</td><td>85</td><td>16.3</td></tr>\n",
       "\t<tr><th scope=row>Michigan</th><td>12.1</td><td>255</td><td>74</td><td>35.1</td></tr>\n",
       "\t<tr><th scope=row>Minnesota</th><td> 2.7</td><td> 72</td><td>66</td><td>14.9</td></tr>\n",
       "\t<tr><th scope=row>Mississippi</th><td>16.1</td><td>259</td><td>44</td><td>17.1</td></tr>\n",
       "\t<tr><th scope=row>Missouri</th><td> 9.0</td><td>178</td><td>70</td><td>28.2</td></tr>\n",
       "\t<tr><th scope=row>Montana</th><td> 6.0</td><td>109</td><td>53</td><td>16.4</td></tr>\n",
       "\t<tr><th scope=row>Nebraska</th><td> 4.3</td><td>102</td><td>62</td><td>16.5</td></tr>\n",
       "\t<tr><th scope=row>Nevada</th><td>12.2</td><td>252</td><td>81</td><td>46.0</td></tr>\n",
       "\t<tr><th scope=row>New Hampshire</th><td> 2.1</td><td> 57</td><td>56</td><td> 9.5</td></tr>\n",
       "\t<tr><th scope=row>New Jersey</th><td> 7.4</td><td>159</td><td>89</td><td>18.8</td></tr>\n",
       "\t<tr><th scope=row>New Mexico</th><td>11.4</td><td>285</td><td>70</td><td>32.1</td></tr>\n",
       "\t<tr><th scope=row>New York</th><td>11.1</td><td>254</td><td>86</td><td>26.1</td></tr>\n",
       "\t<tr><th scope=row>North Carolina</th><td>13.0</td><td>337</td><td>45</td><td>16.1</td></tr>\n",
       "\t<tr><th scope=row>North Dakota</th><td> 0.8</td><td> 45</td><td>44</td><td> 7.3</td></tr>\n",
       "\t<tr><th scope=row>Ohio</th><td> 7.3</td><td>120</td><td>75</td><td>21.4</td></tr>\n",
       "\t<tr><th scope=row>Oklahoma</th><td> 6.6</td><td>151</td><td>68</td><td>20.0</td></tr>\n",
       "\t<tr><th scope=row>Oregon</th><td> 4.9</td><td>159</td><td>67</td><td>29.3</td></tr>\n",
       "\t<tr><th scope=row>Pennsylvania</th><td> 6.3</td><td>106</td><td>72</td><td>14.9</td></tr>\n",
       "\t<tr><th scope=row>Rhode Island</th><td> 3.4</td><td>174</td><td>87</td><td> 8.3</td></tr>\n",
       "\t<tr><th scope=row>South Carolina</th><td>14.4</td><td>279</td><td>48</td><td>22.5</td></tr>\n",
       "\t<tr><th scope=row>South Dakota</th><td> 3.8</td><td> 86</td><td>45</td><td>12.8</td></tr>\n",
       "\t<tr><th scope=row>Tennessee</th><td>13.2</td><td>188</td><td>59</td><td>26.9</td></tr>\n",
       "\t<tr><th scope=row>Texas</th><td>12.7</td><td>201</td><td>80</td><td>25.5</td></tr>\n",
       "\t<tr><th scope=row>Utah</th><td> 3.2</td><td>120</td><td>80</td><td>22.9</td></tr>\n",
       "\t<tr><th scope=row>Vermont</th><td> 2.2</td><td> 48</td><td>32</td><td>11.2</td></tr>\n",
       "\t<tr><th scope=row>Virginia</th><td> 8.5</td><td>156</td><td>63</td><td>20.7</td></tr>\n",
       "\t<tr><th scope=row>Washington</th><td> 4.0</td><td>145</td><td>73</td><td>26.2</td></tr>\n",
       "\t<tr><th scope=row>West Virginia</th><td> 5.7</td><td> 81</td><td>39</td><td> 9.3</td></tr>\n",
       "\t<tr><th scope=row>Wisconsin</th><td> 2.6</td><td> 53</td><td>66</td><td>10.8</td></tr>\n",
       "\t<tr><th scope=row>Wyoming</th><td> 6.8</td><td>161</td><td>60</td><td>15.6</td></tr>\n",
       "</tbody>\n",
       "</table>\n",
       "</dd>\n",
       "</dl>\n"
      ],
      "text/latex": [
       "\\begin{description}\n",
       "\\item[\\$contact] \\begin{enumerate*}\n",
       "\\item 653267890\n",
       "\\item 890765321\n",
       "\\item 87832987\n",
       "\\end{enumerate*}\n",
       "\n",
       "\\item[\\$matrix1] A matrix: 2 × 5 of type int\n",
       "\\begin{tabular}{lllll}\n",
       "\t 1 & 3 & 5 & 7 &  9\\\\\n",
       "\t 2 & 4 & 6 & 8 & 10\\\\\n",
       "\\end{tabular}\n",
       "\n",
       "\\item[\\$usarrests] A data.frame: 50 × 4\n",
       "\\begin{tabular}{r|llll}\n",
       "  & Murder & Assault & UrbanPop & Rape\\\\\n",
       "  & <dbl> & <int> & <int> & <dbl>\\\\\n",
       "\\hline\n",
       "\tAlabama & 13.2 & 236 & 58 & 21.2\\\\\n",
       "\tAlaska & 10.0 & 263 & 48 & 44.5\\\\\n",
       "\tArizona &  8.1 & 294 & 80 & 31.0\\\\\n",
       "\tArkansas &  8.8 & 190 & 50 & 19.5\\\\\n",
       "\tCalifornia &  9.0 & 276 & 91 & 40.6\\\\\n",
       "\tColorado &  7.9 & 204 & 78 & 38.7\\\\\n",
       "\tConnecticut &  3.3 & 110 & 77 & 11.1\\\\\n",
       "\tDelaware &  5.9 & 238 & 72 & 15.8\\\\\n",
       "\tFlorida & 15.4 & 335 & 80 & 31.9\\\\\n",
       "\tGeorgia & 17.4 & 211 & 60 & 25.8\\\\\n",
       "\tHawaii &  5.3 &  46 & 83 & 20.2\\\\\n",
       "\tIdaho &  2.6 & 120 & 54 & 14.2\\\\\n",
       "\tIllinois & 10.4 & 249 & 83 & 24.0\\\\\n",
       "\tIndiana &  7.2 & 113 & 65 & 21.0\\\\\n",
       "\tIowa &  2.2 &  56 & 57 & 11.3\\\\\n",
       "\tKansas &  6.0 & 115 & 66 & 18.0\\\\\n",
       "\tKentucky &  9.7 & 109 & 52 & 16.3\\\\\n",
       "\tLouisiana & 15.4 & 249 & 66 & 22.2\\\\\n",
       "\tMaine &  2.1 &  83 & 51 &  7.8\\\\\n",
       "\tMaryland & 11.3 & 300 & 67 & 27.8\\\\\n",
       "\tMassachusetts &  4.4 & 149 & 85 & 16.3\\\\\n",
       "\tMichigan & 12.1 & 255 & 74 & 35.1\\\\\n",
       "\tMinnesota &  2.7 &  72 & 66 & 14.9\\\\\n",
       "\tMississippi & 16.1 & 259 & 44 & 17.1\\\\\n",
       "\tMissouri &  9.0 & 178 & 70 & 28.2\\\\\n",
       "\tMontana &  6.0 & 109 & 53 & 16.4\\\\\n",
       "\tNebraska &  4.3 & 102 & 62 & 16.5\\\\\n",
       "\tNevada & 12.2 & 252 & 81 & 46.0\\\\\n",
       "\tNew Hampshire &  2.1 &  57 & 56 &  9.5\\\\\n",
       "\tNew Jersey &  7.4 & 159 & 89 & 18.8\\\\\n",
       "\tNew Mexico & 11.4 & 285 & 70 & 32.1\\\\\n",
       "\tNew York & 11.1 & 254 & 86 & 26.1\\\\\n",
       "\tNorth Carolina & 13.0 & 337 & 45 & 16.1\\\\\n",
       "\tNorth Dakota &  0.8 &  45 & 44 &  7.3\\\\\n",
       "\tOhio &  7.3 & 120 & 75 & 21.4\\\\\n",
       "\tOklahoma &  6.6 & 151 & 68 & 20.0\\\\\n",
       "\tOregon &  4.9 & 159 & 67 & 29.3\\\\\n",
       "\tPennsylvania &  6.3 & 106 & 72 & 14.9\\\\\n",
       "\tRhode Island &  3.4 & 174 & 87 &  8.3\\\\\n",
       "\tSouth Carolina & 14.4 & 279 & 48 & 22.5\\\\\n",
       "\tSouth Dakota &  3.8 &  86 & 45 & 12.8\\\\\n",
       "\tTennessee & 13.2 & 188 & 59 & 26.9\\\\\n",
       "\tTexas & 12.7 & 201 & 80 & 25.5\\\\\n",
       "\tUtah &  3.2 & 120 & 80 & 22.9\\\\\n",
       "\tVermont &  2.2 &  48 & 32 & 11.2\\\\\n",
       "\tVirginia &  8.5 & 156 & 63 & 20.7\\\\\n",
       "\tWashington &  4.0 & 145 & 73 & 26.2\\\\\n",
       "\tWest Virginia &  5.7 &  81 & 39 &  9.3\\\\\n",
       "\tWisconsin &  2.6 &  53 & 66 & 10.8\\\\\n",
       "\tWyoming &  6.8 & 161 & 60 & 15.6\\\\\n",
       "\\end{tabular}\n",
       "\n",
       "\\end{description}\n"
      ],
      "text/markdown": [
       "$contact\n",
       ":   1. 653267890\n",
       "2. 890765321\n",
       "3. 87832987\n",
       "\n",
       "\n",
       "\n",
       "$matrix1\n",
       ":   \n",
       "A matrix: 2 × 5 of type int\n",
       "\n",
       "| 1 | 3 | 5 | 7 |  9 |\n",
       "| 2 | 4 | 6 | 8 | 10 |\n",
       "\n",
       "\n",
       "$usarrests\n",
       ":   \n",
       "A data.frame: 50 × 4\n",
       "\n",
       "| <!--/--> | Murder &lt;dbl&gt; | Assault &lt;int&gt; | UrbanPop &lt;int&gt; | Rape &lt;dbl&gt; |\n",
       "|---|---|---|---|---|\n",
       "| Alabama | 13.2 | 236 | 58 | 21.2 |\n",
       "| Alaska | 10.0 | 263 | 48 | 44.5 |\n",
       "| Arizona |  8.1 | 294 | 80 | 31.0 |\n",
       "| Arkansas |  8.8 | 190 | 50 | 19.5 |\n",
       "| California |  9.0 | 276 | 91 | 40.6 |\n",
       "| Colorado |  7.9 | 204 | 78 | 38.7 |\n",
       "| Connecticut |  3.3 | 110 | 77 | 11.1 |\n",
       "| Delaware |  5.9 | 238 | 72 | 15.8 |\n",
       "| Florida | 15.4 | 335 | 80 | 31.9 |\n",
       "| Georgia | 17.4 | 211 | 60 | 25.8 |\n",
       "| Hawaii |  5.3 |  46 | 83 | 20.2 |\n",
       "| Idaho |  2.6 | 120 | 54 | 14.2 |\n",
       "| Illinois | 10.4 | 249 | 83 | 24.0 |\n",
       "| Indiana |  7.2 | 113 | 65 | 21.0 |\n",
       "| Iowa |  2.2 |  56 | 57 | 11.3 |\n",
       "| Kansas |  6.0 | 115 | 66 | 18.0 |\n",
       "| Kentucky |  9.7 | 109 | 52 | 16.3 |\n",
       "| Louisiana | 15.4 | 249 | 66 | 22.2 |\n",
       "| Maine |  2.1 |  83 | 51 |  7.8 |\n",
       "| Maryland | 11.3 | 300 | 67 | 27.8 |\n",
       "| Massachusetts |  4.4 | 149 | 85 | 16.3 |\n",
       "| Michigan | 12.1 | 255 | 74 | 35.1 |\n",
       "| Minnesota |  2.7 |  72 | 66 | 14.9 |\n",
       "| Mississippi | 16.1 | 259 | 44 | 17.1 |\n",
       "| Missouri |  9.0 | 178 | 70 | 28.2 |\n",
       "| Montana |  6.0 | 109 | 53 | 16.4 |\n",
       "| Nebraska |  4.3 | 102 | 62 | 16.5 |\n",
       "| Nevada | 12.2 | 252 | 81 | 46.0 |\n",
       "| New Hampshire |  2.1 |  57 | 56 |  9.5 |\n",
       "| New Jersey |  7.4 | 159 | 89 | 18.8 |\n",
       "| New Mexico | 11.4 | 285 | 70 | 32.1 |\n",
       "| New York | 11.1 | 254 | 86 | 26.1 |\n",
       "| North Carolina | 13.0 | 337 | 45 | 16.1 |\n",
       "| North Dakota |  0.8 |  45 | 44 |  7.3 |\n",
       "| Ohio |  7.3 | 120 | 75 | 21.4 |\n",
       "| Oklahoma |  6.6 | 151 | 68 | 20.0 |\n",
       "| Oregon |  4.9 | 159 | 67 | 29.3 |\n",
       "| Pennsylvania |  6.3 | 106 | 72 | 14.9 |\n",
       "| Rhode Island |  3.4 | 174 | 87 |  8.3 |\n",
       "| South Carolina | 14.4 | 279 | 48 | 22.5 |\n",
       "| South Dakota |  3.8 |  86 | 45 | 12.8 |\n",
       "| Tennessee | 13.2 | 188 | 59 | 26.9 |\n",
       "| Texas | 12.7 | 201 | 80 | 25.5 |\n",
       "| Utah |  3.2 | 120 | 80 | 22.9 |\n",
       "| Vermont |  2.2 |  48 | 32 | 11.2 |\n",
       "| Virginia |  8.5 | 156 | 63 | 20.7 |\n",
       "| Washington |  4.0 | 145 | 73 | 26.2 |\n",
       "| West Virginia |  5.7 |  81 | 39 |  9.3 |\n",
       "| Wisconsin |  2.6 |  53 | 66 | 10.8 |\n",
       "| Wyoming |  6.8 | 161 | 60 | 15.6 |\n",
       "\n",
       "\n",
       "\n",
       "\n"
      ],
      "text/plain": [
       "$contact\n",
       "[1] 653267890 890765321  87832987\n",
       "\n",
       "$matrix1\n",
       "     [,1] [,2] [,3] [,4] [,5]\n",
       "[1,]    1    3    5    7    9\n",
       "[2,]    2    4    6    8   10\n",
       "\n",
       "$usarrests\n",
       "               Murder Assault UrbanPop Rape\n",
       "Alabama          13.2     236       58 21.2\n",
       "Alaska           10.0     263       48 44.5\n",
       "Arizona           8.1     294       80 31.0\n",
       "Arkansas          8.8     190       50 19.5\n",
       "California        9.0     276       91 40.6\n",
       "Colorado          7.9     204       78 38.7\n",
       "Connecticut       3.3     110       77 11.1\n",
       "Delaware          5.9     238       72 15.8\n",
       "Florida          15.4     335       80 31.9\n",
       "Georgia          17.4     211       60 25.8\n",
       "Hawaii            5.3      46       83 20.2\n",
       "Idaho             2.6     120       54 14.2\n",
       "Illinois         10.4     249       83 24.0\n",
       "Indiana           7.2     113       65 21.0\n",
       "Iowa              2.2      56       57 11.3\n",
       "Kansas            6.0     115       66 18.0\n",
       "Kentucky          9.7     109       52 16.3\n",
       "Louisiana        15.4     249       66 22.2\n",
       "Maine             2.1      83       51  7.8\n",
       "Maryland         11.3     300       67 27.8\n",
       "Massachusetts     4.4     149       85 16.3\n",
       "Michigan         12.1     255       74 35.1\n",
       "Minnesota         2.7      72       66 14.9\n",
       "Mississippi      16.1     259       44 17.1\n",
       "Missouri          9.0     178       70 28.2\n",
       "Montana           6.0     109       53 16.4\n",
       "Nebraska          4.3     102       62 16.5\n",
       "Nevada           12.2     252       81 46.0\n",
       "New Hampshire     2.1      57       56  9.5\n",
       "New Jersey        7.4     159       89 18.8\n",
       "New Mexico       11.4     285       70 32.1\n",
       "New York         11.1     254       86 26.1\n",
       "North Carolina   13.0     337       45 16.1\n",
       "North Dakota      0.8      45       44  7.3\n",
       "Ohio              7.3     120       75 21.4\n",
       "Oklahoma          6.6     151       68 20.0\n",
       "Oregon            4.9     159       67 29.3\n",
       "Pennsylvania      6.3     106       72 14.9\n",
       "Rhode Island      3.4     174       87  8.3\n",
       "South Carolina   14.4     279       48 22.5\n",
       "South Dakota      3.8      86       45 12.8\n",
       "Tennessee        13.2     188       59 26.9\n",
       "Texas            12.7     201       80 25.5\n",
       "Utah              3.2     120       80 22.9\n",
       "Vermont           2.2      48       32 11.2\n",
       "Virginia          8.5     156       63 20.7\n",
       "Washington        4.0     145       73 26.2\n",
       "West Virginia     5.7      81       39  9.3\n",
       "Wisconsin         2.6      53       66 10.8\n",
       "Wyoming           6.8     161       60 15.6\n"
      ]
     },
     "metadata": {},
     "output_type": "display_data"
    },
    {
     "data": {
      "text/html": [
       "<strong>$contact</strong> = <style>\n",
       ".list-inline {list-style: none; margin:0; padding: 0}\n",
       ".list-inline>li {display: inline-block}\n",
       ".list-inline>li:not(:last-child)::after {content: \"\\00b7\"; padding: 0 .5ex}\n",
       "</style>\n",
       "<ol class=list-inline><li>653267890</li><li>890765321</li><li>87832987</li></ol>\n"
      ],
      "text/latex": [
       "\\textbf{\\$contact} = \\begin{enumerate*}\n",
       "\\item 653267890\n",
       "\\item 890765321\n",
       "\\item 87832987\n",
       "\\end{enumerate*}\n"
      ],
      "text/markdown": [
       "**$contact** = 1. 653267890\n",
       "2. 890765321\n",
       "3. 87832987\n",
       "\n",
       "\n"
      ],
      "text/plain": [
       "$contact\n",
       "[1] 653267890 890765321  87832987\n"
      ]
     },
     "metadata": {},
     "output_type": "display_data"
    },
    {
     "data": {
      "text/html": [
       "<strong>$usarrests</strong> = <table>\n",
       "<caption>A data.frame: 50 × 4</caption>\n",
       "<thead>\n",
       "\t<tr><th></th><th scope=col>Murder</th><th scope=col>Assault</th><th scope=col>UrbanPop</th><th scope=col>Rape</th></tr>\n",
       "\t<tr><th></th><th scope=col>&lt;dbl&gt;</th><th scope=col>&lt;int&gt;</th><th scope=col>&lt;int&gt;</th><th scope=col>&lt;dbl&gt;</th></tr>\n",
       "</thead>\n",
       "<tbody>\n",
       "\t<tr><th scope=row>Alabama</th><td>13.2</td><td>236</td><td>58</td><td>21.2</td></tr>\n",
       "\t<tr><th scope=row>Alaska</th><td>10.0</td><td>263</td><td>48</td><td>44.5</td></tr>\n",
       "\t<tr><th scope=row>Arizona</th><td> 8.1</td><td>294</td><td>80</td><td>31.0</td></tr>\n",
       "\t<tr><th scope=row>Arkansas</th><td> 8.8</td><td>190</td><td>50</td><td>19.5</td></tr>\n",
       "\t<tr><th scope=row>California</th><td> 9.0</td><td>276</td><td>91</td><td>40.6</td></tr>\n",
       "\t<tr><th scope=row>Colorado</th><td> 7.9</td><td>204</td><td>78</td><td>38.7</td></tr>\n",
       "\t<tr><th scope=row>Connecticut</th><td> 3.3</td><td>110</td><td>77</td><td>11.1</td></tr>\n",
       "\t<tr><th scope=row>Delaware</th><td> 5.9</td><td>238</td><td>72</td><td>15.8</td></tr>\n",
       "\t<tr><th scope=row>Florida</th><td>15.4</td><td>335</td><td>80</td><td>31.9</td></tr>\n",
       "\t<tr><th scope=row>Georgia</th><td>17.4</td><td>211</td><td>60</td><td>25.8</td></tr>\n",
       "\t<tr><th scope=row>Hawaii</th><td> 5.3</td><td> 46</td><td>83</td><td>20.2</td></tr>\n",
       "\t<tr><th scope=row>Idaho</th><td> 2.6</td><td>120</td><td>54</td><td>14.2</td></tr>\n",
       "\t<tr><th scope=row>Illinois</th><td>10.4</td><td>249</td><td>83</td><td>24.0</td></tr>\n",
       "\t<tr><th scope=row>Indiana</th><td> 7.2</td><td>113</td><td>65</td><td>21.0</td></tr>\n",
       "\t<tr><th scope=row>Iowa</th><td> 2.2</td><td> 56</td><td>57</td><td>11.3</td></tr>\n",
       "\t<tr><th scope=row>Kansas</th><td> 6.0</td><td>115</td><td>66</td><td>18.0</td></tr>\n",
       "\t<tr><th scope=row>Kentucky</th><td> 9.7</td><td>109</td><td>52</td><td>16.3</td></tr>\n",
       "\t<tr><th scope=row>Louisiana</th><td>15.4</td><td>249</td><td>66</td><td>22.2</td></tr>\n",
       "\t<tr><th scope=row>Maine</th><td> 2.1</td><td> 83</td><td>51</td><td> 7.8</td></tr>\n",
       "\t<tr><th scope=row>Maryland</th><td>11.3</td><td>300</td><td>67</td><td>27.8</td></tr>\n",
       "\t<tr><th scope=row>Massachusetts</th><td> 4.4</td><td>149</td><td>85</td><td>16.3</td></tr>\n",
       "\t<tr><th scope=row>Michigan</th><td>12.1</td><td>255</td><td>74</td><td>35.1</td></tr>\n",
       "\t<tr><th scope=row>Minnesota</th><td> 2.7</td><td> 72</td><td>66</td><td>14.9</td></tr>\n",
       "\t<tr><th scope=row>Mississippi</th><td>16.1</td><td>259</td><td>44</td><td>17.1</td></tr>\n",
       "\t<tr><th scope=row>Missouri</th><td> 9.0</td><td>178</td><td>70</td><td>28.2</td></tr>\n",
       "\t<tr><th scope=row>Montana</th><td> 6.0</td><td>109</td><td>53</td><td>16.4</td></tr>\n",
       "\t<tr><th scope=row>Nebraska</th><td> 4.3</td><td>102</td><td>62</td><td>16.5</td></tr>\n",
       "\t<tr><th scope=row>Nevada</th><td>12.2</td><td>252</td><td>81</td><td>46.0</td></tr>\n",
       "\t<tr><th scope=row>New Hampshire</th><td> 2.1</td><td> 57</td><td>56</td><td> 9.5</td></tr>\n",
       "\t<tr><th scope=row>New Jersey</th><td> 7.4</td><td>159</td><td>89</td><td>18.8</td></tr>\n",
       "\t<tr><th scope=row>New Mexico</th><td>11.4</td><td>285</td><td>70</td><td>32.1</td></tr>\n",
       "\t<tr><th scope=row>New York</th><td>11.1</td><td>254</td><td>86</td><td>26.1</td></tr>\n",
       "\t<tr><th scope=row>North Carolina</th><td>13.0</td><td>337</td><td>45</td><td>16.1</td></tr>\n",
       "\t<tr><th scope=row>North Dakota</th><td> 0.8</td><td> 45</td><td>44</td><td> 7.3</td></tr>\n",
       "\t<tr><th scope=row>Ohio</th><td> 7.3</td><td>120</td><td>75</td><td>21.4</td></tr>\n",
       "\t<tr><th scope=row>Oklahoma</th><td> 6.6</td><td>151</td><td>68</td><td>20.0</td></tr>\n",
       "\t<tr><th scope=row>Oregon</th><td> 4.9</td><td>159</td><td>67</td><td>29.3</td></tr>\n",
       "\t<tr><th scope=row>Pennsylvania</th><td> 6.3</td><td>106</td><td>72</td><td>14.9</td></tr>\n",
       "\t<tr><th scope=row>Rhode Island</th><td> 3.4</td><td>174</td><td>87</td><td> 8.3</td></tr>\n",
       "\t<tr><th scope=row>South Carolina</th><td>14.4</td><td>279</td><td>48</td><td>22.5</td></tr>\n",
       "\t<tr><th scope=row>South Dakota</th><td> 3.8</td><td> 86</td><td>45</td><td>12.8</td></tr>\n",
       "\t<tr><th scope=row>Tennessee</th><td>13.2</td><td>188</td><td>59</td><td>26.9</td></tr>\n",
       "\t<tr><th scope=row>Texas</th><td>12.7</td><td>201</td><td>80</td><td>25.5</td></tr>\n",
       "\t<tr><th scope=row>Utah</th><td> 3.2</td><td>120</td><td>80</td><td>22.9</td></tr>\n",
       "\t<tr><th scope=row>Vermont</th><td> 2.2</td><td> 48</td><td>32</td><td>11.2</td></tr>\n",
       "\t<tr><th scope=row>Virginia</th><td> 8.5</td><td>156</td><td>63</td><td>20.7</td></tr>\n",
       "\t<tr><th scope=row>Washington</th><td> 4.0</td><td>145</td><td>73</td><td>26.2</td></tr>\n",
       "\t<tr><th scope=row>West Virginia</th><td> 5.7</td><td> 81</td><td>39</td><td> 9.3</td></tr>\n",
       "\t<tr><th scope=row>Wisconsin</th><td> 2.6</td><td> 53</td><td>66</td><td>10.8</td></tr>\n",
       "\t<tr><th scope=row>Wyoming</th><td> 6.8</td><td>161</td><td>60</td><td>15.6</td></tr>\n",
       "</tbody>\n",
       "</table>\n"
      ],
      "text/latex": [
       "\\textbf{\\$usarrests} = A data.frame: 50 × 4\n",
       "\\begin{tabular}{r|llll}\n",
       "  & Murder & Assault & UrbanPop & Rape\\\\\n",
       "  & <dbl> & <int> & <int> & <dbl>\\\\\n",
       "\\hline\n",
       "\tAlabama & 13.2 & 236 & 58 & 21.2\\\\\n",
       "\tAlaska & 10.0 & 263 & 48 & 44.5\\\\\n",
       "\tArizona &  8.1 & 294 & 80 & 31.0\\\\\n",
       "\tArkansas &  8.8 & 190 & 50 & 19.5\\\\\n",
       "\tCalifornia &  9.0 & 276 & 91 & 40.6\\\\\n",
       "\tColorado &  7.9 & 204 & 78 & 38.7\\\\\n",
       "\tConnecticut &  3.3 & 110 & 77 & 11.1\\\\\n",
       "\tDelaware &  5.9 & 238 & 72 & 15.8\\\\\n",
       "\tFlorida & 15.4 & 335 & 80 & 31.9\\\\\n",
       "\tGeorgia & 17.4 & 211 & 60 & 25.8\\\\\n",
       "\tHawaii &  5.3 &  46 & 83 & 20.2\\\\\n",
       "\tIdaho &  2.6 & 120 & 54 & 14.2\\\\\n",
       "\tIllinois & 10.4 & 249 & 83 & 24.0\\\\\n",
       "\tIndiana &  7.2 & 113 & 65 & 21.0\\\\\n",
       "\tIowa &  2.2 &  56 & 57 & 11.3\\\\\n",
       "\tKansas &  6.0 & 115 & 66 & 18.0\\\\\n",
       "\tKentucky &  9.7 & 109 & 52 & 16.3\\\\\n",
       "\tLouisiana & 15.4 & 249 & 66 & 22.2\\\\\n",
       "\tMaine &  2.1 &  83 & 51 &  7.8\\\\\n",
       "\tMaryland & 11.3 & 300 & 67 & 27.8\\\\\n",
       "\tMassachusetts &  4.4 & 149 & 85 & 16.3\\\\\n",
       "\tMichigan & 12.1 & 255 & 74 & 35.1\\\\\n",
       "\tMinnesota &  2.7 &  72 & 66 & 14.9\\\\\n",
       "\tMississippi & 16.1 & 259 & 44 & 17.1\\\\\n",
       "\tMissouri &  9.0 & 178 & 70 & 28.2\\\\\n",
       "\tMontana &  6.0 & 109 & 53 & 16.4\\\\\n",
       "\tNebraska &  4.3 & 102 & 62 & 16.5\\\\\n",
       "\tNevada & 12.2 & 252 & 81 & 46.0\\\\\n",
       "\tNew Hampshire &  2.1 &  57 & 56 &  9.5\\\\\n",
       "\tNew Jersey &  7.4 & 159 & 89 & 18.8\\\\\n",
       "\tNew Mexico & 11.4 & 285 & 70 & 32.1\\\\\n",
       "\tNew York & 11.1 & 254 & 86 & 26.1\\\\\n",
       "\tNorth Carolina & 13.0 & 337 & 45 & 16.1\\\\\n",
       "\tNorth Dakota &  0.8 &  45 & 44 &  7.3\\\\\n",
       "\tOhio &  7.3 & 120 & 75 & 21.4\\\\\n",
       "\tOklahoma &  6.6 & 151 & 68 & 20.0\\\\\n",
       "\tOregon &  4.9 & 159 & 67 & 29.3\\\\\n",
       "\tPennsylvania &  6.3 & 106 & 72 & 14.9\\\\\n",
       "\tRhode Island &  3.4 & 174 & 87 &  8.3\\\\\n",
       "\tSouth Carolina & 14.4 & 279 & 48 & 22.5\\\\\n",
       "\tSouth Dakota &  3.8 &  86 & 45 & 12.8\\\\\n",
       "\tTennessee & 13.2 & 188 & 59 & 26.9\\\\\n",
       "\tTexas & 12.7 & 201 & 80 & 25.5\\\\\n",
       "\tUtah &  3.2 & 120 & 80 & 22.9\\\\\n",
       "\tVermont &  2.2 &  48 & 32 & 11.2\\\\\n",
       "\tVirginia &  8.5 & 156 & 63 & 20.7\\\\\n",
       "\tWashington &  4.0 & 145 & 73 & 26.2\\\\\n",
       "\tWest Virginia &  5.7 &  81 & 39 &  9.3\\\\\n",
       "\tWisconsin &  2.6 &  53 & 66 & 10.8\\\\\n",
       "\tWyoming &  6.8 & 161 & 60 & 15.6\\\\\n",
       "\\end{tabular}\n"
      ],
      "text/markdown": [
       "**$usarrests** = \n",
       "A data.frame: 50 × 4\n",
       "\n",
       "| <!--/--> | Murder &lt;dbl&gt; | Assault &lt;int&gt; | UrbanPop &lt;int&gt; | Rape &lt;dbl&gt; |\n",
       "|---|---|---|---|---|\n",
       "| Alabama | 13.2 | 236 | 58 | 21.2 |\n",
       "| Alaska | 10.0 | 263 | 48 | 44.5 |\n",
       "| Arizona |  8.1 | 294 | 80 | 31.0 |\n",
       "| Arkansas |  8.8 | 190 | 50 | 19.5 |\n",
       "| California |  9.0 | 276 | 91 | 40.6 |\n",
       "| Colorado |  7.9 | 204 | 78 | 38.7 |\n",
       "| Connecticut |  3.3 | 110 | 77 | 11.1 |\n",
       "| Delaware |  5.9 | 238 | 72 | 15.8 |\n",
       "| Florida | 15.4 | 335 | 80 | 31.9 |\n",
       "| Georgia | 17.4 | 211 | 60 | 25.8 |\n",
       "| Hawaii |  5.3 |  46 | 83 | 20.2 |\n",
       "| Idaho |  2.6 | 120 | 54 | 14.2 |\n",
       "| Illinois | 10.4 | 249 | 83 | 24.0 |\n",
       "| Indiana |  7.2 | 113 | 65 | 21.0 |\n",
       "| Iowa |  2.2 |  56 | 57 | 11.3 |\n",
       "| Kansas |  6.0 | 115 | 66 | 18.0 |\n",
       "| Kentucky |  9.7 | 109 | 52 | 16.3 |\n",
       "| Louisiana | 15.4 | 249 | 66 | 22.2 |\n",
       "| Maine |  2.1 |  83 | 51 |  7.8 |\n",
       "| Maryland | 11.3 | 300 | 67 | 27.8 |\n",
       "| Massachusetts |  4.4 | 149 | 85 | 16.3 |\n",
       "| Michigan | 12.1 | 255 | 74 | 35.1 |\n",
       "| Minnesota |  2.7 |  72 | 66 | 14.9 |\n",
       "| Mississippi | 16.1 | 259 | 44 | 17.1 |\n",
       "| Missouri |  9.0 | 178 | 70 | 28.2 |\n",
       "| Montana |  6.0 | 109 | 53 | 16.4 |\n",
       "| Nebraska |  4.3 | 102 | 62 | 16.5 |\n",
       "| Nevada | 12.2 | 252 | 81 | 46.0 |\n",
       "| New Hampshire |  2.1 |  57 | 56 |  9.5 |\n",
       "| New Jersey |  7.4 | 159 | 89 | 18.8 |\n",
       "| New Mexico | 11.4 | 285 | 70 | 32.1 |\n",
       "| New York | 11.1 | 254 | 86 | 26.1 |\n",
       "| North Carolina | 13.0 | 337 | 45 | 16.1 |\n",
       "| North Dakota |  0.8 |  45 | 44 |  7.3 |\n",
       "| Ohio |  7.3 | 120 | 75 | 21.4 |\n",
       "| Oklahoma |  6.6 | 151 | 68 | 20.0 |\n",
       "| Oregon |  4.9 | 159 | 67 | 29.3 |\n",
       "| Pennsylvania |  6.3 | 106 | 72 | 14.9 |\n",
       "| Rhode Island |  3.4 | 174 | 87 |  8.3 |\n",
       "| South Carolina | 14.4 | 279 | 48 | 22.5 |\n",
       "| South Dakota |  3.8 |  86 | 45 | 12.8 |\n",
       "| Tennessee | 13.2 | 188 | 59 | 26.9 |\n",
       "| Texas | 12.7 | 201 | 80 | 25.5 |\n",
       "| Utah |  3.2 | 120 | 80 | 22.9 |\n",
       "| Vermont |  2.2 |  48 | 32 | 11.2 |\n",
       "| Virginia |  8.5 | 156 | 63 | 20.7 |\n",
       "| Washington |  4.0 | 145 | 73 | 26.2 |\n",
       "| West Virginia |  5.7 |  81 | 39 |  9.3 |\n",
       "| Wisconsin |  2.6 |  53 | 66 | 10.8 |\n",
       "| Wyoming |  6.8 | 161 | 60 | 15.6 |\n",
       "\n"
      ],
      "text/plain": [
       "$usarrests\n",
       "               Murder Assault UrbanPop Rape\n",
       "Alabama          13.2     236       58 21.2\n",
       "Alaska           10.0     263       48 44.5\n",
       "Arizona           8.1     294       80 31.0\n",
       "Arkansas          8.8     190       50 19.5\n",
       "California        9.0     276       91 40.6\n",
       "Colorado          7.9     204       78 38.7\n",
       "Connecticut       3.3     110       77 11.1\n",
       "Delaware          5.9     238       72 15.8\n",
       "Florida          15.4     335       80 31.9\n",
       "Georgia          17.4     211       60 25.8\n",
       "Hawaii            5.3      46       83 20.2\n",
       "Idaho             2.6     120       54 14.2\n",
       "Illinois         10.4     249       83 24.0\n",
       "Indiana           7.2     113       65 21.0\n",
       "Iowa              2.2      56       57 11.3\n",
       "Kansas            6.0     115       66 18.0\n",
       "Kentucky          9.7     109       52 16.3\n",
       "Louisiana        15.4     249       66 22.2\n",
       "Maine             2.1      83       51  7.8\n",
       "Maryland         11.3     300       67 27.8\n",
       "Massachusetts     4.4     149       85 16.3\n",
       "Michigan         12.1     255       74 35.1\n",
       "Minnesota         2.7      72       66 14.9\n",
       "Mississippi      16.1     259       44 17.1\n",
       "Missouri          9.0     178       70 28.2\n",
       "Montana           6.0     109       53 16.4\n",
       "Nebraska          4.3     102       62 16.5\n",
       "Nevada           12.2     252       81 46.0\n",
       "New Hampshire     2.1      57       56  9.5\n",
       "New Jersey        7.4     159       89 18.8\n",
       "New Mexico       11.4     285       70 32.1\n",
       "New York         11.1     254       86 26.1\n",
       "North Carolina   13.0     337       45 16.1\n",
       "North Dakota      0.8      45       44  7.3\n",
       "Ohio              7.3     120       75 21.4\n",
       "Oklahoma          6.6     151       68 20.0\n",
       "Oregon            4.9     159       67 29.3\n",
       "Pennsylvania      6.3     106       72 14.9\n",
       "Rhode Island      3.4     174       87  8.3\n",
       "South Carolina   14.4     279       48 22.5\n",
       "South Dakota      3.8      86       45 12.8\n",
       "Tennessee        13.2     188       59 26.9\n",
       "Texas            12.7     201       80 25.5\n",
       "Utah              3.2     120       80 22.9\n",
       "Vermont           2.2      48       32 11.2\n",
       "Virginia          8.5     156       63 20.7\n",
       "Washington        4.0     145       73 26.2\n",
       "West Virginia     5.7      81       39  9.3\n",
       "Wisconsin         2.6      53       66 10.8\n",
       "Wyoming           6.8     161       60 15.6\n"
      ]
     },
     "metadata": {},
     "output_type": "display_data"
    },
    {
     "data": {
      "text/html": [
       "<strong>$usarrests</strong> = <table>\n",
       "<caption>A data.frame: 50 × 4</caption>\n",
       "<thead>\n",
       "\t<tr><th></th><th scope=col>Murder</th><th scope=col>Assault</th><th scope=col>UrbanPop</th><th scope=col>Rape</th></tr>\n",
       "\t<tr><th></th><th scope=col>&lt;dbl&gt;</th><th scope=col>&lt;int&gt;</th><th scope=col>&lt;int&gt;</th><th scope=col>&lt;dbl&gt;</th></tr>\n",
       "</thead>\n",
       "<tbody>\n",
       "\t<tr><th scope=row>Alabama</th><td>13.2</td><td>236</td><td>58</td><td>21.2</td></tr>\n",
       "\t<tr><th scope=row>Alaska</th><td>10.0</td><td>263</td><td>48</td><td>44.5</td></tr>\n",
       "\t<tr><th scope=row>Arizona</th><td> 8.1</td><td>294</td><td>80</td><td>31.0</td></tr>\n",
       "\t<tr><th scope=row>Arkansas</th><td> 8.8</td><td>190</td><td>50</td><td>19.5</td></tr>\n",
       "\t<tr><th scope=row>California</th><td> 9.0</td><td>276</td><td>91</td><td>40.6</td></tr>\n",
       "\t<tr><th scope=row>Colorado</th><td> 7.9</td><td>204</td><td>78</td><td>38.7</td></tr>\n",
       "\t<tr><th scope=row>Connecticut</th><td> 3.3</td><td>110</td><td>77</td><td>11.1</td></tr>\n",
       "\t<tr><th scope=row>Delaware</th><td> 5.9</td><td>238</td><td>72</td><td>15.8</td></tr>\n",
       "\t<tr><th scope=row>Florida</th><td>15.4</td><td>335</td><td>80</td><td>31.9</td></tr>\n",
       "\t<tr><th scope=row>Georgia</th><td>17.4</td><td>211</td><td>60</td><td>25.8</td></tr>\n",
       "\t<tr><th scope=row>Hawaii</th><td> 5.3</td><td> 46</td><td>83</td><td>20.2</td></tr>\n",
       "\t<tr><th scope=row>Idaho</th><td> 2.6</td><td>120</td><td>54</td><td>14.2</td></tr>\n",
       "\t<tr><th scope=row>Illinois</th><td>10.4</td><td>249</td><td>83</td><td>24.0</td></tr>\n",
       "\t<tr><th scope=row>Indiana</th><td> 7.2</td><td>113</td><td>65</td><td>21.0</td></tr>\n",
       "\t<tr><th scope=row>Iowa</th><td> 2.2</td><td> 56</td><td>57</td><td>11.3</td></tr>\n",
       "\t<tr><th scope=row>Kansas</th><td> 6.0</td><td>115</td><td>66</td><td>18.0</td></tr>\n",
       "\t<tr><th scope=row>Kentucky</th><td> 9.7</td><td>109</td><td>52</td><td>16.3</td></tr>\n",
       "\t<tr><th scope=row>Louisiana</th><td>15.4</td><td>249</td><td>66</td><td>22.2</td></tr>\n",
       "\t<tr><th scope=row>Maine</th><td> 2.1</td><td> 83</td><td>51</td><td> 7.8</td></tr>\n",
       "\t<tr><th scope=row>Maryland</th><td>11.3</td><td>300</td><td>67</td><td>27.8</td></tr>\n",
       "\t<tr><th scope=row>Massachusetts</th><td> 4.4</td><td>149</td><td>85</td><td>16.3</td></tr>\n",
       "\t<tr><th scope=row>Michigan</th><td>12.1</td><td>255</td><td>74</td><td>35.1</td></tr>\n",
       "\t<tr><th scope=row>Minnesota</th><td> 2.7</td><td> 72</td><td>66</td><td>14.9</td></tr>\n",
       "\t<tr><th scope=row>Mississippi</th><td>16.1</td><td>259</td><td>44</td><td>17.1</td></tr>\n",
       "\t<tr><th scope=row>Missouri</th><td> 9.0</td><td>178</td><td>70</td><td>28.2</td></tr>\n",
       "\t<tr><th scope=row>Montana</th><td> 6.0</td><td>109</td><td>53</td><td>16.4</td></tr>\n",
       "\t<tr><th scope=row>Nebraska</th><td> 4.3</td><td>102</td><td>62</td><td>16.5</td></tr>\n",
       "\t<tr><th scope=row>Nevada</th><td>12.2</td><td>252</td><td>81</td><td>46.0</td></tr>\n",
       "\t<tr><th scope=row>New Hampshire</th><td> 2.1</td><td> 57</td><td>56</td><td> 9.5</td></tr>\n",
       "\t<tr><th scope=row>New Jersey</th><td> 7.4</td><td>159</td><td>89</td><td>18.8</td></tr>\n",
       "\t<tr><th scope=row>New Mexico</th><td>11.4</td><td>285</td><td>70</td><td>32.1</td></tr>\n",
       "\t<tr><th scope=row>New York</th><td>11.1</td><td>254</td><td>86</td><td>26.1</td></tr>\n",
       "\t<tr><th scope=row>North Carolina</th><td>13.0</td><td>337</td><td>45</td><td>16.1</td></tr>\n",
       "\t<tr><th scope=row>North Dakota</th><td> 0.8</td><td> 45</td><td>44</td><td> 7.3</td></tr>\n",
       "\t<tr><th scope=row>Ohio</th><td> 7.3</td><td>120</td><td>75</td><td>21.4</td></tr>\n",
       "\t<tr><th scope=row>Oklahoma</th><td> 6.6</td><td>151</td><td>68</td><td>20.0</td></tr>\n",
       "\t<tr><th scope=row>Oregon</th><td> 4.9</td><td>159</td><td>67</td><td>29.3</td></tr>\n",
       "\t<tr><th scope=row>Pennsylvania</th><td> 6.3</td><td>106</td><td>72</td><td>14.9</td></tr>\n",
       "\t<tr><th scope=row>Rhode Island</th><td> 3.4</td><td>174</td><td>87</td><td> 8.3</td></tr>\n",
       "\t<tr><th scope=row>South Carolina</th><td>14.4</td><td>279</td><td>48</td><td>22.5</td></tr>\n",
       "\t<tr><th scope=row>South Dakota</th><td> 3.8</td><td> 86</td><td>45</td><td>12.8</td></tr>\n",
       "\t<tr><th scope=row>Tennessee</th><td>13.2</td><td>188</td><td>59</td><td>26.9</td></tr>\n",
       "\t<tr><th scope=row>Texas</th><td>12.7</td><td>201</td><td>80</td><td>25.5</td></tr>\n",
       "\t<tr><th scope=row>Utah</th><td> 3.2</td><td>120</td><td>80</td><td>22.9</td></tr>\n",
       "\t<tr><th scope=row>Vermont</th><td> 2.2</td><td> 48</td><td>32</td><td>11.2</td></tr>\n",
       "\t<tr><th scope=row>Virginia</th><td> 8.5</td><td>156</td><td>63</td><td>20.7</td></tr>\n",
       "\t<tr><th scope=row>Washington</th><td> 4.0</td><td>145</td><td>73</td><td>26.2</td></tr>\n",
       "\t<tr><th scope=row>West Virginia</th><td> 5.7</td><td> 81</td><td>39</td><td> 9.3</td></tr>\n",
       "\t<tr><th scope=row>Wisconsin</th><td> 2.6</td><td> 53</td><td>66</td><td>10.8</td></tr>\n",
       "\t<tr><th scope=row>Wyoming</th><td> 6.8</td><td>161</td><td>60</td><td>15.6</td></tr>\n",
       "</tbody>\n",
       "</table>\n"
      ],
      "text/latex": [
       "\\textbf{\\$usarrests} = A data.frame: 50 × 4\n",
       "\\begin{tabular}{r|llll}\n",
       "  & Murder & Assault & UrbanPop & Rape\\\\\n",
       "  & <dbl> & <int> & <int> & <dbl>\\\\\n",
       "\\hline\n",
       "\tAlabama & 13.2 & 236 & 58 & 21.2\\\\\n",
       "\tAlaska & 10.0 & 263 & 48 & 44.5\\\\\n",
       "\tArizona &  8.1 & 294 & 80 & 31.0\\\\\n",
       "\tArkansas &  8.8 & 190 & 50 & 19.5\\\\\n",
       "\tCalifornia &  9.0 & 276 & 91 & 40.6\\\\\n",
       "\tColorado &  7.9 & 204 & 78 & 38.7\\\\\n",
       "\tConnecticut &  3.3 & 110 & 77 & 11.1\\\\\n",
       "\tDelaware &  5.9 & 238 & 72 & 15.8\\\\\n",
       "\tFlorida & 15.4 & 335 & 80 & 31.9\\\\\n",
       "\tGeorgia & 17.4 & 211 & 60 & 25.8\\\\\n",
       "\tHawaii &  5.3 &  46 & 83 & 20.2\\\\\n",
       "\tIdaho &  2.6 & 120 & 54 & 14.2\\\\\n",
       "\tIllinois & 10.4 & 249 & 83 & 24.0\\\\\n",
       "\tIndiana &  7.2 & 113 & 65 & 21.0\\\\\n",
       "\tIowa &  2.2 &  56 & 57 & 11.3\\\\\n",
       "\tKansas &  6.0 & 115 & 66 & 18.0\\\\\n",
       "\tKentucky &  9.7 & 109 & 52 & 16.3\\\\\n",
       "\tLouisiana & 15.4 & 249 & 66 & 22.2\\\\\n",
       "\tMaine &  2.1 &  83 & 51 &  7.8\\\\\n",
       "\tMaryland & 11.3 & 300 & 67 & 27.8\\\\\n",
       "\tMassachusetts &  4.4 & 149 & 85 & 16.3\\\\\n",
       "\tMichigan & 12.1 & 255 & 74 & 35.1\\\\\n",
       "\tMinnesota &  2.7 &  72 & 66 & 14.9\\\\\n",
       "\tMississippi & 16.1 & 259 & 44 & 17.1\\\\\n",
       "\tMissouri &  9.0 & 178 & 70 & 28.2\\\\\n",
       "\tMontana &  6.0 & 109 & 53 & 16.4\\\\\n",
       "\tNebraska &  4.3 & 102 & 62 & 16.5\\\\\n",
       "\tNevada & 12.2 & 252 & 81 & 46.0\\\\\n",
       "\tNew Hampshire &  2.1 &  57 & 56 &  9.5\\\\\n",
       "\tNew Jersey &  7.4 & 159 & 89 & 18.8\\\\\n",
       "\tNew Mexico & 11.4 & 285 & 70 & 32.1\\\\\n",
       "\tNew York & 11.1 & 254 & 86 & 26.1\\\\\n",
       "\tNorth Carolina & 13.0 & 337 & 45 & 16.1\\\\\n",
       "\tNorth Dakota &  0.8 &  45 & 44 &  7.3\\\\\n",
       "\tOhio &  7.3 & 120 & 75 & 21.4\\\\\n",
       "\tOklahoma &  6.6 & 151 & 68 & 20.0\\\\\n",
       "\tOregon &  4.9 & 159 & 67 & 29.3\\\\\n",
       "\tPennsylvania &  6.3 & 106 & 72 & 14.9\\\\\n",
       "\tRhode Island &  3.4 & 174 & 87 &  8.3\\\\\n",
       "\tSouth Carolina & 14.4 & 279 & 48 & 22.5\\\\\n",
       "\tSouth Dakota &  3.8 &  86 & 45 & 12.8\\\\\n",
       "\tTennessee & 13.2 & 188 & 59 & 26.9\\\\\n",
       "\tTexas & 12.7 & 201 & 80 & 25.5\\\\\n",
       "\tUtah &  3.2 & 120 & 80 & 22.9\\\\\n",
       "\tVermont &  2.2 &  48 & 32 & 11.2\\\\\n",
       "\tVirginia &  8.5 & 156 & 63 & 20.7\\\\\n",
       "\tWashington &  4.0 & 145 & 73 & 26.2\\\\\n",
       "\tWest Virginia &  5.7 &  81 & 39 &  9.3\\\\\n",
       "\tWisconsin &  2.6 &  53 & 66 & 10.8\\\\\n",
       "\tWyoming &  6.8 & 161 & 60 & 15.6\\\\\n",
       "\\end{tabular}\n"
      ],
      "text/markdown": [
       "**$usarrests** = \n",
       "A data.frame: 50 × 4\n",
       "\n",
       "| <!--/--> | Murder &lt;dbl&gt; | Assault &lt;int&gt; | UrbanPop &lt;int&gt; | Rape &lt;dbl&gt; |\n",
       "|---|---|---|---|---|\n",
       "| Alabama | 13.2 | 236 | 58 | 21.2 |\n",
       "| Alaska | 10.0 | 263 | 48 | 44.5 |\n",
       "| Arizona |  8.1 | 294 | 80 | 31.0 |\n",
       "| Arkansas |  8.8 | 190 | 50 | 19.5 |\n",
       "| California |  9.0 | 276 | 91 | 40.6 |\n",
       "| Colorado |  7.9 | 204 | 78 | 38.7 |\n",
       "| Connecticut |  3.3 | 110 | 77 | 11.1 |\n",
       "| Delaware |  5.9 | 238 | 72 | 15.8 |\n",
       "| Florida | 15.4 | 335 | 80 | 31.9 |\n",
       "| Georgia | 17.4 | 211 | 60 | 25.8 |\n",
       "| Hawaii |  5.3 |  46 | 83 | 20.2 |\n",
       "| Idaho |  2.6 | 120 | 54 | 14.2 |\n",
       "| Illinois | 10.4 | 249 | 83 | 24.0 |\n",
       "| Indiana |  7.2 | 113 | 65 | 21.0 |\n",
       "| Iowa |  2.2 |  56 | 57 | 11.3 |\n",
       "| Kansas |  6.0 | 115 | 66 | 18.0 |\n",
       "| Kentucky |  9.7 | 109 | 52 | 16.3 |\n",
       "| Louisiana | 15.4 | 249 | 66 | 22.2 |\n",
       "| Maine |  2.1 |  83 | 51 |  7.8 |\n",
       "| Maryland | 11.3 | 300 | 67 | 27.8 |\n",
       "| Massachusetts |  4.4 | 149 | 85 | 16.3 |\n",
       "| Michigan | 12.1 | 255 | 74 | 35.1 |\n",
       "| Minnesota |  2.7 |  72 | 66 | 14.9 |\n",
       "| Mississippi | 16.1 | 259 | 44 | 17.1 |\n",
       "| Missouri |  9.0 | 178 | 70 | 28.2 |\n",
       "| Montana |  6.0 | 109 | 53 | 16.4 |\n",
       "| Nebraska |  4.3 | 102 | 62 | 16.5 |\n",
       "| Nevada | 12.2 | 252 | 81 | 46.0 |\n",
       "| New Hampshire |  2.1 |  57 | 56 |  9.5 |\n",
       "| New Jersey |  7.4 | 159 | 89 | 18.8 |\n",
       "| New Mexico | 11.4 | 285 | 70 | 32.1 |\n",
       "| New York | 11.1 | 254 | 86 | 26.1 |\n",
       "| North Carolina | 13.0 | 337 | 45 | 16.1 |\n",
       "| North Dakota |  0.8 |  45 | 44 |  7.3 |\n",
       "| Ohio |  7.3 | 120 | 75 | 21.4 |\n",
       "| Oklahoma |  6.6 | 151 | 68 | 20.0 |\n",
       "| Oregon |  4.9 | 159 | 67 | 29.3 |\n",
       "| Pennsylvania |  6.3 | 106 | 72 | 14.9 |\n",
       "| Rhode Island |  3.4 | 174 | 87 |  8.3 |\n",
       "| South Carolina | 14.4 | 279 | 48 | 22.5 |\n",
       "| South Dakota |  3.8 |  86 | 45 | 12.8 |\n",
       "| Tennessee | 13.2 | 188 | 59 | 26.9 |\n",
       "| Texas | 12.7 | 201 | 80 | 25.5 |\n",
       "| Utah |  3.2 | 120 | 80 | 22.9 |\n",
       "| Vermont |  2.2 |  48 | 32 | 11.2 |\n",
       "| Virginia |  8.5 | 156 | 63 | 20.7 |\n",
       "| Washington |  4.0 | 145 | 73 | 26.2 |\n",
       "| West Virginia |  5.7 |  81 | 39 |  9.3 |\n",
       "| Wisconsin |  2.6 |  53 | 66 | 10.8 |\n",
       "| Wyoming |  6.8 | 161 | 60 | 15.6 |\n",
       "\n"
      ],
      "text/plain": [
       "$usarrests\n",
       "               Murder Assault UrbanPop Rape\n",
       "Alabama          13.2     236       58 21.2\n",
       "Alaska           10.0     263       48 44.5\n",
       "Arizona           8.1     294       80 31.0\n",
       "Arkansas          8.8     190       50 19.5\n",
       "California        9.0     276       91 40.6\n",
       "Colorado          7.9     204       78 38.7\n",
       "Connecticut       3.3     110       77 11.1\n",
       "Delaware          5.9     238       72 15.8\n",
       "Florida          15.4     335       80 31.9\n",
       "Georgia          17.4     211       60 25.8\n",
       "Hawaii            5.3      46       83 20.2\n",
       "Idaho             2.6     120       54 14.2\n",
       "Illinois         10.4     249       83 24.0\n",
       "Indiana           7.2     113       65 21.0\n",
       "Iowa              2.2      56       57 11.3\n",
       "Kansas            6.0     115       66 18.0\n",
       "Kentucky          9.7     109       52 16.3\n",
       "Louisiana        15.4     249       66 22.2\n",
       "Maine             2.1      83       51  7.8\n",
       "Maryland         11.3     300       67 27.8\n",
       "Massachusetts     4.4     149       85 16.3\n",
       "Michigan         12.1     255       74 35.1\n",
       "Minnesota         2.7      72       66 14.9\n",
       "Mississippi      16.1     259       44 17.1\n",
       "Missouri          9.0     178       70 28.2\n",
       "Montana           6.0     109       53 16.4\n",
       "Nebraska          4.3     102       62 16.5\n",
       "Nevada           12.2     252       81 46.0\n",
       "New Hampshire     2.1      57       56  9.5\n",
       "New Jersey        7.4     159       89 18.8\n",
       "New Mexico       11.4     285       70 32.1\n",
       "New York         11.1     254       86 26.1\n",
       "North Carolina   13.0     337       45 16.1\n",
       "North Dakota      0.8      45       44  7.3\n",
       "Ohio              7.3     120       75 21.4\n",
       "Oklahoma          6.6     151       68 20.0\n",
       "Oregon            4.9     159       67 29.3\n",
       "Pennsylvania      6.3     106       72 14.9\n",
       "Rhode Island      3.4     174       87  8.3\n",
       "South Carolina   14.4     279       48 22.5\n",
       "South Dakota      3.8      86       45 12.8\n",
       "Tennessee        13.2     188       59 26.9\n",
       "Texas            12.7     201       80 25.5\n",
       "Utah              3.2     120       80 22.9\n",
       "Vermont           2.2      48       32 11.2\n",
       "Virginia          8.5     156       63 20.7\n",
       "Washington        4.0     145       73 26.2\n",
       "West Virginia     5.7      81       39  9.3\n",
       "Wisconsin         2.6      53       66 10.8\n",
       "Wyoming           6.8     161       60 15.6\n"
      ]
     },
     "metadata": {},
     "output_type": "display_data"
    },
    {
     "data": {
      "text/html": [
       "'list'"
      ],
      "text/latex": [
       "'list'"
      ],
      "text/markdown": [
       "'list'"
      ],
      "text/plain": [
       "[1] \"list\""
      ]
     },
     "metadata": {},
     "output_type": "display_data"
    },
    {
     "data": {
      "text/html": [
       "<style>\n",
       ".list-inline {list-style: none; margin:0; padding: 0}\n",
       ".list-inline>li {display: inline-block}\n",
       ".list-inline>li:not(:last-child)::after {content: \"\\00b7\"; padding: 0 .5ex}\n",
       "</style>\n",
       "<ol class=list-inline><li>653267890</li><li>890765321</li><li>87832987</li></ol>\n"
      ],
      "text/latex": [
       "\\begin{enumerate*}\n",
       "\\item 653267890\n",
       "\\item 890765321\n",
       "\\item 87832987\n",
       "\\end{enumerate*}\n"
      ],
      "text/markdown": [
       "1. 653267890\n",
       "2. 890765321\n",
       "3. 87832987\n",
       "\n",
       "\n"
      ],
      "text/plain": [
       "[1] 653267890 890765321  87832987"
      ]
     },
     "metadata": {},
     "output_type": "display_data"
    },
    {
     "data": {
      "text/html": [
       "'numeric'"
      ],
      "text/latex": [
       "'numeric'"
      ],
      "text/markdown": [
       "'numeric'"
      ],
      "text/plain": [
       "[1] \"numeric\""
      ]
     },
     "metadata": {},
     "output_type": "display_data"
    },
    {
     "data": {
      "text/html": [
       "<ol>\n",
       "\t<li><ol>\n",
       "\t<li><style>\n",
       ".list-inline {list-style: none; margin:0; padding: 0}\n",
       ".list-inline>li {display: inline-block}\n",
       ".list-inline>li:not(:last-child)::after {content: \"\\00b7\"; padding: 0 .5ex}\n",
       "</style>\n",
       "<ol class=list-inline><li>653267890</li><li>890765321</li><li>87832987</li></ol>\n",
       "</li>\n",
       "\t<li><table>\n",
       "<caption>A matrix: 2 × 5 of type int</caption>\n",
       "<tbody>\n",
       "\t<tr><td>1</td><td>3</td><td>5</td><td>7</td><td> 9</td></tr>\n",
       "\t<tr><td>2</td><td>4</td><td>6</td><td>8</td><td>10</td></tr>\n",
       "</tbody>\n",
       "</table>\n",
       "</li>\n",
       "\t<li><table>\n",
       "<caption>A data.frame: 50 × 4</caption>\n",
       "<thead>\n",
       "\t<tr><th></th><th scope=col>Murder</th><th scope=col>Assault</th><th scope=col>UrbanPop</th><th scope=col>Rape</th></tr>\n",
       "\t<tr><th></th><th scope=col>&lt;dbl&gt;</th><th scope=col>&lt;int&gt;</th><th scope=col>&lt;int&gt;</th><th scope=col>&lt;dbl&gt;</th></tr>\n",
       "</thead>\n",
       "<tbody>\n",
       "\t<tr><th scope=row>Alabama</th><td>13.2</td><td>236</td><td>58</td><td>21.2</td></tr>\n",
       "\t<tr><th scope=row>Alaska</th><td>10.0</td><td>263</td><td>48</td><td>44.5</td></tr>\n",
       "\t<tr><th scope=row>Arizona</th><td> 8.1</td><td>294</td><td>80</td><td>31.0</td></tr>\n",
       "\t<tr><th scope=row>Arkansas</th><td> 8.8</td><td>190</td><td>50</td><td>19.5</td></tr>\n",
       "\t<tr><th scope=row>California</th><td> 9.0</td><td>276</td><td>91</td><td>40.6</td></tr>\n",
       "\t<tr><th scope=row>Colorado</th><td> 7.9</td><td>204</td><td>78</td><td>38.7</td></tr>\n",
       "\t<tr><th scope=row>Connecticut</th><td> 3.3</td><td>110</td><td>77</td><td>11.1</td></tr>\n",
       "\t<tr><th scope=row>Delaware</th><td> 5.9</td><td>238</td><td>72</td><td>15.8</td></tr>\n",
       "\t<tr><th scope=row>Florida</th><td>15.4</td><td>335</td><td>80</td><td>31.9</td></tr>\n",
       "\t<tr><th scope=row>Georgia</th><td>17.4</td><td>211</td><td>60</td><td>25.8</td></tr>\n",
       "\t<tr><th scope=row>Hawaii</th><td> 5.3</td><td> 46</td><td>83</td><td>20.2</td></tr>\n",
       "\t<tr><th scope=row>Idaho</th><td> 2.6</td><td>120</td><td>54</td><td>14.2</td></tr>\n",
       "\t<tr><th scope=row>Illinois</th><td>10.4</td><td>249</td><td>83</td><td>24.0</td></tr>\n",
       "\t<tr><th scope=row>Indiana</th><td> 7.2</td><td>113</td><td>65</td><td>21.0</td></tr>\n",
       "\t<tr><th scope=row>Iowa</th><td> 2.2</td><td> 56</td><td>57</td><td>11.3</td></tr>\n",
       "\t<tr><th scope=row>Kansas</th><td> 6.0</td><td>115</td><td>66</td><td>18.0</td></tr>\n",
       "\t<tr><th scope=row>Kentucky</th><td> 9.7</td><td>109</td><td>52</td><td>16.3</td></tr>\n",
       "\t<tr><th scope=row>Louisiana</th><td>15.4</td><td>249</td><td>66</td><td>22.2</td></tr>\n",
       "\t<tr><th scope=row>Maine</th><td> 2.1</td><td> 83</td><td>51</td><td> 7.8</td></tr>\n",
       "\t<tr><th scope=row>Maryland</th><td>11.3</td><td>300</td><td>67</td><td>27.8</td></tr>\n",
       "\t<tr><th scope=row>Massachusetts</th><td> 4.4</td><td>149</td><td>85</td><td>16.3</td></tr>\n",
       "\t<tr><th scope=row>Michigan</th><td>12.1</td><td>255</td><td>74</td><td>35.1</td></tr>\n",
       "\t<tr><th scope=row>Minnesota</th><td> 2.7</td><td> 72</td><td>66</td><td>14.9</td></tr>\n",
       "\t<tr><th scope=row>Mississippi</th><td>16.1</td><td>259</td><td>44</td><td>17.1</td></tr>\n",
       "\t<tr><th scope=row>Missouri</th><td> 9.0</td><td>178</td><td>70</td><td>28.2</td></tr>\n",
       "\t<tr><th scope=row>Montana</th><td> 6.0</td><td>109</td><td>53</td><td>16.4</td></tr>\n",
       "\t<tr><th scope=row>Nebraska</th><td> 4.3</td><td>102</td><td>62</td><td>16.5</td></tr>\n",
       "\t<tr><th scope=row>Nevada</th><td>12.2</td><td>252</td><td>81</td><td>46.0</td></tr>\n",
       "\t<tr><th scope=row>New Hampshire</th><td> 2.1</td><td> 57</td><td>56</td><td> 9.5</td></tr>\n",
       "\t<tr><th scope=row>New Jersey</th><td> 7.4</td><td>159</td><td>89</td><td>18.8</td></tr>\n",
       "\t<tr><th scope=row>New Mexico</th><td>11.4</td><td>285</td><td>70</td><td>32.1</td></tr>\n",
       "\t<tr><th scope=row>New York</th><td>11.1</td><td>254</td><td>86</td><td>26.1</td></tr>\n",
       "\t<tr><th scope=row>North Carolina</th><td>13.0</td><td>337</td><td>45</td><td>16.1</td></tr>\n",
       "\t<tr><th scope=row>North Dakota</th><td> 0.8</td><td> 45</td><td>44</td><td> 7.3</td></tr>\n",
       "\t<tr><th scope=row>Ohio</th><td> 7.3</td><td>120</td><td>75</td><td>21.4</td></tr>\n",
       "\t<tr><th scope=row>Oklahoma</th><td> 6.6</td><td>151</td><td>68</td><td>20.0</td></tr>\n",
       "\t<tr><th scope=row>Oregon</th><td> 4.9</td><td>159</td><td>67</td><td>29.3</td></tr>\n",
       "\t<tr><th scope=row>Pennsylvania</th><td> 6.3</td><td>106</td><td>72</td><td>14.9</td></tr>\n",
       "\t<tr><th scope=row>Rhode Island</th><td> 3.4</td><td>174</td><td>87</td><td> 8.3</td></tr>\n",
       "\t<tr><th scope=row>South Carolina</th><td>14.4</td><td>279</td><td>48</td><td>22.5</td></tr>\n",
       "\t<tr><th scope=row>South Dakota</th><td> 3.8</td><td> 86</td><td>45</td><td>12.8</td></tr>\n",
       "\t<tr><th scope=row>Tennessee</th><td>13.2</td><td>188</td><td>59</td><td>26.9</td></tr>\n",
       "\t<tr><th scope=row>Texas</th><td>12.7</td><td>201</td><td>80</td><td>25.5</td></tr>\n",
       "\t<tr><th scope=row>Utah</th><td> 3.2</td><td>120</td><td>80</td><td>22.9</td></tr>\n",
       "\t<tr><th scope=row>Vermont</th><td> 2.2</td><td> 48</td><td>32</td><td>11.2</td></tr>\n",
       "\t<tr><th scope=row>Virginia</th><td> 8.5</td><td>156</td><td>63</td><td>20.7</td></tr>\n",
       "\t<tr><th scope=row>Washington</th><td> 4.0</td><td>145</td><td>73</td><td>26.2</td></tr>\n",
       "\t<tr><th scope=row>West Virginia</th><td> 5.7</td><td> 81</td><td>39</td><td> 9.3</td></tr>\n",
       "\t<tr><th scope=row>Wisconsin</th><td> 2.6</td><td> 53</td><td>66</td><td>10.8</td></tr>\n",
       "\t<tr><th scope=row>Wyoming</th><td> 6.8</td><td>161</td><td>60</td><td>15.6</td></tr>\n",
       "</tbody>\n",
       "</table>\n",
       "</li>\n",
       "</ol>\n",
       "</li>\n",
       "\t<li><dl>\n",
       "\t<dt>$contact</dt>\n",
       "\t\t<dd><style>\n",
       ".list-inline {list-style: none; margin:0; padding: 0}\n",
       ".list-inline>li {display: inline-block}\n",
       ".list-inline>li:not(:last-child)::after {content: \"\\00b7\"; padding: 0 .5ex}\n",
       "</style>\n",
       "<ol class=list-inline><li>653267890</li><li>890765321</li><li>87832987</li></ol>\n",
       "</dd>\n",
       "\t<dt>$matrix1</dt>\n",
       "\t\t<dd><table>\n",
       "<caption>A matrix: 2 × 5 of type int</caption>\n",
       "<tbody>\n",
       "\t<tr><td>1</td><td>3</td><td>5</td><td>7</td><td> 9</td></tr>\n",
       "\t<tr><td>2</td><td>4</td><td>6</td><td>8</td><td>10</td></tr>\n",
       "</tbody>\n",
       "</table>\n",
       "</dd>\n",
       "\t<dt>$usarrests</dt>\n",
       "\t\t<dd><table>\n",
       "<caption>A data.frame: 50 × 4</caption>\n",
       "<thead>\n",
       "\t<tr><th></th><th scope=col>Murder</th><th scope=col>Assault</th><th scope=col>UrbanPop</th><th scope=col>Rape</th></tr>\n",
       "\t<tr><th></th><th scope=col>&lt;dbl&gt;</th><th scope=col>&lt;int&gt;</th><th scope=col>&lt;int&gt;</th><th scope=col>&lt;dbl&gt;</th></tr>\n",
       "</thead>\n",
       "<tbody>\n",
       "\t<tr><th scope=row>Alabama</th><td>13.2</td><td>236</td><td>58</td><td>21.2</td></tr>\n",
       "\t<tr><th scope=row>Alaska</th><td>10.0</td><td>263</td><td>48</td><td>44.5</td></tr>\n",
       "\t<tr><th scope=row>Arizona</th><td> 8.1</td><td>294</td><td>80</td><td>31.0</td></tr>\n",
       "\t<tr><th scope=row>Arkansas</th><td> 8.8</td><td>190</td><td>50</td><td>19.5</td></tr>\n",
       "\t<tr><th scope=row>California</th><td> 9.0</td><td>276</td><td>91</td><td>40.6</td></tr>\n",
       "\t<tr><th scope=row>Colorado</th><td> 7.9</td><td>204</td><td>78</td><td>38.7</td></tr>\n",
       "\t<tr><th scope=row>Connecticut</th><td> 3.3</td><td>110</td><td>77</td><td>11.1</td></tr>\n",
       "\t<tr><th scope=row>Delaware</th><td> 5.9</td><td>238</td><td>72</td><td>15.8</td></tr>\n",
       "\t<tr><th scope=row>Florida</th><td>15.4</td><td>335</td><td>80</td><td>31.9</td></tr>\n",
       "\t<tr><th scope=row>Georgia</th><td>17.4</td><td>211</td><td>60</td><td>25.8</td></tr>\n",
       "\t<tr><th scope=row>Hawaii</th><td> 5.3</td><td> 46</td><td>83</td><td>20.2</td></tr>\n",
       "\t<tr><th scope=row>Idaho</th><td> 2.6</td><td>120</td><td>54</td><td>14.2</td></tr>\n",
       "\t<tr><th scope=row>Illinois</th><td>10.4</td><td>249</td><td>83</td><td>24.0</td></tr>\n",
       "\t<tr><th scope=row>Indiana</th><td> 7.2</td><td>113</td><td>65</td><td>21.0</td></tr>\n",
       "\t<tr><th scope=row>Iowa</th><td> 2.2</td><td> 56</td><td>57</td><td>11.3</td></tr>\n",
       "\t<tr><th scope=row>Kansas</th><td> 6.0</td><td>115</td><td>66</td><td>18.0</td></tr>\n",
       "\t<tr><th scope=row>Kentucky</th><td> 9.7</td><td>109</td><td>52</td><td>16.3</td></tr>\n",
       "\t<tr><th scope=row>Louisiana</th><td>15.4</td><td>249</td><td>66</td><td>22.2</td></tr>\n",
       "\t<tr><th scope=row>Maine</th><td> 2.1</td><td> 83</td><td>51</td><td> 7.8</td></tr>\n",
       "\t<tr><th scope=row>Maryland</th><td>11.3</td><td>300</td><td>67</td><td>27.8</td></tr>\n",
       "\t<tr><th scope=row>Massachusetts</th><td> 4.4</td><td>149</td><td>85</td><td>16.3</td></tr>\n",
       "\t<tr><th scope=row>Michigan</th><td>12.1</td><td>255</td><td>74</td><td>35.1</td></tr>\n",
       "\t<tr><th scope=row>Minnesota</th><td> 2.7</td><td> 72</td><td>66</td><td>14.9</td></tr>\n",
       "\t<tr><th scope=row>Mississippi</th><td>16.1</td><td>259</td><td>44</td><td>17.1</td></tr>\n",
       "\t<tr><th scope=row>Missouri</th><td> 9.0</td><td>178</td><td>70</td><td>28.2</td></tr>\n",
       "\t<tr><th scope=row>Montana</th><td> 6.0</td><td>109</td><td>53</td><td>16.4</td></tr>\n",
       "\t<tr><th scope=row>Nebraska</th><td> 4.3</td><td>102</td><td>62</td><td>16.5</td></tr>\n",
       "\t<tr><th scope=row>Nevada</th><td>12.2</td><td>252</td><td>81</td><td>46.0</td></tr>\n",
       "\t<tr><th scope=row>New Hampshire</th><td> 2.1</td><td> 57</td><td>56</td><td> 9.5</td></tr>\n",
       "\t<tr><th scope=row>New Jersey</th><td> 7.4</td><td>159</td><td>89</td><td>18.8</td></tr>\n",
       "\t<tr><th scope=row>New Mexico</th><td>11.4</td><td>285</td><td>70</td><td>32.1</td></tr>\n",
       "\t<tr><th scope=row>New York</th><td>11.1</td><td>254</td><td>86</td><td>26.1</td></tr>\n",
       "\t<tr><th scope=row>North Carolina</th><td>13.0</td><td>337</td><td>45</td><td>16.1</td></tr>\n",
       "\t<tr><th scope=row>North Dakota</th><td> 0.8</td><td> 45</td><td>44</td><td> 7.3</td></tr>\n",
       "\t<tr><th scope=row>Ohio</th><td> 7.3</td><td>120</td><td>75</td><td>21.4</td></tr>\n",
       "\t<tr><th scope=row>Oklahoma</th><td> 6.6</td><td>151</td><td>68</td><td>20.0</td></tr>\n",
       "\t<tr><th scope=row>Oregon</th><td> 4.9</td><td>159</td><td>67</td><td>29.3</td></tr>\n",
       "\t<tr><th scope=row>Pennsylvania</th><td> 6.3</td><td>106</td><td>72</td><td>14.9</td></tr>\n",
       "\t<tr><th scope=row>Rhode Island</th><td> 3.4</td><td>174</td><td>87</td><td> 8.3</td></tr>\n",
       "\t<tr><th scope=row>South Carolina</th><td>14.4</td><td>279</td><td>48</td><td>22.5</td></tr>\n",
       "\t<tr><th scope=row>South Dakota</th><td> 3.8</td><td> 86</td><td>45</td><td>12.8</td></tr>\n",
       "\t<tr><th scope=row>Tennessee</th><td>13.2</td><td>188</td><td>59</td><td>26.9</td></tr>\n",
       "\t<tr><th scope=row>Texas</th><td>12.7</td><td>201</td><td>80</td><td>25.5</td></tr>\n",
       "\t<tr><th scope=row>Utah</th><td> 3.2</td><td>120</td><td>80</td><td>22.9</td></tr>\n",
       "\t<tr><th scope=row>Vermont</th><td> 2.2</td><td> 48</td><td>32</td><td>11.2</td></tr>\n",
       "\t<tr><th scope=row>Virginia</th><td> 8.5</td><td>156</td><td>63</td><td>20.7</td></tr>\n",
       "\t<tr><th scope=row>Washington</th><td> 4.0</td><td>145</td><td>73</td><td>26.2</td></tr>\n",
       "\t<tr><th scope=row>West Virginia</th><td> 5.7</td><td> 81</td><td>39</td><td> 9.3</td></tr>\n",
       "\t<tr><th scope=row>Wisconsin</th><td> 2.6</td><td> 53</td><td>66</td><td>10.8</td></tr>\n",
       "\t<tr><th scope=row>Wyoming</th><td> 6.8</td><td>161</td><td>60</td><td>15.6</td></tr>\n",
       "</tbody>\n",
       "</table>\n",
       "</dd>\n",
       "</dl>\n",
       "</li>\n",
       "</ol>\n"
      ],
      "text/latex": [
       "\\begin{enumerate}\n",
       "\\item \\begin{enumerate}\n",
       "\\item \\begin{enumerate*}\n",
       "\\item 653267890\n",
       "\\item 890765321\n",
       "\\item 87832987\n",
       "\\end{enumerate*}\n",
       "\n",
       "\\item A matrix: 2 × 5 of type int\n",
       "\\begin{tabular}{lllll}\n",
       "\t 1 & 3 & 5 & 7 &  9\\\\\n",
       "\t 2 & 4 & 6 & 8 & 10\\\\\n",
       "\\end{tabular}\n",
       "\n",
       "\\item A data.frame: 50 × 4\n",
       "\\begin{tabular}{r|llll}\n",
       "  & Murder & Assault & UrbanPop & Rape\\\\\n",
       "  & <dbl> & <int> & <int> & <dbl>\\\\\n",
       "\\hline\n",
       "\tAlabama & 13.2 & 236 & 58 & 21.2\\\\\n",
       "\tAlaska & 10.0 & 263 & 48 & 44.5\\\\\n",
       "\tArizona &  8.1 & 294 & 80 & 31.0\\\\\n",
       "\tArkansas &  8.8 & 190 & 50 & 19.5\\\\\n",
       "\tCalifornia &  9.0 & 276 & 91 & 40.6\\\\\n",
       "\tColorado &  7.9 & 204 & 78 & 38.7\\\\\n",
       "\tConnecticut &  3.3 & 110 & 77 & 11.1\\\\\n",
       "\tDelaware &  5.9 & 238 & 72 & 15.8\\\\\n",
       "\tFlorida & 15.4 & 335 & 80 & 31.9\\\\\n",
       "\tGeorgia & 17.4 & 211 & 60 & 25.8\\\\\n",
       "\tHawaii &  5.3 &  46 & 83 & 20.2\\\\\n",
       "\tIdaho &  2.6 & 120 & 54 & 14.2\\\\\n",
       "\tIllinois & 10.4 & 249 & 83 & 24.0\\\\\n",
       "\tIndiana &  7.2 & 113 & 65 & 21.0\\\\\n",
       "\tIowa &  2.2 &  56 & 57 & 11.3\\\\\n",
       "\tKansas &  6.0 & 115 & 66 & 18.0\\\\\n",
       "\tKentucky &  9.7 & 109 & 52 & 16.3\\\\\n",
       "\tLouisiana & 15.4 & 249 & 66 & 22.2\\\\\n",
       "\tMaine &  2.1 &  83 & 51 &  7.8\\\\\n",
       "\tMaryland & 11.3 & 300 & 67 & 27.8\\\\\n",
       "\tMassachusetts &  4.4 & 149 & 85 & 16.3\\\\\n",
       "\tMichigan & 12.1 & 255 & 74 & 35.1\\\\\n",
       "\tMinnesota &  2.7 &  72 & 66 & 14.9\\\\\n",
       "\tMississippi & 16.1 & 259 & 44 & 17.1\\\\\n",
       "\tMissouri &  9.0 & 178 & 70 & 28.2\\\\\n",
       "\tMontana &  6.0 & 109 & 53 & 16.4\\\\\n",
       "\tNebraska &  4.3 & 102 & 62 & 16.5\\\\\n",
       "\tNevada & 12.2 & 252 & 81 & 46.0\\\\\n",
       "\tNew Hampshire &  2.1 &  57 & 56 &  9.5\\\\\n",
       "\tNew Jersey &  7.4 & 159 & 89 & 18.8\\\\\n",
       "\tNew Mexico & 11.4 & 285 & 70 & 32.1\\\\\n",
       "\tNew York & 11.1 & 254 & 86 & 26.1\\\\\n",
       "\tNorth Carolina & 13.0 & 337 & 45 & 16.1\\\\\n",
       "\tNorth Dakota &  0.8 &  45 & 44 &  7.3\\\\\n",
       "\tOhio &  7.3 & 120 & 75 & 21.4\\\\\n",
       "\tOklahoma &  6.6 & 151 & 68 & 20.0\\\\\n",
       "\tOregon &  4.9 & 159 & 67 & 29.3\\\\\n",
       "\tPennsylvania &  6.3 & 106 & 72 & 14.9\\\\\n",
       "\tRhode Island &  3.4 & 174 & 87 &  8.3\\\\\n",
       "\tSouth Carolina & 14.4 & 279 & 48 & 22.5\\\\\n",
       "\tSouth Dakota &  3.8 &  86 & 45 & 12.8\\\\\n",
       "\tTennessee & 13.2 & 188 & 59 & 26.9\\\\\n",
       "\tTexas & 12.7 & 201 & 80 & 25.5\\\\\n",
       "\tUtah &  3.2 & 120 & 80 & 22.9\\\\\n",
       "\tVermont &  2.2 &  48 & 32 & 11.2\\\\\n",
       "\tVirginia &  8.5 & 156 & 63 & 20.7\\\\\n",
       "\tWashington &  4.0 & 145 & 73 & 26.2\\\\\n",
       "\tWest Virginia &  5.7 &  81 & 39 &  9.3\\\\\n",
       "\tWisconsin &  2.6 &  53 & 66 & 10.8\\\\\n",
       "\tWyoming &  6.8 & 161 & 60 & 15.6\\\\\n",
       "\\end{tabular}\n",
       "\n",
       "\\end{enumerate}\n",
       "\n",
       "\\item \\begin{description}\n",
       "\\item[\\$contact] \\begin{enumerate*}\n",
       "\\item 653267890\n",
       "\\item 890765321\n",
       "\\item 87832987\n",
       "\\end{enumerate*}\n",
       "\n",
       "\\item[\\$matrix1] A matrix: 2 × 5 of type int\n",
       "\\begin{tabular}{lllll}\n",
       "\t 1 & 3 & 5 & 7 &  9\\\\\n",
       "\t 2 & 4 & 6 & 8 & 10\\\\\n",
       "\\end{tabular}\n",
       "\n",
       "\\item[\\$usarrests] A data.frame: 50 × 4\n",
       "\\begin{tabular}{r|llll}\n",
       "  & Murder & Assault & UrbanPop & Rape\\\\\n",
       "  & <dbl> & <int> & <int> & <dbl>\\\\\n",
       "\\hline\n",
       "\tAlabama & 13.2 & 236 & 58 & 21.2\\\\\n",
       "\tAlaska & 10.0 & 263 & 48 & 44.5\\\\\n",
       "\tArizona &  8.1 & 294 & 80 & 31.0\\\\\n",
       "\tArkansas &  8.8 & 190 & 50 & 19.5\\\\\n",
       "\tCalifornia &  9.0 & 276 & 91 & 40.6\\\\\n",
       "\tColorado &  7.9 & 204 & 78 & 38.7\\\\\n",
       "\tConnecticut &  3.3 & 110 & 77 & 11.1\\\\\n",
       "\tDelaware &  5.9 & 238 & 72 & 15.8\\\\\n",
       "\tFlorida & 15.4 & 335 & 80 & 31.9\\\\\n",
       "\tGeorgia & 17.4 & 211 & 60 & 25.8\\\\\n",
       "\tHawaii &  5.3 &  46 & 83 & 20.2\\\\\n",
       "\tIdaho &  2.6 & 120 & 54 & 14.2\\\\\n",
       "\tIllinois & 10.4 & 249 & 83 & 24.0\\\\\n",
       "\tIndiana &  7.2 & 113 & 65 & 21.0\\\\\n",
       "\tIowa &  2.2 &  56 & 57 & 11.3\\\\\n",
       "\tKansas &  6.0 & 115 & 66 & 18.0\\\\\n",
       "\tKentucky &  9.7 & 109 & 52 & 16.3\\\\\n",
       "\tLouisiana & 15.4 & 249 & 66 & 22.2\\\\\n",
       "\tMaine &  2.1 &  83 & 51 &  7.8\\\\\n",
       "\tMaryland & 11.3 & 300 & 67 & 27.8\\\\\n",
       "\tMassachusetts &  4.4 & 149 & 85 & 16.3\\\\\n",
       "\tMichigan & 12.1 & 255 & 74 & 35.1\\\\\n",
       "\tMinnesota &  2.7 &  72 & 66 & 14.9\\\\\n",
       "\tMississippi & 16.1 & 259 & 44 & 17.1\\\\\n",
       "\tMissouri &  9.0 & 178 & 70 & 28.2\\\\\n",
       "\tMontana &  6.0 & 109 & 53 & 16.4\\\\\n",
       "\tNebraska &  4.3 & 102 & 62 & 16.5\\\\\n",
       "\tNevada & 12.2 & 252 & 81 & 46.0\\\\\n",
       "\tNew Hampshire &  2.1 &  57 & 56 &  9.5\\\\\n",
       "\tNew Jersey &  7.4 & 159 & 89 & 18.8\\\\\n",
       "\tNew Mexico & 11.4 & 285 & 70 & 32.1\\\\\n",
       "\tNew York & 11.1 & 254 & 86 & 26.1\\\\\n",
       "\tNorth Carolina & 13.0 & 337 & 45 & 16.1\\\\\n",
       "\tNorth Dakota &  0.8 &  45 & 44 &  7.3\\\\\n",
       "\tOhio &  7.3 & 120 & 75 & 21.4\\\\\n",
       "\tOklahoma &  6.6 & 151 & 68 & 20.0\\\\\n",
       "\tOregon &  4.9 & 159 & 67 & 29.3\\\\\n",
       "\tPennsylvania &  6.3 & 106 & 72 & 14.9\\\\\n",
       "\tRhode Island &  3.4 & 174 & 87 &  8.3\\\\\n",
       "\tSouth Carolina & 14.4 & 279 & 48 & 22.5\\\\\n",
       "\tSouth Dakota &  3.8 &  86 & 45 & 12.8\\\\\n",
       "\tTennessee & 13.2 & 188 & 59 & 26.9\\\\\n",
       "\tTexas & 12.7 & 201 & 80 & 25.5\\\\\n",
       "\tUtah &  3.2 & 120 & 80 & 22.9\\\\\n",
       "\tVermont &  2.2 &  48 & 32 & 11.2\\\\\n",
       "\tVirginia &  8.5 & 156 & 63 & 20.7\\\\\n",
       "\tWashington &  4.0 & 145 & 73 & 26.2\\\\\n",
       "\tWest Virginia &  5.7 &  81 & 39 &  9.3\\\\\n",
       "\tWisconsin &  2.6 &  53 & 66 & 10.8\\\\\n",
       "\tWyoming &  6.8 & 161 & 60 & 15.6\\\\\n",
       "\\end{tabular}\n",
       "\n",
       "\\end{description}\n",
       "\n",
       "\\end{enumerate}\n"
      ],
      "text/markdown": [
       "1. 1. 1. 653267890\n",
       "2. 890765321\n",
       "3. 87832987\n",
       "\n",
       "\n",
       "\n",
       "2. \n",
       "A matrix: 2 × 5 of type int\n",
       "\n",
       "| 1 | 3 | 5 | 7 |  9 |\n",
       "| 2 | 4 | 6 | 8 | 10 |\n",
       "\n",
       "\n",
       "3. \n",
       "A data.frame: 50 × 4\n",
       "\n",
       "| <!--/--> | Murder &lt;dbl&gt; | Assault &lt;int&gt; | UrbanPop &lt;int&gt; | Rape &lt;dbl&gt; |\n",
       "|---|---|---|---|---|\n",
       "| Alabama | 13.2 | 236 | 58 | 21.2 |\n",
       "| Alaska | 10.0 | 263 | 48 | 44.5 |\n",
       "| Arizona |  8.1 | 294 | 80 | 31.0 |\n",
       "| Arkansas |  8.8 | 190 | 50 | 19.5 |\n",
       "| California |  9.0 | 276 | 91 | 40.6 |\n",
       "| Colorado |  7.9 | 204 | 78 | 38.7 |\n",
       "| Connecticut |  3.3 | 110 | 77 | 11.1 |\n",
       "| Delaware |  5.9 | 238 | 72 | 15.8 |\n",
       "| Florida | 15.4 | 335 | 80 | 31.9 |\n",
       "| Georgia | 17.4 | 211 | 60 | 25.8 |\n",
       "| Hawaii |  5.3 |  46 | 83 | 20.2 |\n",
       "| Idaho |  2.6 | 120 | 54 | 14.2 |\n",
       "| Illinois | 10.4 | 249 | 83 | 24.0 |\n",
       "| Indiana |  7.2 | 113 | 65 | 21.0 |\n",
       "| Iowa |  2.2 |  56 | 57 | 11.3 |\n",
       "| Kansas |  6.0 | 115 | 66 | 18.0 |\n",
       "| Kentucky |  9.7 | 109 | 52 | 16.3 |\n",
       "| Louisiana | 15.4 | 249 | 66 | 22.2 |\n",
       "| Maine |  2.1 |  83 | 51 |  7.8 |\n",
       "| Maryland | 11.3 | 300 | 67 | 27.8 |\n",
       "| Massachusetts |  4.4 | 149 | 85 | 16.3 |\n",
       "| Michigan | 12.1 | 255 | 74 | 35.1 |\n",
       "| Minnesota |  2.7 |  72 | 66 | 14.9 |\n",
       "| Mississippi | 16.1 | 259 | 44 | 17.1 |\n",
       "| Missouri |  9.0 | 178 | 70 | 28.2 |\n",
       "| Montana |  6.0 | 109 | 53 | 16.4 |\n",
       "| Nebraska |  4.3 | 102 | 62 | 16.5 |\n",
       "| Nevada | 12.2 | 252 | 81 | 46.0 |\n",
       "| New Hampshire |  2.1 |  57 | 56 |  9.5 |\n",
       "| New Jersey |  7.4 | 159 | 89 | 18.8 |\n",
       "| New Mexico | 11.4 | 285 | 70 | 32.1 |\n",
       "| New York | 11.1 | 254 | 86 | 26.1 |\n",
       "| North Carolina | 13.0 | 337 | 45 | 16.1 |\n",
       "| North Dakota |  0.8 |  45 | 44 |  7.3 |\n",
       "| Ohio |  7.3 | 120 | 75 | 21.4 |\n",
       "| Oklahoma |  6.6 | 151 | 68 | 20.0 |\n",
       "| Oregon |  4.9 | 159 | 67 | 29.3 |\n",
       "| Pennsylvania |  6.3 | 106 | 72 | 14.9 |\n",
       "| Rhode Island |  3.4 | 174 | 87 |  8.3 |\n",
       "| South Carolina | 14.4 | 279 | 48 | 22.5 |\n",
       "| South Dakota |  3.8 |  86 | 45 | 12.8 |\n",
       "| Tennessee | 13.2 | 188 | 59 | 26.9 |\n",
       "| Texas | 12.7 | 201 | 80 | 25.5 |\n",
       "| Utah |  3.2 | 120 | 80 | 22.9 |\n",
       "| Vermont |  2.2 |  48 | 32 | 11.2 |\n",
       "| Virginia |  8.5 | 156 | 63 | 20.7 |\n",
       "| Washington |  4.0 | 145 | 73 | 26.2 |\n",
       "| West Virginia |  5.7 |  81 | 39 |  9.3 |\n",
       "| Wisconsin |  2.6 |  53 | 66 | 10.8 |\n",
       "| Wyoming |  6.8 | 161 | 60 | 15.6 |\n",
       "\n",
       "\n",
       "\n",
       "\n",
       "\n",
       "2. $contact\n",
       ":   1. 653267890\n",
       "2. 890765321\n",
       "3. 87832987\n",
       "\n",
       "\n",
       "\n",
       "$matrix1\n",
       ":   \n",
       "A matrix: 2 × 5 of type int\n",
       "\n",
       "| 1 | 3 | 5 | 7 |  9 |\n",
       "| 2 | 4 | 6 | 8 | 10 |\n",
       "\n",
       "\n",
       "$usarrests\n",
       ":   \n",
       "A data.frame: 50 × 4\n",
       "\n",
       "| <!--/--> | Murder &lt;dbl&gt; | Assault &lt;int&gt; | UrbanPop &lt;int&gt; | Rape &lt;dbl&gt; |\n",
       "|---|---|---|---|---|\n",
       "| Alabama | 13.2 | 236 | 58 | 21.2 |\n",
       "| Alaska | 10.0 | 263 | 48 | 44.5 |\n",
       "| Arizona |  8.1 | 294 | 80 | 31.0 |\n",
       "| Arkansas |  8.8 | 190 | 50 | 19.5 |\n",
       "| California |  9.0 | 276 | 91 | 40.6 |\n",
       "| Colorado |  7.9 | 204 | 78 | 38.7 |\n",
       "| Connecticut |  3.3 | 110 | 77 | 11.1 |\n",
       "| Delaware |  5.9 | 238 | 72 | 15.8 |\n",
       "| Florida | 15.4 | 335 | 80 | 31.9 |\n",
       "| Georgia | 17.4 | 211 | 60 | 25.8 |\n",
       "| Hawaii |  5.3 |  46 | 83 | 20.2 |\n",
       "| Idaho |  2.6 | 120 | 54 | 14.2 |\n",
       "| Illinois | 10.4 | 249 | 83 | 24.0 |\n",
       "| Indiana |  7.2 | 113 | 65 | 21.0 |\n",
       "| Iowa |  2.2 |  56 | 57 | 11.3 |\n",
       "| Kansas |  6.0 | 115 | 66 | 18.0 |\n",
       "| Kentucky |  9.7 | 109 | 52 | 16.3 |\n",
       "| Louisiana | 15.4 | 249 | 66 | 22.2 |\n",
       "| Maine |  2.1 |  83 | 51 |  7.8 |\n",
       "| Maryland | 11.3 | 300 | 67 | 27.8 |\n",
       "| Massachusetts |  4.4 | 149 | 85 | 16.3 |\n",
       "| Michigan | 12.1 | 255 | 74 | 35.1 |\n",
       "| Minnesota |  2.7 |  72 | 66 | 14.9 |\n",
       "| Mississippi | 16.1 | 259 | 44 | 17.1 |\n",
       "| Missouri |  9.0 | 178 | 70 | 28.2 |\n",
       "| Montana |  6.0 | 109 | 53 | 16.4 |\n",
       "| Nebraska |  4.3 | 102 | 62 | 16.5 |\n",
       "| Nevada | 12.2 | 252 | 81 | 46.0 |\n",
       "| New Hampshire |  2.1 |  57 | 56 |  9.5 |\n",
       "| New Jersey |  7.4 | 159 | 89 | 18.8 |\n",
       "| New Mexico | 11.4 | 285 | 70 | 32.1 |\n",
       "| New York | 11.1 | 254 | 86 | 26.1 |\n",
       "| North Carolina | 13.0 | 337 | 45 | 16.1 |\n",
       "| North Dakota |  0.8 |  45 | 44 |  7.3 |\n",
       "| Ohio |  7.3 | 120 | 75 | 21.4 |\n",
       "| Oklahoma |  6.6 | 151 | 68 | 20.0 |\n",
       "| Oregon |  4.9 | 159 | 67 | 29.3 |\n",
       "| Pennsylvania |  6.3 | 106 | 72 | 14.9 |\n",
       "| Rhode Island |  3.4 | 174 | 87 |  8.3 |\n",
       "| South Carolina | 14.4 | 279 | 48 | 22.5 |\n",
       "| South Dakota |  3.8 |  86 | 45 | 12.8 |\n",
       "| Tennessee | 13.2 | 188 | 59 | 26.9 |\n",
       "| Texas | 12.7 | 201 | 80 | 25.5 |\n",
       "| Utah |  3.2 | 120 | 80 | 22.9 |\n",
       "| Vermont |  2.2 |  48 | 32 | 11.2 |\n",
       "| Virginia |  8.5 | 156 | 63 | 20.7 |\n",
       "| Washington |  4.0 | 145 | 73 | 26.2 |\n",
       "| West Virginia |  5.7 |  81 | 39 |  9.3 |\n",
       "| Wisconsin |  2.6 |  53 | 66 | 10.8 |\n",
       "| Wyoming |  6.8 | 161 | 60 | 15.6 |\n",
       "\n",
       "\n",
       "\n",
       "\n",
       "\n",
       "\n",
       "\n"
      ],
      "text/plain": [
       "[[1]]\n",
       "[[1]][[1]]\n",
       "[1] 653267890 890765321  87832987\n",
       "\n",
       "[[1]][[2]]\n",
       "     [,1] [,2] [,3] [,4] [,5]\n",
       "[1,]    1    3    5    7    9\n",
       "[2,]    2    4    6    8   10\n",
       "\n",
       "[[1]][[3]]\n",
       "               Murder Assault UrbanPop Rape\n",
       "Alabama          13.2     236       58 21.2\n",
       "Alaska           10.0     263       48 44.5\n",
       "Arizona           8.1     294       80 31.0\n",
       "Arkansas          8.8     190       50 19.5\n",
       "California        9.0     276       91 40.6\n",
       "Colorado          7.9     204       78 38.7\n",
       "Connecticut       3.3     110       77 11.1\n",
       "Delaware          5.9     238       72 15.8\n",
       "Florida          15.4     335       80 31.9\n",
       "Georgia          17.4     211       60 25.8\n",
       "Hawaii            5.3      46       83 20.2\n",
       "Idaho             2.6     120       54 14.2\n",
       "Illinois         10.4     249       83 24.0\n",
       "Indiana           7.2     113       65 21.0\n",
       "Iowa              2.2      56       57 11.3\n",
       "Kansas            6.0     115       66 18.0\n",
       "Kentucky          9.7     109       52 16.3\n",
       "Louisiana        15.4     249       66 22.2\n",
       "Maine             2.1      83       51  7.8\n",
       "Maryland         11.3     300       67 27.8\n",
       "Massachusetts     4.4     149       85 16.3\n",
       "Michigan         12.1     255       74 35.1\n",
       "Minnesota         2.7      72       66 14.9\n",
       "Mississippi      16.1     259       44 17.1\n",
       "Missouri          9.0     178       70 28.2\n",
       "Montana           6.0     109       53 16.4\n",
       "Nebraska          4.3     102       62 16.5\n",
       "Nevada           12.2     252       81 46.0\n",
       "New Hampshire     2.1      57       56  9.5\n",
       "New Jersey        7.4     159       89 18.8\n",
       "New Mexico       11.4     285       70 32.1\n",
       "New York         11.1     254       86 26.1\n",
       "North Carolina   13.0     337       45 16.1\n",
       "North Dakota      0.8      45       44  7.3\n",
       "Ohio              7.3     120       75 21.4\n",
       "Oklahoma          6.6     151       68 20.0\n",
       "Oregon            4.9     159       67 29.3\n",
       "Pennsylvania      6.3     106       72 14.9\n",
       "Rhode Island      3.4     174       87  8.3\n",
       "South Carolina   14.4     279       48 22.5\n",
       "South Dakota      3.8      86       45 12.8\n",
       "Tennessee        13.2     188       59 26.9\n",
       "Texas            12.7     201       80 25.5\n",
       "Utah              3.2     120       80 22.9\n",
       "Vermont           2.2      48       32 11.2\n",
       "Virginia          8.5     156       63 20.7\n",
       "Washington        4.0     145       73 26.2\n",
       "West Virginia     5.7      81       39  9.3\n",
       "Wisconsin         2.6      53       66 10.8\n",
       "Wyoming           6.8     161       60 15.6\n",
       "\n",
       "\n",
       "[[2]]\n",
       "[[2]]$contact\n",
       "[1] 653267890 890765321  87832987\n",
       "\n",
       "[[2]]$matrix1\n",
       "     [,1] [,2] [,3] [,4] [,5]\n",
       "[1,]    1    3    5    7    9\n",
       "[2,]    2    4    6    8   10\n",
       "\n",
       "[[2]]$usarrests\n",
       "               Murder Assault UrbanPop Rape\n",
       "Alabama          13.2     236       58 21.2\n",
       "Alaska           10.0     263       48 44.5\n",
       "Arizona           8.1     294       80 31.0\n",
       "Arkansas          8.8     190       50 19.5\n",
       "California        9.0     276       91 40.6\n",
       "Colorado          7.9     204       78 38.7\n",
       "Connecticut       3.3     110       77 11.1\n",
       "Delaware          5.9     238       72 15.8\n",
       "Florida          15.4     335       80 31.9\n",
       "Georgia          17.4     211       60 25.8\n",
       "Hawaii            5.3      46       83 20.2\n",
       "Idaho             2.6     120       54 14.2\n",
       "Illinois         10.4     249       83 24.0\n",
       "Indiana           7.2     113       65 21.0\n",
       "Iowa              2.2      56       57 11.3\n",
       "Kansas            6.0     115       66 18.0\n",
       "Kentucky          9.7     109       52 16.3\n",
       "Louisiana        15.4     249       66 22.2\n",
       "Maine             2.1      83       51  7.8\n",
       "Maryland         11.3     300       67 27.8\n",
       "Massachusetts     4.4     149       85 16.3\n",
       "Michigan         12.1     255       74 35.1\n",
       "Minnesota         2.7      72       66 14.9\n",
       "Mississippi      16.1     259       44 17.1\n",
       "Missouri          9.0     178       70 28.2\n",
       "Montana           6.0     109       53 16.4\n",
       "Nebraska          4.3     102       62 16.5\n",
       "Nevada           12.2     252       81 46.0\n",
       "New Hampshire     2.1      57       56  9.5\n",
       "New Jersey        7.4     159       89 18.8\n",
       "New Mexico       11.4     285       70 32.1\n",
       "New York         11.1     254       86 26.1\n",
       "North Carolina   13.0     337       45 16.1\n",
       "North Dakota      0.8      45       44  7.3\n",
       "Ohio              7.3     120       75 21.4\n",
       "Oklahoma          6.6     151       68 20.0\n",
       "Oregon            4.9     159       67 29.3\n",
       "Pennsylvania      6.3     106       72 14.9\n",
       "Rhode Island      3.4     174       87  8.3\n",
       "South Carolina   14.4     279       48 22.5\n",
       "South Dakota      3.8      86       45 12.8\n",
       "Tennessee        13.2     188       59 26.9\n",
       "Texas            12.7     201       80 25.5\n",
       "Utah              3.2     120       80 22.9\n",
       "Vermont           2.2      48       32 11.2\n",
       "Virginia          8.5     156       63 20.7\n",
       "Washington        4.0     145       73 26.2\n",
       "West Virginia     5.7      81       39  9.3\n",
       "Wisconsin         2.6      53       66 10.8\n",
       "Wyoming           6.8     161       60 15.6\n",
       "\n"
      ]
     },
     "metadata": {},
     "output_type": "display_data"
    }
   ],
   "source": [
    "# Lists \n",
    "######################## Basics of Lists##########################\n",
    "# By definition a list allow us to combine different data structures into one single variable \n",
    "# let's create a vector , a data frame , and matrix.\n",
    "contact_no <- c(653267890 , 890765321 , 087832987) # --- a vector \n",
    "matrix_1 <- matrix(1:10 , nrow=2)\n",
    "df <- USArrests\n",
    "first_list <- list(contact_no , matrix_1 , df)\n",
    "first_list\n",
    "# the list contains 3 elements : contact no , matrix_1 , df \n",
    "# create a list where the elements are named \n",
    "Named_first_list <- list(contact = contact_no , matrix1 = matrix_1 , usarrests = df)\n",
    "Named_first_list\n",
    "\n",
    "\n",
    "################## object selection from Lists ####################\n",
    "\n",
    "# we can select the elements of the list using bracket notation \n",
    "Named_first_list[1] #-------- This will select the first element of the list \n",
    "# if you also know the name of the element you are interested in selecting from the list \n",
    "Named_first_list['usarrests']\n",
    "# Another way of doing it is using a dollar sign , an important thing to note here is that if we use the dollar sign , the class object is showed as a vector instead if we use the brackets to index , it showed the list item. \n",
    "# for instance lets use class function to illustrate that difference.\n",
    "Named_first_list['usarrests']\n",
    "class(Named_first_list['usarrests']) # notice the class is showed as list \n",
    "Named_first_list$contact\n",
    "class(Named_first_list$contact) # the class is showed as numeric \n",
    "\n",
    "#################### Lists made of lists :) #######################\n",
    "\n",
    "# List can also be made of others lists for organizational purposes. \n",
    "\n",
    "double.list <- list(first_list , Named_first_list)\n",
    "double.list\n"
   ]
  },
  {
   "cell_type": "code",
   "execution_count": null,
   "metadata": {},
   "outputs": [],
   "source": []
  }
 ],
 "metadata": {
  "kernelspec": {
   "display_name": "R",
   "language": "R",
   "name": "ir"
  },
  "language_info": {
   "codemirror_mode": "r",
   "file_extension": ".r",
   "mimetype": "text/x-r-source",
   "name": "R",
   "pygments_lexer": "r",
   "version": "3.6.2"
  }
 },
 "nbformat": 4,
 "nbformat_minor": 2
}
